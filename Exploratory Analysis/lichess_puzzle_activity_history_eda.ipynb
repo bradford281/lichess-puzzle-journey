{
  "cells": [
    {
      "cell_type": "markdown",
      "source": [
        "# Exploratory analysis of my Lichess puzzle activity\n",
        "---"
      ],
      "metadata": {
        "id": "IwjUklJI9Sr6"
      },
      "id": "IwjUklJI9Sr6"
    },
    {
      "cell_type": "markdown",
      "source": [
        "## Overview\n",
        "\n",
        "In this notebook, we take a look at my puzzle activity to see how my puzzle rating has changed over time and the effect some puzzle features have on my performance.\n"
      ],
      "metadata": {
        "id": "unvHNLbSxjK1"
      },
      "id": "unvHNLbSxjK1"
    },
    {
      "cell_type": "markdown",
      "source": [
        "## Contents\n",
        "\n",
        "1. [Import the required packages and load the data](#import)\n",
        "2. [My puzzle rating over time](#rating)\n",
        "3. [My win rate](#win-rate)"
      ],
      "metadata": {
        "id": "KXben0FmxloG"
      },
      "id": "KXben0FmxloG"
    },
    {
      "cell_type": "markdown",
      "source": [
        "# Import the required packages and load the data<a name='import'></a>\n",
        "---\n",
        "\n",
        "We'll use the following packages.\n",
        "- [`pandas`](https://pandas.pydata.org/docs/) for processing the data.\n",
        "- [`rpy2`](https://rpy2.github.io/doc/v3.0.x/html/index.html) for its [`ggplot2`](https://rpy2.github.io/doc/v3.0.x/html/graphics.html#package-ggplot2) visualizations."
      ],
      "metadata": {
        "id": "ER1H_tgX92-_"
      },
      "id": "ER1H_tgX92-_"
    },
    {
      "cell_type": "code",
      "execution_count": null,
      "id": "3196c943",
      "metadata": {
        "id": "3196c943",
        "colab": {
          "base_uri": "https://localhost:8080/"
        },
        "outputId": "5ce0aa33-78db-438c-c66d-582f98fe307e"
      },
      "outputs": [
        {
          "output_type": "stream",
          "name": "stdout",
          "text": [
            "Looking in indexes: https://pypi.org/simple, https://us-python.pkg.dev/colab-wheels/public/simple/\n",
            "Collecting rpy2==3.5.1\n",
            "  Downloading rpy2-3.5.1.tar.gz (201 kB)\n",
            "\u001b[2K     \u001b[90m━━━━━━━━━━━━━━━━━━━━━━━━━━━━━━━━━━━━━━━\u001b[0m \u001b[32m201.7/201.7 kB\u001b[0m \u001b[31m3.1 MB/s\u001b[0m eta \u001b[36m0:00:00\u001b[0m\n",
            "\u001b[?25h  Preparing metadata (setup.py) ... \u001b[?25l\u001b[?25hdone\n",
            "Requirement already satisfied: cffi>=1.10.0 in /usr/local/lib/python3.10/dist-packages (from rpy2==3.5.1) (1.15.1)\n",
            "Requirement already satisfied: jinja2 in /usr/local/lib/python3.10/dist-packages (from rpy2==3.5.1) (3.1.2)\n",
            "Requirement already satisfied: pytz in /usr/local/lib/python3.10/dist-packages (from rpy2==3.5.1) (2022.7.1)\n",
            "Requirement already satisfied: tzlocal in /usr/local/lib/python3.10/dist-packages (from rpy2==3.5.1) (4.3)\n",
            "Requirement already satisfied: pycparser in /usr/local/lib/python3.10/dist-packages (from cffi>=1.10.0->rpy2==3.5.1) (2.21)\n",
            "Requirement already satisfied: MarkupSafe>=2.0 in /usr/local/lib/python3.10/dist-packages (from jinja2->rpy2==3.5.1) (2.1.2)\n",
            "Requirement already satisfied: pytz-deprecation-shim in /usr/local/lib/python3.10/dist-packages (from tzlocal->rpy2==3.5.1) (0.1.0.post0)\n",
            "Requirement already satisfied: tzdata in /usr/local/lib/python3.10/dist-packages (from pytz-deprecation-shim->tzlocal->rpy2==3.5.1) (2023.3)\n",
            "Building wheels for collected packages: rpy2\n",
            "  Building wheel for rpy2 (setup.py) ... \u001b[?25l\u001b[?25hdone\n",
            "  Created wheel for rpy2: filename=rpy2-3.5.1-cp310-cp310-linux_x86_64.whl size=318085 sha256=1645f0967ff7ffad929751c9671cbbc6ab983a6056d451b3fec415e45ba9be42\n",
            "  Stored in directory: /root/.cache/pip/wheels/73/a6/ff/4e75dd1ce1cfa2b9a670cbccf6a1e41c553199e9b25f05d953\n",
            "Successfully built rpy2\n",
            "Installing collected packages: rpy2\n",
            "  Attempting uninstall: rpy2\n",
            "    Found existing installation: rpy2 3.5.5\n",
            "    Uninstalling rpy2-3.5.5:\n",
            "      Successfully uninstalled rpy2-3.5.5\n",
            "Successfully installed rpy2-3.5.1\n"
          ]
        }
      ],
      "source": [
        "import pandas as pd\n",
        "\n",
        "!pip install rpy2==3.5.1 #Newer versions of `ryp2` were causing issues.\n",
        "\n",
        "%reload_ext rpy2.ipython"
      ]
    },
    {
      "cell_type": "markdown",
      "source": [
        "The cell below uses `%%R` to run some `R` code that installs and loads the `tidyverse` packages needed to create our visualizations with `ggplot2`. We'll also use `lubridate` to make it easier to work with dates and datetimes, as well as `patchwork` to easily combine figures."
      ],
      "metadata": {
        "id": "LjaafLiBjuSj"
      },
      "id": "LjaafLiBjuSj"
    },
    {
      "cell_type": "code",
      "source": [
        "%%R\n",
        "install.packages(\"tidyverse\")\n",
        "install.packages(\"lubridate\")\n",
        "install.packages(\"patchwork\")\n",
        "\n",
        "library(\"tidyverse\")\n",
        "library(\"lubridate\")\n",
        "library(\"patchwork\")"
      ],
      "metadata": {
        "id": "ZaELBlgi0JHf",
        "colab": {
          "base_uri": "https://localhost:8080/"
        },
        "outputId": "93987edc-6f83-4735-a506-58a0dfbabeff"
      },
      "execution_count": null,
      "outputs": [
        {
          "output_type": "stream",
          "name": "stderr",
          "text": [
            "WARNING:rpy2.rinterface_lib.callbacks:R[write to console]: Installing package into ‘/usr/local/lib/R/site-library’\n",
            "(as ‘lib’ is unspecified)\n",
            "\n",
            "WARNING:rpy2.rinterface_lib.callbacks:R[write to console]: also installing the dependencies ‘textshaping’, ‘ragg’\n",
            "\n",
            "\n",
            "WARNING:rpy2.rinterface_lib.callbacks:R[write to console]: trying URL 'https://cran.rstudio.com/src/contrib/textshaping_0.3.6.tar.gz'\n",
            "\n",
            "WARNING:rpy2.rinterface_lib.callbacks:R[write to console]: Content type 'application/x-gzip'\n",
            "WARNING:rpy2.rinterface_lib.callbacks:R[write to console]:  length 35722 bytes (34 KB)\n",
            "\n",
            "WARNING:rpy2.rinterface_lib.callbacks:R[write to console]: =\n",
            "WARNING:rpy2.rinterface_lib.callbacks:R[write to console]: =\n",
            "WARNING:rpy2.rinterface_lib.callbacks:R[write to console]: =\n",
            "WARNING:rpy2.rinterface_lib.callbacks:R[write to console]: =\n",
            "WARNING:rpy2.rinterface_lib.callbacks:R[write to console]: =\n",
            "WARNING:rpy2.rinterface_lib.callbacks:R[write to console]: =\n",
            "WARNING:rpy2.rinterface_lib.callbacks:R[write to console]: =\n",
            "WARNING:rpy2.rinterface_lib.callbacks:R[write to console]: =\n",
            "WARNING:rpy2.rinterface_lib.callbacks:R[write to console]: =\n",
            "WARNING:rpy2.rinterface_lib.callbacks:R[write to console]: =\n",
            "WARNING:rpy2.rinterface_lib.callbacks:R[write to console]: =\n",
            "WARNING:rpy2.rinterface_lib.callbacks:R[write to console]: =\n",
            "WARNING:rpy2.rinterface_lib.callbacks:R[write to console]: =\n",
            "WARNING:rpy2.rinterface_lib.callbacks:R[write to console]: =\n",
            "WARNING:rpy2.rinterface_lib.callbacks:R[write to console]: =\n",
            "WARNING:rpy2.rinterface_lib.callbacks:R[write to console]: =\n",
            "WARNING:rpy2.rinterface_lib.callbacks:R[write to console]: =\n",
            "WARNING:rpy2.rinterface_lib.callbacks:R[write to console]: =\n",
            "WARNING:rpy2.rinterface_lib.callbacks:R[write to console]: =\n",
            "WARNING:rpy2.rinterface_lib.callbacks:R[write to console]: =\n",
            "WARNING:rpy2.rinterface_lib.callbacks:R[write to console]: =\n",
            "WARNING:rpy2.rinterface_lib.callbacks:R[write to console]: =\n",
            "WARNING:rpy2.rinterface_lib.callbacks:R[write to console]: =\n",
            "WARNING:rpy2.rinterface_lib.callbacks:R[write to console]: =\n",
            "WARNING:rpy2.rinterface_lib.callbacks:R[write to console]: =\n",
            "WARNING:rpy2.rinterface_lib.callbacks:R[write to console]: =\n",
            "WARNING:rpy2.rinterface_lib.callbacks:R[write to console]: =\n",
            "WARNING:rpy2.rinterface_lib.callbacks:R[write to console]: =\n",
            "WARNING:rpy2.rinterface_lib.callbacks:R[write to console]: =\n",
            "WARNING:rpy2.rinterface_lib.callbacks:R[write to console]: =\n",
            "WARNING:rpy2.rinterface_lib.callbacks:R[write to console]: =\n",
            "WARNING:rpy2.rinterface_lib.callbacks:R[write to console]: =\n",
            "WARNING:rpy2.rinterface_lib.callbacks:R[write to console]: =\n",
            "WARNING:rpy2.rinterface_lib.callbacks:R[write to console]: =\n",
            "WARNING:rpy2.rinterface_lib.callbacks:R[write to console]: =\n",
            "WARNING:rpy2.rinterface_lib.callbacks:R[write to console]: =\n",
            "WARNING:rpy2.rinterface_lib.callbacks:R[write to console]: =\n",
            "WARNING:rpy2.rinterface_lib.callbacks:R[write to console]: =\n",
            "WARNING:rpy2.rinterface_lib.callbacks:R[write to console]: =\n",
            "WARNING:rpy2.rinterface_lib.callbacks:R[write to console]: =\n",
            "WARNING:rpy2.rinterface_lib.callbacks:R[write to console]: =\n",
            "WARNING:rpy2.rinterface_lib.callbacks:R[write to console]: =\n",
            "WARNING:rpy2.rinterface_lib.callbacks:R[write to console]: =\n",
            "WARNING:rpy2.rinterface_lib.callbacks:R[write to console]: =\n",
            "WARNING:rpy2.rinterface_lib.callbacks:R[write to console]: =\n",
            "WARNING:rpy2.rinterface_lib.callbacks:R[write to console]: =\n",
            "WARNING:rpy2.rinterface_lib.callbacks:R[write to console]: =\n",
            "WARNING:rpy2.rinterface_lib.callbacks:R[write to console]: =\n",
            "WARNING:rpy2.rinterface_lib.callbacks:R[write to console]: =\n",
            "WARNING:rpy2.rinterface_lib.callbacks:R[write to console]: =\n",
            "WARNING:rpy2.rinterface_lib.callbacks:R[write to console]: \n",
            "\n",
            "WARNING:rpy2.rinterface_lib.callbacks:R[write to console]: downloaded 34 KB\n",
            "\n",
            "\n",
            "WARNING:rpy2.rinterface_lib.callbacks:R[write to console]: trying URL 'https://cran.rstudio.com/src/contrib/ragg_1.2.5.tar.gz'\n",
            "\n",
            "WARNING:rpy2.rinterface_lib.callbacks:R[write to console]: Content type 'application/x-gzip'\n",
            "WARNING:rpy2.rinterface_lib.callbacks:R[write to console]:  length 427859 bytes (417 KB)\n",
            "\n",
            "WARNING:rpy2.rinterface_lib.callbacks:R[write to console]: =\n",
            "WARNING:rpy2.rinterface_lib.callbacks:R[write to console]: =\n",
            "WARNING:rpy2.rinterface_lib.callbacks:R[write to console]: =\n",
            "WARNING:rpy2.rinterface_lib.callbacks:R[write to console]: =\n",
            "WARNING:rpy2.rinterface_lib.callbacks:R[write to console]: =\n",
            "WARNING:rpy2.rinterface_lib.callbacks:R[write to console]: =\n",
            "WARNING:rpy2.rinterface_lib.callbacks:R[write to console]: =\n",
            "WARNING:rpy2.rinterface_lib.callbacks:R[write to console]: =\n",
            "WARNING:rpy2.rinterface_lib.callbacks:R[write to console]: =\n",
            "WARNING:rpy2.rinterface_lib.callbacks:R[write to console]: =\n",
            "WARNING:rpy2.rinterface_lib.callbacks:R[write to console]: =\n",
            "WARNING:rpy2.rinterface_lib.callbacks:R[write to console]: =\n",
            "WARNING:rpy2.rinterface_lib.callbacks:R[write to console]: =\n",
            "WARNING:rpy2.rinterface_lib.callbacks:R[write to console]: =\n",
            "WARNING:rpy2.rinterface_lib.callbacks:R[write to console]: =\n",
            "WARNING:rpy2.rinterface_lib.callbacks:R[write to console]: =\n",
            "WARNING:rpy2.rinterface_lib.callbacks:R[write to console]: =\n",
            "WARNING:rpy2.rinterface_lib.callbacks:R[write to console]: =\n",
            "WARNING:rpy2.rinterface_lib.callbacks:R[write to console]: =\n",
            "WARNING:rpy2.rinterface_lib.callbacks:R[write to console]: =\n",
            "WARNING:rpy2.rinterface_lib.callbacks:R[write to console]: =\n",
            "WARNING:rpy2.rinterface_lib.callbacks:R[write to console]: =\n",
            "WARNING:rpy2.rinterface_lib.callbacks:R[write to console]: =\n",
            "WARNING:rpy2.rinterface_lib.callbacks:R[write to console]: =\n",
            "WARNING:rpy2.rinterface_lib.callbacks:R[write to console]: =\n",
            "WARNING:rpy2.rinterface_lib.callbacks:R[write to console]: =\n",
            "WARNING:rpy2.rinterface_lib.callbacks:R[write to console]: =\n",
            "WARNING:rpy2.rinterface_lib.callbacks:R[write to console]: =\n",
            "WARNING:rpy2.rinterface_lib.callbacks:R[write to console]: =\n",
            "WARNING:rpy2.rinterface_lib.callbacks:R[write to console]: =\n",
            "WARNING:rpy2.rinterface_lib.callbacks:R[write to console]: =\n",
            "WARNING:rpy2.rinterface_lib.callbacks:R[write to console]: =\n",
            "WARNING:rpy2.rinterface_lib.callbacks:R[write to console]: =\n",
            "WARNING:rpy2.rinterface_lib.callbacks:R[write to console]: =\n",
            "WARNING:rpy2.rinterface_lib.callbacks:R[write to console]: =\n",
            "WARNING:rpy2.rinterface_lib.callbacks:R[write to console]: =\n",
            "WARNING:rpy2.rinterface_lib.callbacks:R[write to console]: =\n",
            "WARNING:rpy2.rinterface_lib.callbacks:R[write to console]: =\n",
            "WARNING:rpy2.rinterface_lib.callbacks:R[write to console]: =\n",
            "WARNING:rpy2.rinterface_lib.callbacks:R[write to console]: =\n",
            "WARNING:rpy2.rinterface_lib.callbacks:R[write to console]: =\n",
            "WARNING:rpy2.rinterface_lib.callbacks:R[write to console]: =\n",
            "WARNING:rpy2.rinterface_lib.callbacks:R[write to console]: =\n",
            "WARNING:rpy2.rinterface_lib.callbacks:R[write to console]: =\n",
            "WARNING:rpy2.rinterface_lib.callbacks:R[write to console]: =\n",
            "WARNING:rpy2.rinterface_lib.callbacks:R[write to console]: =\n",
            "WARNING:rpy2.rinterface_lib.callbacks:R[write to console]: =\n",
            "WARNING:rpy2.rinterface_lib.callbacks:R[write to console]: =\n",
            "WARNING:rpy2.rinterface_lib.callbacks:R[write to console]: =\n",
            "WARNING:rpy2.rinterface_lib.callbacks:R[write to console]: =\n",
            "WARNING:rpy2.rinterface_lib.callbacks:R[write to console]: \n",
            "\n",
            "WARNING:rpy2.rinterface_lib.callbacks:R[write to console]: downloaded 417 KB\n",
            "\n",
            "\n",
            "WARNING:rpy2.rinterface_lib.callbacks:R[write to console]: trying URL 'https://cran.rstudio.com/src/contrib/tidyverse_2.0.0.tar.gz'\n",
            "\n",
            "WARNING:rpy2.rinterface_lib.callbacks:R[write to console]: Content type 'application/x-gzip'\n",
            "WARNING:rpy2.rinterface_lib.callbacks:R[write to console]:  length 704618 bytes (688 KB)\n",
            "\n",
            "WARNING:rpy2.rinterface_lib.callbacks:R[write to console]: =\n",
            "WARNING:rpy2.rinterface_lib.callbacks:R[write to console]: =\n",
            "WARNING:rpy2.rinterface_lib.callbacks:R[write to console]: =\n",
            "WARNING:rpy2.rinterface_lib.callbacks:R[write to console]: =\n",
            "WARNING:rpy2.rinterface_lib.callbacks:R[write to console]: =\n",
            "WARNING:rpy2.rinterface_lib.callbacks:R[write to console]: =\n",
            "WARNING:rpy2.rinterface_lib.callbacks:R[write to console]: =\n",
            "WARNING:rpy2.rinterface_lib.callbacks:R[write to console]: =\n",
            "WARNING:rpy2.rinterface_lib.callbacks:R[write to console]: =\n",
            "WARNING:rpy2.rinterface_lib.callbacks:R[write to console]: =\n",
            "WARNING:rpy2.rinterface_lib.callbacks:R[write to console]: =\n",
            "WARNING:rpy2.rinterface_lib.callbacks:R[write to console]: =\n",
            "WARNING:rpy2.rinterface_lib.callbacks:R[write to console]: =\n",
            "WARNING:rpy2.rinterface_lib.callbacks:R[write to console]: =\n",
            "WARNING:rpy2.rinterface_lib.callbacks:R[write to console]: =\n",
            "WARNING:rpy2.rinterface_lib.callbacks:R[write to console]: =\n",
            "WARNING:rpy2.rinterface_lib.callbacks:R[write to console]: =\n",
            "WARNING:rpy2.rinterface_lib.callbacks:R[write to console]: =\n",
            "WARNING:rpy2.rinterface_lib.callbacks:R[write to console]: =\n",
            "WARNING:rpy2.rinterface_lib.callbacks:R[write to console]: =\n",
            "WARNING:rpy2.rinterface_lib.callbacks:R[write to console]: =\n",
            "WARNING:rpy2.rinterface_lib.callbacks:R[write to console]: =\n",
            "WARNING:rpy2.rinterface_lib.callbacks:R[write to console]: =\n",
            "WARNING:rpy2.rinterface_lib.callbacks:R[write to console]: =\n",
            "WARNING:rpy2.rinterface_lib.callbacks:R[write to console]: =\n",
            "WARNING:rpy2.rinterface_lib.callbacks:R[write to console]: =\n",
            "WARNING:rpy2.rinterface_lib.callbacks:R[write to console]: =\n",
            "WARNING:rpy2.rinterface_lib.callbacks:R[write to console]: =\n",
            "WARNING:rpy2.rinterface_lib.callbacks:R[write to console]: =\n",
            "WARNING:rpy2.rinterface_lib.callbacks:R[write to console]: =\n",
            "WARNING:rpy2.rinterface_lib.callbacks:R[write to console]: =\n",
            "WARNING:rpy2.rinterface_lib.callbacks:R[write to console]: =\n",
            "WARNING:rpy2.rinterface_lib.callbacks:R[write to console]: =\n",
            "WARNING:rpy2.rinterface_lib.callbacks:R[write to console]: =\n",
            "WARNING:rpy2.rinterface_lib.callbacks:R[write to console]: =\n",
            "WARNING:rpy2.rinterface_lib.callbacks:R[write to console]: =\n",
            "WARNING:rpy2.rinterface_lib.callbacks:R[write to console]: =\n",
            "WARNING:rpy2.rinterface_lib.callbacks:R[write to console]: =\n",
            "WARNING:rpy2.rinterface_lib.callbacks:R[write to console]: =\n",
            "WARNING:rpy2.rinterface_lib.callbacks:R[write to console]: =\n",
            "WARNING:rpy2.rinterface_lib.callbacks:R[write to console]: =\n",
            "WARNING:rpy2.rinterface_lib.callbacks:R[write to console]: =\n",
            "WARNING:rpy2.rinterface_lib.callbacks:R[write to console]: =\n",
            "WARNING:rpy2.rinterface_lib.callbacks:R[write to console]: =\n",
            "WARNING:rpy2.rinterface_lib.callbacks:R[write to console]: =\n",
            "WARNING:rpy2.rinterface_lib.callbacks:R[write to console]: =\n",
            "WARNING:rpy2.rinterface_lib.callbacks:R[write to console]: =\n",
            "WARNING:rpy2.rinterface_lib.callbacks:R[write to console]: =\n",
            "WARNING:rpy2.rinterface_lib.callbacks:R[write to console]: =\n",
            "WARNING:rpy2.rinterface_lib.callbacks:R[write to console]: =\n",
            "WARNING:rpy2.rinterface_lib.callbacks:R[write to console]: \n",
            "\n",
            "WARNING:rpy2.rinterface_lib.callbacks:R[write to console]: downloaded 688 KB\n",
            "\n",
            "\n",
            "WARNING:rpy2.rinterface_lib.callbacks:R[write to console]: \n",
            "\n",
            "WARNING:rpy2.rinterface_lib.callbacks:R[write to console]: \n",
            "WARNING:rpy2.rinterface_lib.callbacks:R[write to console]: The downloaded source packages are in\n",
            "\t‘/tmp/Rtmp7qwJTa/downloaded_packages’\n",
            "WARNING:rpy2.rinterface_lib.callbacks:R[write to console]: \n",
            "WARNING:rpy2.rinterface_lib.callbacks:R[write to console]: \n",
            "\n",
            "WARNING:rpy2.rinterface_lib.callbacks:R[write to console]: Installing package into ‘/usr/local/lib/R/site-library’\n",
            "(as ‘lib’ is unspecified)\n",
            "\n",
            "WARNING:rpy2.rinterface_lib.callbacks:R[write to console]: trying URL 'https://cran.rstudio.com/src/contrib/lubridate_1.9.2.tar.gz'\n",
            "\n",
            "WARNING:rpy2.rinterface_lib.callbacks:R[write to console]: Content type 'application/x-gzip'\n",
            "WARNING:rpy2.rinterface_lib.callbacks:R[write to console]:  length 427200 bytes (417 KB)\n",
            "\n",
            "WARNING:rpy2.rinterface_lib.callbacks:R[write to console]: =\n",
            "WARNING:rpy2.rinterface_lib.callbacks:R[write to console]: =\n",
            "WARNING:rpy2.rinterface_lib.callbacks:R[write to console]: =\n",
            "WARNING:rpy2.rinterface_lib.callbacks:R[write to console]: =\n",
            "WARNING:rpy2.rinterface_lib.callbacks:R[write to console]: =\n",
            "WARNING:rpy2.rinterface_lib.callbacks:R[write to console]: =\n",
            "WARNING:rpy2.rinterface_lib.callbacks:R[write to console]: =\n",
            "WARNING:rpy2.rinterface_lib.callbacks:R[write to console]: =\n",
            "WARNING:rpy2.rinterface_lib.callbacks:R[write to console]: =\n",
            "WARNING:rpy2.rinterface_lib.callbacks:R[write to console]: =\n",
            "WARNING:rpy2.rinterface_lib.callbacks:R[write to console]: =\n",
            "WARNING:rpy2.rinterface_lib.callbacks:R[write to console]: =\n",
            "WARNING:rpy2.rinterface_lib.callbacks:R[write to console]: =\n",
            "WARNING:rpy2.rinterface_lib.callbacks:R[write to console]: =\n",
            "WARNING:rpy2.rinterface_lib.callbacks:R[write to console]: =\n",
            "WARNING:rpy2.rinterface_lib.callbacks:R[write to console]: =\n",
            "WARNING:rpy2.rinterface_lib.callbacks:R[write to console]: =\n",
            "WARNING:rpy2.rinterface_lib.callbacks:R[write to console]: =\n",
            "WARNING:rpy2.rinterface_lib.callbacks:R[write to console]: =\n",
            "WARNING:rpy2.rinterface_lib.callbacks:R[write to console]: =\n",
            "WARNING:rpy2.rinterface_lib.callbacks:R[write to console]: =\n",
            "WARNING:rpy2.rinterface_lib.callbacks:R[write to console]: =\n",
            "WARNING:rpy2.rinterface_lib.callbacks:R[write to console]: =\n",
            "WARNING:rpy2.rinterface_lib.callbacks:R[write to console]: =\n",
            "WARNING:rpy2.rinterface_lib.callbacks:R[write to console]: =\n",
            "WARNING:rpy2.rinterface_lib.callbacks:R[write to console]: =\n",
            "WARNING:rpy2.rinterface_lib.callbacks:R[write to console]: =\n",
            "WARNING:rpy2.rinterface_lib.callbacks:R[write to console]: =\n",
            "WARNING:rpy2.rinterface_lib.callbacks:R[write to console]: =\n",
            "WARNING:rpy2.rinterface_lib.callbacks:R[write to console]: =\n",
            "WARNING:rpy2.rinterface_lib.callbacks:R[write to console]: =\n",
            "WARNING:rpy2.rinterface_lib.callbacks:R[write to console]: =\n",
            "WARNING:rpy2.rinterface_lib.callbacks:R[write to console]: =\n",
            "WARNING:rpy2.rinterface_lib.callbacks:R[write to console]: =\n",
            "WARNING:rpy2.rinterface_lib.callbacks:R[write to console]: =\n",
            "WARNING:rpy2.rinterface_lib.callbacks:R[write to console]: =\n",
            "WARNING:rpy2.rinterface_lib.callbacks:R[write to console]: =\n",
            "WARNING:rpy2.rinterface_lib.callbacks:R[write to console]: =\n",
            "WARNING:rpy2.rinterface_lib.callbacks:R[write to console]: =\n",
            "WARNING:rpy2.rinterface_lib.callbacks:R[write to console]: =\n",
            "WARNING:rpy2.rinterface_lib.callbacks:R[write to console]: =\n",
            "WARNING:rpy2.rinterface_lib.callbacks:R[write to console]: =\n",
            "WARNING:rpy2.rinterface_lib.callbacks:R[write to console]: =\n",
            "WARNING:rpy2.rinterface_lib.callbacks:R[write to console]: =\n",
            "WARNING:rpy2.rinterface_lib.callbacks:R[write to console]: =\n",
            "WARNING:rpy2.rinterface_lib.callbacks:R[write to console]: =\n",
            "WARNING:rpy2.rinterface_lib.callbacks:R[write to console]: =\n",
            "WARNING:rpy2.rinterface_lib.callbacks:R[write to console]: =\n",
            "WARNING:rpy2.rinterface_lib.callbacks:R[write to console]: =\n",
            "WARNING:rpy2.rinterface_lib.callbacks:R[write to console]: =\n",
            "WARNING:rpy2.rinterface_lib.callbacks:R[write to console]: \n",
            "\n",
            "WARNING:rpy2.rinterface_lib.callbacks:R[write to console]: downloaded 417 KB\n",
            "\n",
            "\n",
            "WARNING:rpy2.rinterface_lib.callbacks:R[write to console]: \n",
            "\n",
            "WARNING:rpy2.rinterface_lib.callbacks:R[write to console]: \n",
            "WARNING:rpy2.rinterface_lib.callbacks:R[write to console]: The downloaded source packages are in\n",
            "\t‘/tmp/Rtmp7qwJTa/downloaded_packages’\n",
            "WARNING:rpy2.rinterface_lib.callbacks:R[write to console]: \n",
            "WARNING:rpy2.rinterface_lib.callbacks:R[write to console]: \n",
            "\n",
            "WARNING:rpy2.rinterface_lib.callbacks:R[write to console]: Installing package into ‘/usr/local/lib/R/site-library’\n",
            "(as ‘lib’ is unspecified)\n",
            "\n",
            "WARNING:rpy2.rinterface_lib.callbacks:R[write to console]: trying URL 'https://cran.rstudio.com/src/contrib/patchwork_1.1.2.tar.gz'\n",
            "\n",
            "WARNING:rpy2.rinterface_lib.callbacks:R[write to console]: Content type 'application/x-gzip'\n",
            "WARNING:rpy2.rinterface_lib.callbacks:R[write to console]:  length 3192018 bytes (3.0 MB)\n",
            "\n",
            "WARNING:rpy2.rinterface_lib.callbacks:R[write to console]: =\n",
            "WARNING:rpy2.rinterface_lib.callbacks:R[write to console]: =\n",
            "WARNING:rpy2.rinterface_lib.callbacks:R[write to console]: =\n",
            "WARNING:rpy2.rinterface_lib.callbacks:R[write to console]: =\n",
            "WARNING:rpy2.rinterface_lib.callbacks:R[write to console]: =\n",
            "WARNING:rpy2.rinterface_lib.callbacks:R[write to console]: =\n",
            "WARNING:rpy2.rinterface_lib.callbacks:R[write to console]: =\n",
            "WARNING:rpy2.rinterface_lib.callbacks:R[write to console]: =\n",
            "WARNING:rpy2.rinterface_lib.callbacks:R[write to console]: =\n",
            "WARNING:rpy2.rinterface_lib.callbacks:R[write to console]: =\n",
            "WARNING:rpy2.rinterface_lib.callbacks:R[write to console]: =\n",
            "WARNING:rpy2.rinterface_lib.callbacks:R[write to console]: =\n",
            "WARNING:rpy2.rinterface_lib.callbacks:R[write to console]: =\n",
            "WARNING:rpy2.rinterface_lib.callbacks:R[write to console]: =\n",
            "WARNING:rpy2.rinterface_lib.callbacks:R[write to console]: =\n",
            "WARNING:rpy2.rinterface_lib.callbacks:R[write to console]: =\n",
            "WARNING:rpy2.rinterface_lib.callbacks:R[write to console]: =\n",
            "WARNING:rpy2.rinterface_lib.callbacks:R[write to console]: =\n",
            "WARNING:rpy2.rinterface_lib.callbacks:R[write to console]: =\n",
            "WARNING:rpy2.rinterface_lib.callbacks:R[write to console]: =\n",
            "WARNING:rpy2.rinterface_lib.callbacks:R[write to console]: =\n",
            "WARNING:rpy2.rinterface_lib.callbacks:R[write to console]: =\n",
            "WARNING:rpy2.rinterface_lib.callbacks:R[write to console]: =\n",
            "WARNING:rpy2.rinterface_lib.callbacks:R[write to console]: =\n",
            "WARNING:rpy2.rinterface_lib.callbacks:R[write to console]: =\n",
            "WARNING:rpy2.rinterface_lib.callbacks:R[write to console]: =\n",
            "WARNING:rpy2.rinterface_lib.callbacks:R[write to console]: =\n",
            "WARNING:rpy2.rinterface_lib.callbacks:R[write to console]: =\n",
            "WARNING:rpy2.rinterface_lib.callbacks:R[write to console]: =\n",
            "WARNING:rpy2.rinterface_lib.callbacks:R[write to console]: =\n",
            "WARNING:rpy2.rinterface_lib.callbacks:R[write to console]: =\n",
            "WARNING:rpy2.rinterface_lib.callbacks:R[write to console]: =\n",
            "WARNING:rpy2.rinterface_lib.callbacks:R[write to console]: =\n",
            "WARNING:rpy2.rinterface_lib.callbacks:R[write to console]: =\n",
            "WARNING:rpy2.rinterface_lib.callbacks:R[write to console]: =\n",
            "WARNING:rpy2.rinterface_lib.callbacks:R[write to console]: =\n",
            "WARNING:rpy2.rinterface_lib.callbacks:R[write to console]: =\n",
            "WARNING:rpy2.rinterface_lib.callbacks:R[write to console]: =\n",
            "WARNING:rpy2.rinterface_lib.callbacks:R[write to console]: =\n",
            "WARNING:rpy2.rinterface_lib.callbacks:R[write to console]: =\n",
            "WARNING:rpy2.rinterface_lib.callbacks:R[write to console]: =\n",
            "WARNING:rpy2.rinterface_lib.callbacks:R[write to console]: =\n",
            "WARNING:rpy2.rinterface_lib.callbacks:R[write to console]: =\n",
            "WARNING:rpy2.rinterface_lib.callbacks:R[write to console]: =\n",
            "WARNING:rpy2.rinterface_lib.callbacks:R[write to console]: =\n",
            "WARNING:rpy2.rinterface_lib.callbacks:R[write to console]: =\n",
            "WARNING:rpy2.rinterface_lib.callbacks:R[write to console]: =\n",
            "WARNING:rpy2.rinterface_lib.callbacks:R[write to console]: =\n",
            "WARNING:rpy2.rinterface_lib.callbacks:R[write to console]: =\n",
            "WARNING:rpy2.rinterface_lib.callbacks:R[write to console]: =\n",
            "WARNING:rpy2.rinterface_lib.callbacks:R[write to console]: \n",
            "\n",
            "WARNING:rpy2.rinterface_lib.callbacks:R[write to console]: downloaded 3.0 MB\n",
            "\n",
            "\n",
            "WARNING:rpy2.rinterface_lib.callbacks:R[write to console]: \n",
            "\n",
            "WARNING:rpy2.rinterface_lib.callbacks:R[write to console]: \n",
            "WARNING:rpy2.rinterface_lib.callbacks:R[write to console]: The downloaded source packages are in\n",
            "\t‘/tmp/Rtmp7qwJTa/downloaded_packages’\n",
            "WARNING:rpy2.rinterface_lib.callbacks:R[write to console]: \n",
            "WARNING:rpy2.rinterface_lib.callbacks:R[write to console]: \n",
            "\n"
          ]
        }
      ],
      "id": "ZaELBlgi0JHf"
    },
    {
      "cell_type": "markdown",
      "source": [
        "## Puzzle activity\n",
        "\n",
        "Now let's load the `tclark_puzzle_activity_clean.csv` data from `puzzle_journey_data_collection_processing.ipynb`.\n",
        "\n"
      ],
      "metadata": {
        "id": "CDSZRPBz8ygw"
      },
      "id": "CDSZRPBz8ygw"
    },
    {
      "cell_type": "code",
      "source": [
        "puzzle_activity_df = pd.read_csv('tclark_puzzle_activity_clean.csv')\n",
        "\n",
        "puzzle_activity_df.head()"
      ],
      "metadata": {
        "id": "hX52Lh4m85r6",
        "colab": {
          "base_uri": "https://localhost:8080/",
          "height": 206
        },
        "outputId": "7194a81b-6a53-4b07-a70d-485b114ff1cd"
      },
      "id": "hX52Lh4m85r6",
      "execution_count": null,
      "outputs": [
        {
          "output_type": "execute_result",
          "data": {
            "text/plain": [
              "      id                     date   win  puzzleRating\n",
              "0  nhQA7  2023-03-30 20:14:18.719  True          1871\n",
              "1  0BoYj  2023-03-30 20:12:38.469  True          1686\n",
              "2  Yq8Ld  2023-03-27 17:50:22.328  True          1913\n",
              "3  49u5p  2023-03-27 17:49:40.924  True          1933\n",
              "4  mQPeh  2023-03-27 17:49:04.291  True          1756"
            ],
            "text/html": [
              "\n",
              "  <div id=\"df-f53c92ac-329e-4062-84a1-b51c4f689e42\">\n",
              "    <div class=\"colab-df-container\">\n",
              "      <div>\n",
              "<style scoped>\n",
              "    .dataframe tbody tr th:only-of-type {\n",
              "        vertical-align: middle;\n",
              "    }\n",
              "\n",
              "    .dataframe tbody tr th {\n",
              "        vertical-align: top;\n",
              "    }\n",
              "\n",
              "    .dataframe thead th {\n",
              "        text-align: right;\n",
              "    }\n",
              "</style>\n",
              "<table border=\"1\" class=\"dataframe\">\n",
              "  <thead>\n",
              "    <tr style=\"text-align: right;\">\n",
              "      <th></th>\n",
              "      <th>id</th>\n",
              "      <th>date</th>\n",
              "      <th>win</th>\n",
              "      <th>puzzleRating</th>\n",
              "    </tr>\n",
              "  </thead>\n",
              "  <tbody>\n",
              "    <tr>\n",
              "      <th>0</th>\n",
              "      <td>nhQA7</td>\n",
              "      <td>2023-03-30 20:14:18.719</td>\n",
              "      <td>True</td>\n",
              "      <td>1871</td>\n",
              "    </tr>\n",
              "    <tr>\n",
              "      <th>1</th>\n",
              "      <td>0BoYj</td>\n",
              "      <td>2023-03-30 20:12:38.469</td>\n",
              "      <td>True</td>\n",
              "      <td>1686</td>\n",
              "    </tr>\n",
              "    <tr>\n",
              "      <th>2</th>\n",
              "      <td>Yq8Ld</td>\n",
              "      <td>2023-03-27 17:50:22.328</td>\n",
              "      <td>True</td>\n",
              "      <td>1913</td>\n",
              "    </tr>\n",
              "    <tr>\n",
              "      <th>3</th>\n",
              "      <td>49u5p</td>\n",
              "      <td>2023-03-27 17:49:40.924</td>\n",
              "      <td>True</td>\n",
              "      <td>1933</td>\n",
              "    </tr>\n",
              "    <tr>\n",
              "      <th>4</th>\n",
              "      <td>mQPeh</td>\n",
              "      <td>2023-03-27 17:49:04.291</td>\n",
              "      <td>True</td>\n",
              "      <td>1756</td>\n",
              "    </tr>\n",
              "  </tbody>\n",
              "</table>\n",
              "</div>\n",
              "      <button class=\"colab-df-convert\" onclick=\"convertToInteractive('df-f53c92ac-329e-4062-84a1-b51c4f689e42')\"\n",
              "              title=\"Convert this dataframe to an interactive table.\"\n",
              "              style=\"display:none;\">\n",
              "        \n",
              "  <svg xmlns=\"http://www.w3.org/2000/svg\" height=\"24px\"viewBox=\"0 0 24 24\"\n",
              "       width=\"24px\">\n",
              "    <path d=\"M0 0h24v24H0V0z\" fill=\"none\"/>\n",
              "    <path d=\"M18.56 5.44l.94 2.06.94-2.06 2.06-.94-2.06-.94-.94-2.06-.94 2.06-2.06.94zm-11 1L8.5 8.5l.94-2.06 2.06-.94-2.06-.94L8.5 2.5l-.94 2.06-2.06.94zm10 10l.94 2.06.94-2.06 2.06-.94-2.06-.94-.94-2.06-.94 2.06-2.06.94z\"/><path d=\"M17.41 7.96l-1.37-1.37c-.4-.4-.92-.59-1.43-.59-.52 0-1.04.2-1.43.59L10.3 9.45l-7.72 7.72c-.78.78-.78 2.05 0 2.83L4 21.41c.39.39.9.59 1.41.59.51 0 1.02-.2 1.41-.59l7.78-7.78 2.81-2.81c.8-.78.8-2.07 0-2.86zM5.41 20L4 18.59l7.72-7.72 1.47 1.35L5.41 20z\"/>\n",
              "  </svg>\n",
              "      </button>\n",
              "      \n",
              "  <style>\n",
              "    .colab-df-container {\n",
              "      display:flex;\n",
              "      flex-wrap:wrap;\n",
              "      gap: 12px;\n",
              "    }\n",
              "\n",
              "    .colab-df-convert {\n",
              "      background-color: #E8F0FE;\n",
              "      border: none;\n",
              "      border-radius: 50%;\n",
              "      cursor: pointer;\n",
              "      display: none;\n",
              "      fill: #1967D2;\n",
              "      height: 32px;\n",
              "      padding: 0 0 0 0;\n",
              "      width: 32px;\n",
              "    }\n",
              "\n",
              "    .colab-df-convert:hover {\n",
              "      background-color: #E2EBFA;\n",
              "      box-shadow: 0px 1px 2px rgba(60, 64, 67, 0.3), 0px 1px 3px 1px rgba(60, 64, 67, 0.15);\n",
              "      fill: #174EA6;\n",
              "    }\n",
              "\n",
              "    [theme=dark] .colab-df-convert {\n",
              "      background-color: #3B4455;\n",
              "      fill: #D2E3FC;\n",
              "    }\n",
              "\n",
              "    [theme=dark] .colab-df-convert:hover {\n",
              "      background-color: #434B5C;\n",
              "      box-shadow: 0px 1px 3px 1px rgba(0, 0, 0, 0.15);\n",
              "      filter: drop-shadow(0px 1px 2px rgba(0, 0, 0, 0.3));\n",
              "      fill: #FFFFFF;\n",
              "    }\n",
              "  </style>\n",
              "\n",
              "      <script>\n",
              "        const buttonEl =\n",
              "          document.querySelector('#df-f53c92ac-329e-4062-84a1-b51c4f689e42 button.colab-df-convert');\n",
              "        buttonEl.style.display =\n",
              "          google.colab.kernel.accessAllowed ? 'block' : 'none';\n",
              "\n",
              "        async function convertToInteractive(key) {\n",
              "          const element = document.querySelector('#df-f53c92ac-329e-4062-84a1-b51c4f689e42');\n",
              "          const dataTable =\n",
              "            await google.colab.kernel.invokeFunction('convertToInteractive',\n",
              "                                                     [key], {});\n",
              "          if (!dataTable) return;\n",
              "\n",
              "          const docLinkHtml = 'Like what you see? Visit the ' +\n",
              "            '<a target=\"_blank\" href=https://colab.research.google.com/notebooks/data_table.ipynb>data table notebook</a>'\n",
              "            + ' to learn more about interactive tables.';\n",
              "          element.innerHTML = '';\n",
              "          dataTable['output_type'] = 'display_data';\n",
              "          await google.colab.output.renderOutput(dataTable, element);\n",
              "          const docLink = document.createElement('div');\n",
              "          docLink.innerHTML = docLinkHtml;\n",
              "          element.appendChild(docLink);\n",
              "        }\n",
              "      </script>\n",
              "    </div>\n",
              "  </div>\n",
              "  "
            ]
          },
          "metadata": {},
          "execution_count": 3
        }
      ]
    },
    {
      "cell_type": "markdown",
      "source": [
        "Let's see how many puzzles I played."
      ],
      "metadata": {
        "id": "rSjzAA1dFcyS"
      },
      "id": "rSjzAA1dFcyS"
    },
    {
      "cell_type": "code",
      "source": [
        "puzzle_activity_df.shape"
      ],
      "metadata": {
        "colab": {
          "base_uri": "https://localhost:8080/"
        },
        "id": "G1npIRujFioO",
        "outputId": "b0fc8df2-132b-48fa-c0a3-6192098e3d2b"
      },
      "id": "G1npIRujFioO",
      "execution_count": null,
      "outputs": [
        {
          "output_type": "execute_result",
          "data": {
            "text/plain": [
              "(1716, 4)"
            ]
          },
          "metadata": {},
          "execution_count": 4
        }
      ]
    },
    {
      "cell_type": "markdown",
      "source": [
        "Push `puzzle_activity_df` to the `R` namespace."
      ],
      "metadata": {
        "id": "10iMwCdmIt9z"
      },
      "id": "10iMwCdmIt9z"
    },
    {
      "cell_type": "code",
      "source": [
        "%Rpush puzzle_activity_df"
      ],
      "metadata": {
        "colab": {
          "base_uri": "https://localhost:8080/"
        },
        "id": "qeHvoK7jIw-x",
        "outputId": "fe7cbdb4-314f-43df-eb10-2fbc49f73f31"
      },
      "id": "qeHvoK7jIw-x",
      "execution_count": null,
      "outputs": [
        {
          "output_type": "stream",
          "name": "stderr",
          "text": [
            "/usr/local/lib/python3.10/dist-packages/rpy2/robjects/pandas2ri.py:54: FutureWarning: iteritems is deprecated and will be removed in a future version. Use .items instead.\n",
            "  for name, values in obj.iteritems():\n"
          ]
        }
      ]
    },
    {
      "cell_type": "markdown",
      "source": [
        "## Rating history\n",
        "\n",
        "Next, the `tclark_puzzle_rating_history_clean.csv` data."
      ],
      "metadata": {
        "id": "v9LGYR2p9VXa"
      },
      "id": "v9LGYR2p9VXa"
    },
    {
      "cell_type": "code",
      "source": [
        "puzzle_rating_history_df = pd.read_csv('tclark_puzzle_rating_history_clean.csv')\n",
        "\n",
        "puzzle_rating_history_df.head()"
      ],
      "metadata": {
        "id": "yb7Ud8uo9Bu8",
        "colab": {
          "base_uri": "https://localhost:8080/",
          "height": 206
        },
        "outputId": "bdd8945c-1a18-453d-acad-42b2bded3e02"
      },
      "id": "yb7Ud8uo9Bu8",
      "execution_count": null,
      "outputs": [
        {
          "output_type": "execute_result",
          "data": {
            "text/plain": [
              "   year  month  day  rating\n",
              "0  2022      2   20    1423\n",
              "1  2022      3   12    1482\n",
              "2  2022      3   13    1443\n",
              "3  2022      3   14    1486\n",
              "4  2022      3   15    1510"
            ],
            "text/html": [
              "\n",
              "  <div id=\"df-214f1bb9-3a71-481f-8ca7-ef6551126aa2\">\n",
              "    <div class=\"colab-df-container\">\n",
              "      <div>\n",
              "<style scoped>\n",
              "    .dataframe tbody tr th:only-of-type {\n",
              "        vertical-align: middle;\n",
              "    }\n",
              "\n",
              "    .dataframe tbody tr th {\n",
              "        vertical-align: top;\n",
              "    }\n",
              "\n",
              "    .dataframe thead th {\n",
              "        text-align: right;\n",
              "    }\n",
              "</style>\n",
              "<table border=\"1\" class=\"dataframe\">\n",
              "  <thead>\n",
              "    <tr style=\"text-align: right;\">\n",
              "      <th></th>\n",
              "      <th>year</th>\n",
              "      <th>month</th>\n",
              "      <th>day</th>\n",
              "      <th>rating</th>\n",
              "    </tr>\n",
              "  </thead>\n",
              "  <tbody>\n",
              "    <tr>\n",
              "      <th>0</th>\n",
              "      <td>2022</td>\n",
              "      <td>2</td>\n",
              "      <td>20</td>\n",
              "      <td>1423</td>\n",
              "    </tr>\n",
              "    <tr>\n",
              "      <th>1</th>\n",
              "      <td>2022</td>\n",
              "      <td>3</td>\n",
              "      <td>12</td>\n",
              "      <td>1482</td>\n",
              "    </tr>\n",
              "    <tr>\n",
              "      <th>2</th>\n",
              "      <td>2022</td>\n",
              "      <td>3</td>\n",
              "      <td>13</td>\n",
              "      <td>1443</td>\n",
              "    </tr>\n",
              "    <tr>\n",
              "      <th>3</th>\n",
              "      <td>2022</td>\n",
              "      <td>3</td>\n",
              "      <td>14</td>\n",
              "      <td>1486</td>\n",
              "    </tr>\n",
              "    <tr>\n",
              "      <th>4</th>\n",
              "      <td>2022</td>\n",
              "      <td>3</td>\n",
              "      <td>15</td>\n",
              "      <td>1510</td>\n",
              "    </tr>\n",
              "  </tbody>\n",
              "</table>\n",
              "</div>\n",
              "      <button class=\"colab-df-convert\" onclick=\"convertToInteractive('df-214f1bb9-3a71-481f-8ca7-ef6551126aa2')\"\n",
              "              title=\"Convert this dataframe to an interactive table.\"\n",
              "              style=\"display:none;\">\n",
              "        \n",
              "  <svg xmlns=\"http://www.w3.org/2000/svg\" height=\"24px\"viewBox=\"0 0 24 24\"\n",
              "       width=\"24px\">\n",
              "    <path d=\"M0 0h24v24H0V0z\" fill=\"none\"/>\n",
              "    <path d=\"M18.56 5.44l.94 2.06.94-2.06 2.06-.94-2.06-.94-.94-2.06-.94 2.06-2.06.94zm-11 1L8.5 8.5l.94-2.06 2.06-.94-2.06-.94L8.5 2.5l-.94 2.06-2.06.94zm10 10l.94 2.06.94-2.06 2.06-.94-2.06-.94-.94-2.06-.94 2.06-2.06.94z\"/><path d=\"M17.41 7.96l-1.37-1.37c-.4-.4-.92-.59-1.43-.59-.52 0-1.04.2-1.43.59L10.3 9.45l-7.72 7.72c-.78.78-.78 2.05 0 2.83L4 21.41c.39.39.9.59 1.41.59.51 0 1.02-.2 1.41-.59l7.78-7.78 2.81-2.81c.8-.78.8-2.07 0-2.86zM5.41 20L4 18.59l7.72-7.72 1.47 1.35L5.41 20z\"/>\n",
              "  </svg>\n",
              "      </button>\n",
              "      \n",
              "  <style>\n",
              "    .colab-df-container {\n",
              "      display:flex;\n",
              "      flex-wrap:wrap;\n",
              "      gap: 12px;\n",
              "    }\n",
              "\n",
              "    .colab-df-convert {\n",
              "      background-color: #E8F0FE;\n",
              "      border: none;\n",
              "      border-radius: 50%;\n",
              "      cursor: pointer;\n",
              "      display: none;\n",
              "      fill: #1967D2;\n",
              "      height: 32px;\n",
              "      padding: 0 0 0 0;\n",
              "      width: 32px;\n",
              "    }\n",
              "\n",
              "    .colab-df-convert:hover {\n",
              "      background-color: #E2EBFA;\n",
              "      box-shadow: 0px 1px 2px rgba(60, 64, 67, 0.3), 0px 1px 3px 1px rgba(60, 64, 67, 0.15);\n",
              "      fill: #174EA6;\n",
              "    }\n",
              "\n",
              "    [theme=dark] .colab-df-convert {\n",
              "      background-color: #3B4455;\n",
              "      fill: #D2E3FC;\n",
              "    }\n",
              "\n",
              "    [theme=dark] .colab-df-convert:hover {\n",
              "      background-color: #434B5C;\n",
              "      box-shadow: 0px 1px 3px 1px rgba(0, 0, 0, 0.15);\n",
              "      filter: drop-shadow(0px 1px 2px rgba(0, 0, 0, 0.3));\n",
              "      fill: #FFFFFF;\n",
              "    }\n",
              "  </style>\n",
              "\n",
              "      <script>\n",
              "        const buttonEl =\n",
              "          document.querySelector('#df-214f1bb9-3a71-481f-8ca7-ef6551126aa2 button.colab-df-convert');\n",
              "        buttonEl.style.display =\n",
              "          google.colab.kernel.accessAllowed ? 'block' : 'none';\n",
              "\n",
              "        async function convertToInteractive(key) {\n",
              "          const element = document.querySelector('#df-214f1bb9-3a71-481f-8ca7-ef6551126aa2');\n",
              "          const dataTable =\n",
              "            await google.colab.kernel.invokeFunction('convertToInteractive',\n",
              "                                                     [key], {});\n",
              "          if (!dataTable) return;\n",
              "\n",
              "          const docLinkHtml = 'Like what you see? Visit the ' +\n",
              "            '<a target=\"_blank\" href=https://colab.research.google.com/notebooks/data_table.ipynb>data table notebook</a>'\n",
              "            + ' to learn more about interactive tables.';\n",
              "          element.innerHTML = '';\n",
              "          dataTable['output_type'] = 'display_data';\n",
              "          await google.colab.output.renderOutput(dataTable, element);\n",
              "          const docLink = document.createElement('div');\n",
              "          docLink.innerHTML = docLinkHtml;\n",
              "          element.appendChild(docLink);\n",
              "        }\n",
              "      </script>\n",
              "    </div>\n",
              "  </div>\n",
              "  "
            ]
          },
          "metadata": {},
          "execution_count": 6
        }
      ]
    },
    {
      "cell_type": "markdown",
      "source": [
        "Let's combine the `year`, `month`, and `day` columns into a single `date` column."
      ],
      "metadata": {
        "id": "K9PwS3EF89rF"
      },
      "id": "K9PwS3EF89rF"
    },
    {
      "cell_type": "code",
      "source": [
        "puzzle_rating_history_df['date'] = pd.to_datetime(puzzle_rating_history_df[['year', 'month', 'day']])\n",
        "\n",
        "puzzle_rating_history_df.head()"
      ],
      "metadata": {
        "colab": {
          "base_uri": "https://localhost:8080/",
          "height": 206
        },
        "id": "sZoNSWHN8yXI",
        "outputId": "3ff7a645-2cd8-4deb-e4c9-f73e4877fe45"
      },
      "id": "sZoNSWHN8yXI",
      "execution_count": null,
      "outputs": [
        {
          "output_type": "execute_result",
          "data": {
            "text/plain": [
              "   year  month  day  rating       date\n",
              "0  2022      2   20    1423 2022-02-20\n",
              "1  2022      3   12    1482 2022-03-12\n",
              "2  2022      3   13    1443 2022-03-13\n",
              "3  2022      3   14    1486 2022-03-14\n",
              "4  2022      3   15    1510 2022-03-15"
            ],
            "text/html": [
              "\n",
              "  <div id=\"df-8e9f5d14-65f9-4b16-8e15-7e07416efcdf\">\n",
              "    <div class=\"colab-df-container\">\n",
              "      <div>\n",
              "<style scoped>\n",
              "    .dataframe tbody tr th:only-of-type {\n",
              "        vertical-align: middle;\n",
              "    }\n",
              "\n",
              "    .dataframe tbody tr th {\n",
              "        vertical-align: top;\n",
              "    }\n",
              "\n",
              "    .dataframe thead th {\n",
              "        text-align: right;\n",
              "    }\n",
              "</style>\n",
              "<table border=\"1\" class=\"dataframe\">\n",
              "  <thead>\n",
              "    <tr style=\"text-align: right;\">\n",
              "      <th></th>\n",
              "      <th>year</th>\n",
              "      <th>month</th>\n",
              "      <th>day</th>\n",
              "      <th>rating</th>\n",
              "      <th>date</th>\n",
              "    </tr>\n",
              "  </thead>\n",
              "  <tbody>\n",
              "    <tr>\n",
              "      <th>0</th>\n",
              "      <td>2022</td>\n",
              "      <td>2</td>\n",
              "      <td>20</td>\n",
              "      <td>1423</td>\n",
              "      <td>2022-02-20</td>\n",
              "    </tr>\n",
              "    <tr>\n",
              "      <th>1</th>\n",
              "      <td>2022</td>\n",
              "      <td>3</td>\n",
              "      <td>12</td>\n",
              "      <td>1482</td>\n",
              "      <td>2022-03-12</td>\n",
              "    </tr>\n",
              "    <tr>\n",
              "      <th>2</th>\n",
              "      <td>2022</td>\n",
              "      <td>3</td>\n",
              "      <td>13</td>\n",
              "      <td>1443</td>\n",
              "      <td>2022-03-13</td>\n",
              "    </tr>\n",
              "    <tr>\n",
              "      <th>3</th>\n",
              "      <td>2022</td>\n",
              "      <td>3</td>\n",
              "      <td>14</td>\n",
              "      <td>1486</td>\n",
              "      <td>2022-03-14</td>\n",
              "    </tr>\n",
              "    <tr>\n",
              "      <th>4</th>\n",
              "      <td>2022</td>\n",
              "      <td>3</td>\n",
              "      <td>15</td>\n",
              "      <td>1510</td>\n",
              "      <td>2022-03-15</td>\n",
              "    </tr>\n",
              "  </tbody>\n",
              "</table>\n",
              "</div>\n",
              "      <button class=\"colab-df-convert\" onclick=\"convertToInteractive('df-8e9f5d14-65f9-4b16-8e15-7e07416efcdf')\"\n",
              "              title=\"Convert this dataframe to an interactive table.\"\n",
              "              style=\"display:none;\">\n",
              "        \n",
              "  <svg xmlns=\"http://www.w3.org/2000/svg\" height=\"24px\"viewBox=\"0 0 24 24\"\n",
              "       width=\"24px\">\n",
              "    <path d=\"M0 0h24v24H0V0z\" fill=\"none\"/>\n",
              "    <path d=\"M18.56 5.44l.94 2.06.94-2.06 2.06-.94-2.06-.94-.94-2.06-.94 2.06-2.06.94zm-11 1L8.5 8.5l.94-2.06 2.06-.94-2.06-.94L8.5 2.5l-.94 2.06-2.06.94zm10 10l.94 2.06.94-2.06 2.06-.94-2.06-.94-.94-2.06-.94 2.06-2.06.94z\"/><path d=\"M17.41 7.96l-1.37-1.37c-.4-.4-.92-.59-1.43-.59-.52 0-1.04.2-1.43.59L10.3 9.45l-7.72 7.72c-.78.78-.78 2.05 0 2.83L4 21.41c.39.39.9.59 1.41.59.51 0 1.02-.2 1.41-.59l7.78-7.78 2.81-2.81c.8-.78.8-2.07 0-2.86zM5.41 20L4 18.59l7.72-7.72 1.47 1.35L5.41 20z\"/>\n",
              "  </svg>\n",
              "      </button>\n",
              "      \n",
              "  <style>\n",
              "    .colab-df-container {\n",
              "      display:flex;\n",
              "      flex-wrap:wrap;\n",
              "      gap: 12px;\n",
              "    }\n",
              "\n",
              "    .colab-df-convert {\n",
              "      background-color: #E8F0FE;\n",
              "      border: none;\n",
              "      border-radius: 50%;\n",
              "      cursor: pointer;\n",
              "      display: none;\n",
              "      fill: #1967D2;\n",
              "      height: 32px;\n",
              "      padding: 0 0 0 0;\n",
              "      width: 32px;\n",
              "    }\n",
              "\n",
              "    .colab-df-convert:hover {\n",
              "      background-color: #E2EBFA;\n",
              "      box-shadow: 0px 1px 2px rgba(60, 64, 67, 0.3), 0px 1px 3px 1px rgba(60, 64, 67, 0.15);\n",
              "      fill: #174EA6;\n",
              "    }\n",
              "\n",
              "    [theme=dark] .colab-df-convert {\n",
              "      background-color: #3B4455;\n",
              "      fill: #D2E3FC;\n",
              "    }\n",
              "\n",
              "    [theme=dark] .colab-df-convert:hover {\n",
              "      background-color: #434B5C;\n",
              "      box-shadow: 0px 1px 3px 1px rgba(0, 0, 0, 0.15);\n",
              "      filter: drop-shadow(0px 1px 2px rgba(0, 0, 0, 0.3));\n",
              "      fill: #FFFFFF;\n",
              "    }\n",
              "  </style>\n",
              "\n",
              "      <script>\n",
              "        const buttonEl =\n",
              "          document.querySelector('#df-8e9f5d14-65f9-4b16-8e15-7e07416efcdf button.colab-df-convert');\n",
              "        buttonEl.style.display =\n",
              "          google.colab.kernel.accessAllowed ? 'block' : 'none';\n",
              "\n",
              "        async function convertToInteractive(key) {\n",
              "          const element = document.querySelector('#df-8e9f5d14-65f9-4b16-8e15-7e07416efcdf');\n",
              "          const dataTable =\n",
              "            await google.colab.kernel.invokeFunction('convertToInteractive',\n",
              "                                                     [key], {});\n",
              "          if (!dataTable) return;\n",
              "\n",
              "          const docLinkHtml = 'Like what you see? Visit the ' +\n",
              "            '<a target=\"_blank\" href=https://colab.research.google.com/notebooks/data_table.ipynb>data table notebook</a>'\n",
              "            + ' to learn more about interactive tables.';\n",
              "          element.innerHTML = '';\n",
              "          dataTable['output_type'] = 'display_data';\n",
              "          await google.colab.output.renderOutput(dataTable, element);\n",
              "          const docLink = document.createElement('div');\n",
              "          docLink.innerHTML = docLinkHtml;\n",
              "          element.appendChild(docLink);\n",
              "        }\n",
              "      </script>\n",
              "    </div>\n",
              "  </div>\n",
              "  "
            ]
          },
          "metadata": {},
          "execution_count": 7
        }
      ]
    },
    {
      "cell_type": "markdown",
      "source": [
        "Now, push this to the `R` namespace."
      ],
      "metadata": {
        "id": "8RSnE3lk9Uon"
      },
      "id": "8RSnE3lk9Uon"
    },
    {
      "cell_type": "code",
      "source": [
        "%Rpush puzzle_rating_history_df"
      ],
      "metadata": {
        "colab": {
          "base_uri": "https://localhost:8080/"
        },
        "id": "0IoIv9_q9XQ0",
        "outputId": "c8224973-e571-41b0-cff9-d6587dc00cdd"
      },
      "id": "0IoIv9_q9XQ0",
      "execution_count": null,
      "outputs": [
        {
          "output_type": "stream",
          "name": "stderr",
          "text": [
            "/usr/local/lib/python3.10/dist-packages/rpy2/robjects/pandas2ri.py:54: FutureWarning: iteritems is deprecated and will be removed in a future version. Use .items instead.\n",
            "  for name, values in obj.iteritems():\n",
            "/usr/local/lib/python3.10/dist-packages/pandas/core/arrays/datetimes.py:2177: PytzUsageWarning: The zone attribute is specific to pytz's interface; please migrate to a new time zone provider. For more details on how to do so, see https://pytz-deprecation-shim.readthedocs.io/en/latest/migration.html\n",
            "  result, tz_parsed = tslib.array_to_datetime(\n"
          ]
        }
      ]
    },
    {
      "cell_type": "markdown",
      "source": [
        "## Puzzles database\n",
        "\n",
        "We'll also need the `lichess_db_puzzle_clean.csv` data."
      ],
      "metadata": {
        "id": "e35H3Sxb9i0I"
      },
      "id": "e35H3Sxb9i0I"
    },
    {
      "cell_type": "code",
      "source": [
        "puzzles_df = pd.read_csv('lichess_db_puzzle_clean.csv')\n",
        "\n",
        "puzzles_df.head()"
      ],
      "metadata": {
        "id": "Gdr8f9Xl9h_y",
        "colab": {
          "base_uri": "https://localhost:8080/",
          "height": 600
        },
        "outputId": "ffa0117d-204c-410d-b3fb-6396e181481d"
      },
      "id": "Gdr8f9Xl9h_y",
      "execution_count": null,
      "outputs": [
        {
          "output_type": "execute_result",
          "data": {
            "text/plain": [
              "  Puzzle_ID                                                FEN  \\\n",
              "0     00008  r6k/pp2r2p/4Rp1Q/3p4/8/1N1P2R1/PqP2bPP/7K b - ...   \n",
              "1     0000D  5rk1/1p3ppp/pq3b2/8/8/1P1Q1N2/P4PPP/3R2K1 w - ...   \n",
              "2     0009B  r2qr1k1/b1p2ppp/pp4n1/P1P1p3/4P1n1/B2P2Pb/3NBP...   \n",
              "3     000Vc             8/8/4k1p1/2KpP2p/5PP1/8/8/8 w - - 0 53   \n",
              "4     000Zo  4r3/1k6/pp3r2/1b2P2p/3R1p2/P1R2P2/1P4PP/6K1 w ...   \n",
              "\n",
              "                           Moves  Rating  Rating_Deviation  Popularity  \\\n",
              "0  f2g3 e6e7 b2b1 b3c1 b1c1 h6c1    1925                74          95   \n",
              "1            d3d6 f8d8 d6d8 f6d8    1518                75          96   \n",
              "2            b6c5 e2g4 h3g4 d1g4    1172                75          86   \n",
              "3  g4h5 g6h5 f4f5 e6e5 f5f6 e5f6    1565                81          89   \n",
              "4            e5f6 e8e1 g1f2 e1f1    1520                75         100   \n",
              "\n",
              "   Number_of_Plays                                 Themes  \\\n",
              "0             3136  crushing hangingPiece long middlegame   \n",
              "1            19577                advantage endgame short   \n",
              "2              538             advantage middlegame short   \n",
              "3               80      crushing endgame long pawnEndgame   \n",
              "4              169             endgame mate mateIn2 short   \n",
              "\n",
              "                                     URL  \\\n",
              "0  https://lichess.org/787zsVup/black#48   \n",
              "1        https://lichess.org/F8M8OS71#53   \n",
              "2  https://lichess.org/4MWQCxQ6/black#32   \n",
              "3       https://lichess.org/l6AejDMO#105   \n",
              "4        https://lichess.org/n8Ff742v#69   \n",
              "\n",
              "                                        Opening_Tags  Puzzle_Length  \n",
              "0                                                NaN              5  \n",
              "1                                                NaN              3  \n",
              "2  Kings_Pawn_Game Kings_Pawn_Game_Leonardis_Vari...              3  \n",
              "3                                                NaN              5  \n",
              "4                                                NaN              3  "
            ],
            "text/html": [
              "\n",
              "  <div id=\"df-bab2f69a-4c3b-4228-a7da-1f09d3755aee\">\n",
              "    <div class=\"colab-df-container\">\n",
              "      <div>\n",
              "<style scoped>\n",
              "    .dataframe tbody tr th:only-of-type {\n",
              "        vertical-align: middle;\n",
              "    }\n",
              "\n",
              "    .dataframe tbody tr th {\n",
              "        vertical-align: top;\n",
              "    }\n",
              "\n",
              "    .dataframe thead th {\n",
              "        text-align: right;\n",
              "    }\n",
              "</style>\n",
              "<table border=\"1\" class=\"dataframe\">\n",
              "  <thead>\n",
              "    <tr style=\"text-align: right;\">\n",
              "      <th></th>\n",
              "      <th>Puzzle_ID</th>\n",
              "      <th>FEN</th>\n",
              "      <th>Moves</th>\n",
              "      <th>Rating</th>\n",
              "      <th>Rating_Deviation</th>\n",
              "      <th>Popularity</th>\n",
              "      <th>Number_of_Plays</th>\n",
              "      <th>Themes</th>\n",
              "      <th>URL</th>\n",
              "      <th>Opening_Tags</th>\n",
              "      <th>Puzzle_Length</th>\n",
              "    </tr>\n",
              "  </thead>\n",
              "  <tbody>\n",
              "    <tr>\n",
              "      <th>0</th>\n",
              "      <td>00008</td>\n",
              "      <td>r6k/pp2r2p/4Rp1Q/3p4/8/1N1P2R1/PqP2bPP/7K b - ...</td>\n",
              "      <td>f2g3 e6e7 b2b1 b3c1 b1c1 h6c1</td>\n",
              "      <td>1925</td>\n",
              "      <td>74</td>\n",
              "      <td>95</td>\n",
              "      <td>3136</td>\n",
              "      <td>crushing hangingPiece long middlegame</td>\n",
              "      <td>https://lichess.org/787zsVup/black#48</td>\n",
              "      <td>NaN</td>\n",
              "      <td>5</td>\n",
              "    </tr>\n",
              "    <tr>\n",
              "      <th>1</th>\n",
              "      <td>0000D</td>\n",
              "      <td>5rk1/1p3ppp/pq3b2/8/8/1P1Q1N2/P4PPP/3R2K1 w - ...</td>\n",
              "      <td>d3d6 f8d8 d6d8 f6d8</td>\n",
              "      <td>1518</td>\n",
              "      <td>75</td>\n",
              "      <td>96</td>\n",
              "      <td>19577</td>\n",
              "      <td>advantage endgame short</td>\n",
              "      <td>https://lichess.org/F8M8OS71#53</td>\n",
              "      <td>NaN</td>\n",
              "      <td>3</td>\n",
              "    </tr>\n",
              "    <tr>\n",
              "      <th>2</th>\n",
              "      <td>0009B</td>\n",
              "      <td>r2qr1k1/b1p2ppp/pp4n1/P1P1p3/4P1n1/B2P2Pb/3NBP...</td>\n",
              "      <td>b6c5 e2g4 h3g4 d1g4</td>\n",
              "      <td>1172</td>\n",
              "      <td>75</td>\n",
              "      <td>86</td>\n",
              "      <td>538</td>\n",
              "      <td>advantage middlegame short</td>\n",
              "      <td>https://lichess.org/4MWQCxQ6/black#32</td>\n",
              "      <td>Kings_Pawn_Game Kings_Pawn_Game_Leonardis_Vari...</td>\n",
              "      <td>3</td>\n",
              "    </tr>\n",
              "    <tr>\n",
              "      <th>3</th>\n",
              "      <td>000Vc</td>\n",
              "      <td>8/8/4k1p1/2KpP2p/5PP1/8/8/8 w - - 0 53</td>\n",
              "      <td>g4h5 g6h5 f4f5 e6e5 f5f6 e5f6</td>\n",
              "      <td>1565</td>\n",
              "      <td>81</td>\n",
              "      <td>89</td>\n",
              "      <td>80</td>\n",
              "      <td>crushing endgame long pawnEndgame</td>\n",
              "      <td>https://lichess.org/l6AejDMO#105</td>\n",
              "      <td>NaN</td>\n",
              "      <td>5</td>\n",
              "    </tr>\n",
              "    <tr>\n",
              "      <th>4</th>\n",
              "      <td>000Zo</td>\n",
              "      <td>4r3/1k6/pp3r2/1b2P2p/3R1p2/P1R2P2/1P4PP/6K1 w ...</td>\n",
              "      <td>e5f6 e8e1 g1f2 e1f1</td>\n",
              "      <td>1520</td>\n",
              "      <td>75</td>\n",
              "      <td>100</td>\n",
              "      <td>169</td>\n",
              "      <td>endgame mate mateIn2 short</td>\n",
              "      <td>https://lichess.org/n8Ff742v#69</td>\n",
              "      <td>NaN</td>\n",
              "      <td>3</td>\n",
              "    </tr>\n",
              "  </tbody>\n",
              "</table>\n",
              "</div>\n",
              "      <button class=\"colab-df-convert\" onclick=\"convertToInteractive('df-bab2f69a-4c3b-4228-a7da-1f09d3755aee')\"\n",
              "              title=\"Convert this dataframe to an interactive table.\"\n",
              "              style=\"display:none;\">\n",
              "        \n",
              "  <svg xmlns=\"http://www.w3.org/2000/svg\" height=\"24px\"viewBox=\"0 0 24 24\"\n",
              "       width=\"24px\">\n",
              "    <path d=\"M0 0h24v24H0V0z\" fill=\"none\"/>\n",
              "    <path d=\"M18.56 5.44l.94 2.06.94-2.06 2.06-.94-2.06-.94-.94-2.06-.94 2.06-2.06.94zm-11 1L8.5 8.5l.94-2.06 2.06-.94-2.06-.94L8.5 2.5l-.94 2.06-2.06.94zm10 10l.94 2.06.94-2.06 2.06-.94-2.06-.94-.94-2.06-.94 2.06-2.06.94z\"/><path d=\"M17.41 7.96l-1.37-1.37c-.4-.4-.92-.59-1.43-.59-.52 0-1.04.2-1.43.59L10.3 9.45l-7.72 7.72c-.78.78-.78 2.05 0 2.83L4 21.41c.39.39.9.59 1.41.59.51 0 1.02-.2 1.41-.59l7.78-7.78 2.81-2.81c.8-.78.8-2.07 0-2.86zM5.41 20L4 18.59l7.72-7.72 1.47 1.35L5.41 20z\"/>\n",
              "  </svg>\n",
              "      </button>\n",
              "      \n",
              "  <style>\n",
              "    .colab-df-container {\n",
              "      display:flex;\n",
              "      flex-wrap:wrap;\n",
              "      gap: 12px;\n",
              "    }\n",
              "\n",
              "    .colab-df-convert {\n",
              "      background-color: #E8F0FE;\n",
              "      border: none;\n",
              "      border-radius: 50%;\n",
              "      cursor: pointer;\n",
              "      display: none;\n",
              "      fill: #1967D2;\n",
              "      height: 32px;\n",
              "      padding: 0 0 0 0;\n",
              "      width: 32px;\n",
              "    }\n",
              "\n",
              "    .colab-df-convert:hover {\n",
              "      background-color: #E2EBFA;\n",
              "      box-shadow: 0px 1px 2px rgba(60, 64, 67, 0.3), 0px 1px 3px 1px rgba(60, 64, 67, 0.15);\n",
              "      fill: #174EA6;\n",
              "    }\n",
              "\n",
              "    [theme=dark] .colab-df-convert {\n",
              "      background-color: #3B4455;\n",
              "      fill: #D2E3FC;\n",
              "    }\n",
              "\n",
              "    [theme=dark] .colab-df-convert:hover {\n",
              "      background-color: #434B5C;\n",
              "      box-shadow: 0px 1px 3px 1px rgba(0, 0, 0, 0.15);\n",
              "      filter: drop-shadow(0px 1px 2px rgba(0, 0, 0, 0.3));\n",
              "      fill: #FFFFFF;\n",
              "    }\n",
              "  </style>\n",
              "\n",
              "      <script>\n",
              "        const buttonEl =\n",
              "          document.querySelector('#df-bab2f69a-4c3b-4228-a7da-1f09d3755aee button.colab-df-convert');\n",
              "        buttonEl.style.display =\n",
              "          google.colab.kernel.accessAllowed ? 'block' : 'none';\n",
              "\n",
              "        async function convertToInteractive(key) {\n",
              "          const element = document.querySelector('#df-bab2f69a-4c3b-4228-a7da-1f09d3755aee');\n",
              "          const dataTable =\n",
              "            await google.colab.kernel.invokeFunction('convertToInteractive',\n",
              "                                                     [key], {});\n",
              "          if (!dataTable) return;\n",
              "\n",
              "          const docLinkHtml = 'Like what you see? Visit the ' +\n",
              "            '<a target=\"_blank\" href=https://colab.research.google.com/notebooks/data_table.ipynb>data table notebook</a>'\n",
              "            + ' to learn more about interactive tables.';\n",
              "          element.innerHTML = '';\n",
              "          dataTable['output_type'] = 'display_data';\n",
              "          await google.colab.output.renderOutput(dataTable, element);\n",
              "          const docLink = document.createElement('div');\n",
              "          docLink.innerHTML = docLinkHtml;\n",
              "          element.appendChild(docLink);\n",
              "        }\n",
              "      </script>\n",
              "    </div>\n",
              "  </div>\n",
              "  "
            ]
          },
          "metadata": {},
          "execution_count": 9
        }
      ]
    },
    {
      "cell_type": "markdown",
      "source": [
        "We won't need to work with the entire database, though—just the puzzles that I played. So, we can join `puzzles_df` to `puzzle_activity_df` along the ID columns. Note that we drop the `Rating` column from the result—since many of the puzzle ratings have changed since I played the puzzles, I chose to keep their rating at the time I played them (which is stored in the `puzzleRating` column of `puzzle_activity_df`)."
      ],
      "metadata": {
        "id": "Xt6_6qzd9wor"
      },
      "id": "Xt6_6qzd9wor"
    },
    {
      "cell_type": "code",
      "source": [
        "played_puzzles_df = puzzles_df.set_index('Puzzle_ID').join(puzzle_activity_df.set_index('id'), \n",
        "                                                           how = 'inner')\n",
        "played_puzzles_df.drop(columns = ['Rating'], inplace = True)\n",
        "played_puzzles_df.head()"
      ],
      "metadata": {
        "colab": {
          "base_uri": "https://localhost:8080/",
          "height": 808
        },
        "id": "ygC0AitYD9QU",
        "outputId": "f9ba590b-a22b-4de2-8994-f64f67028942"
      },
      "id": "ygC0AitYD9QU",
      "execution_count": null,
      "outputs": [
        {
          "output_type": "execute_result",
          "data": {
            "text/plain": [
              "                                                     FEN  \\\n",
              "00XTV  8/2k4p/p2p2p1/2pP1p2/2P4P/3K4/P2R1PP1/4r3 w - ...   \n",
              "012kM  5r2/1pp4k/p1n1p2p/3p2p1/3P2P1/2P2q2/PP1Q1P2/1K...   \n",
              "01IKl  k1r4r/2Qn1p1p/1p1Bpnp1/q7/2BP4/2P5/1PK2P1P/3R2...   \n",
              "02pc3  r5k1/4bppp/4p3/q2pN3/3Bn3/8/P3QPPP/2R3K1 b - -...   \n",
              "051YJ  7k/pp2q1p1/1n2p1Bp/1b3pN1/1n1P3P/8/PP1K1PP1/1Q...   \n",
              "\n",
              "                                                   Moves  Rating_Deviation  \\\n",
              "00XTV            d2e2 e1e2 d3e2 c7b6 e2f3 b6a5 a2a3 a5a4                74   \n",
              "012kM                      d2g5 f3d3 b1c1 d3f1 h1f1 h6g5                77   \n",
              "01IKl                      c7c8 h8c8 d1a1 c8c4 a1a5 b6a5                74   \n",
              "02pc3                      a5a2 e2a2 a8a2 c1c8 e7f8 e5d7                74   \n",
              "051YJ  h6g5 h4g5 h8g8 h1h8 g8h8 b1h1 h8g8 h1h7 g8f8 h7h8                74   \n",
              "\n",
              "       Popularity  Number_of_Plays  \\\n",
              "00XTV          95             7169   \n",
              "012kM          95            10542   \n",
              "01IKl          92              652   \n",
              "02pc3          96              912   \n",
              "051YJ          95            12586   \n",
              "\n",
              "                                                  Themes  \\\n",
              "00XTV       crushing endgame master rookEndgame veryLong   \n",
              "012kM                              crushing endgame long   \n",
              "01IKl             advantage hangingPiece long middlegame   \n",
              "02pc3                          advantage long middlegame   \n",
              "051YJ  attraction discoveredAttack kingsideAttack mat...   \n",
              "\n",
              "                                         URL Opening_Tags  Puzzle_Length  \\\n",
              "00XTV        https://lichess.org/6kM7Fimp#55          NaN              7   \n",
              "012kM        https://lichess.org/fJcBht8L#61          NaN              5   \n",
              "01IKl        https://lichess.org/ehmsGMwl#57          NaN              5   \n",
              "02pc3  https://lichess.org/HhgKmKDI/black#46          NaN              5   \n",
              "051YJ  https://lichess.org/BLp2HacV/black#48          NaN              9   \n",
              "\n",
              "                          date    win  puzzleRating  \n",
              "00XTV  2022-05-31 11:15:42.090   True          1649  \n",
              "012kM  2022-06-06 11:13:47.994  False          1781  \n",
              "01IKl  2022-08-07 15:10:30.761   True          1822  \n",
              "02pc3  2023-02-05 18:55:28.753   True          2183  \n",
              "051YJ  2022-07-11 22:23:19.404  False          1620  "
            ],
            "text/html": [
              "\n",
              "  <div id=\"df-ec924537-519b-4fa2-8d55-c96480cdc243\">\n",
              "    <div class=\"colab-df-container\">\n",
              "      <div>\n",
              "<style scoped>\n",
              "    .dataframe tbody tr th:only-of-type {\n",
              "        vertical-align: middle;\n",
              "    }\n",
              "\n",
              "    .dataframe tbody tr th {\n",
              "        vertical-align: top;\n",
              "    }\n",
              "\n",
              "    .dataframe thead th {\n",
              "        text-align: right;\n",
              "    }\n",
              "</style>\n",
              "<table border=\"1\" class=\"dataframe\">\n",
              "  <thead>\n",
              "    <tr style=\"text-align: right;\">\n",
              "      <th></th>\n",
              "      <th>FEN</th>\n",
              "      <th>Moves</th>\n",
              "      <th>Rating_Deviation</th>\n",
              "      <th>Popularity</th>\n",
              "      <th>Number_of_Plays</th>\n",
              "      <th>Themes</th>\n",
              "      <th>URL</th>\n",
              "      <th>Opening_Tags</th>\n",
              "      <th>Puzzle_Length</th>\n",
              "      <th>date</th>\n",
              "      <th>win</th>\n",
              "      <th>puzzleRating</th>\n",
              "    </tr>\n",
              "  </thead>\n",
              "  <tbody>\n",
              "    <tr>\n",
              "      <th>00XTV</th>\n",
              "      <td>8/2k4p/p2p2p1/2pP1p2/2P4P/3K4/P2R1PP1/4r3 w - ...</td>\n",
              "      <td>d2e2 e1e2 d3e2 c7b6 e2f3 b6a5 a2a3 a5a4</td>\n",
              "      <td>74</td>\n",
              "      <td>95</td>\n",
              "      <td>7169</td>\n",
              "      <td>crushing endgame master rookEndgame veryLong</td>\n",
              "      <td>https://lichess.org/6kM7Fimp#55</td>\n",
              "      <td>NaN</td>\n",
              "      <td>7</td>\n",
              "      <td>2022-05-31 11:15:42.090</td>\n",
              "      <td>True</td>\n",
              "      <td>1649</td>\n",
              "    </tr>\n",
              "    <tr>\n",
              "      <th>012kM</th>\n",
              "      <td>5r2/1pp4k/p1n1p2p/3p2p1/3P2P1/2P2q2/PP1Q1P2/1K...</td>\n",
              "      <td>d2g5 f3d3 b1c1 d3f1 h1f1 h6g5</td>\n",
              "      <td>77</td>\n",
              "      <td>95</td>\n",
              "      <td>10542</td>\n",
              "      <td>crushing endgame long</td>\n",
              "      <td>https://lichess.org/fJcBht8L#61</td>\n",
              "      <td>NaN</td>\n",
              "      <td>5</td>\n",
              "      <td>2022-06-06 11:13:47.994</td>\n",
              "      <td>False</td>\n",
              "      <td>1781</td>\n",
              "    </tr>\n",
              "    <tr>\n",
              "      <th>01IKl</th>\n",
              "      <td>k1r4r/2Qn1p1p/1p1Bpnp1/q7/2BP4/2P5/1PK2P1P/3R2...</td>\n",
              "      <td>c7c8 h8c8 d1a1 c8c4 a1a5 b6a5</td>\n",
              "      <td>74</td>\n",
              "      <td>92</td>\n",
              "      <td>652</td>\n",
              "      <td>advantage hangingPiece long middlegame</td>\n",
              "      <td>https://lichess.org/ehmsGMwl#57</td>\n",
              "      <td>NaN</td>\n",
              "      <td>5</td>\n",
              "      <td>2022-08-07 15:10:30.761</td>\n",
              "      <td>True</td>\n",
              "      <td>1822</td>\n",
              "    </tr>\n",
              "    <tr>\n",
              "      <th>02pc3</th>\n",
              "      <td>r5k1/4bppp/4p3/q2pN3/3Bn3/8/P3QPPP/2R3K1 b - -...</td>\n",
              "      <td>a5a2 e2a2 a8a2 c1c8 e7f8 e5d7</td>\n",
              "      <td>74</td>\n",
              "      <td>96</td>\n",
              "      <td>912</td>\n",
              "      <td>advantage long middlegame</td>\n",
              "      <td>https://lichess.org/HhgKmKDI/black#46</td>\n",
              "      <td>NaN</td>\n",
              "      <td>5</td>\n",
              "      <td>2023-02-05 18:55:28.753</td>\n",
              "      <td>True</td>\n",
              "      <td>2183</td>\n",
              "    </tr>\n",
              "    <tr>\n",
              "      <th>051YJ</th>\n",
              "      <td>7k/pp2q1p1/1n2p1Bp/1b3pN1/1n1P3P/8/PP1K1PP1/1Q...</td>\n",
              "      <td>h6g5 h4g5 h8g8 h1h8 g8h8 b1h1 h8g8 h1h7 g8f8 h7h8</td>\n",
              "      <td>74</td>\n",
              "      <td>95</td>\n",
              "      <td>12586</td>\n",
              "      <td>attraction discoveredAttack kingsideAttack mat...</td>\n",
              "      <td>https://lichess.org/BLp2HacV/black#48</td>\n",
              "      <td>NaN</td>\n",
              "      <td>9</td>\n",
              "      <td>2022-07-11 22:23:19.404</td>\n",
              "      <td>False</td>\n",
              "      <td>1620</td>\n",
              "    </tr>\n",
              "  </tbody>\n",
              "</table>\n",
              "</div>\n",
              "      <button class=\"colab-df-convert\" onclick=\"convertToInteractive('df-ec924537-519b-4fa2-8d55-c96480cdc243')\"\n",
              "              title=\"Convert this dataframe to an interactive table.\"\n",
              "              style=\"display:none;\">\n",
              "        \n",
              "  <svg xmlns=\"http://www.w3.org/2000/svg\" height=\"24px\"viewBox=\"0 0 24 24\"\n",
              "       width=\"24px\">\n",
              "    <path d=\"M0 0h24v24H0V0z\" fill=\"none\"/>\n",
              "    <path d=\"M18.56 5.44l.94 2.06.94-2.06 2.06-.94-2.06-.94-.94-2.06-.94 2.06-2.06.94zm-11 1L8.5 8.5l.94-2.06 2.06-.94-2.06-.94L8.5 2.5l-.94 2.06-2.06.94zm10 10l.94 2.06.94-2.06 2.06-.94-2.06-.94-.94-2.06-.94 2.06-2.06.94z\"/><path d=\"M17.41 7.96l-1.37-1.37c-.4-.4-.92-.59-1.43-.59-.52 0-1.04.2-1.43.59L10.3 9.45l-7.72 7.72c-.78.78-.78 2.05 0 2.83L4 21.41c.39.39.9.59 1.41.59.51 0 1.02-.2 1.41-.59l7.78-7.78 2.81-2.81c.8-.78.8-2.07 0-2.86zM5.41 20L4 18.59l7.72-7.72 1.47 1.35L5.41 20z\"/>\n",
              "  </svg>\n",
              "      </button>\n",
              "      \n",
              "  <style>\n",
              "    .colab-df-container {\n",
              "      display:flex;\n",
              "      flex-wrap:wrap;\n",
              "      gap: 12px;\n",
              "    }\n",
              "\n",
              "    .colab-df-convert {\n",
              "      background-color: #E8F0FE;\n",
              "      border: none;\n",
              "      border-radius: 50%;\n",
              "      cursor: pointer;\n",
              "      display: none;\n",
              "      fill: #1967D2;\n",
              "      height: 32px;\n",
              "      padding: 0 0 0 0;\n",
              "      width: 32px;\n",
              "    }\n",
              "\n",
              "    .colab-df-convert:hover {\n",
              "      background-color: #E2EBFA;\n",
              "      box-shadow: 0px 1px 2px rgba(60, 64, 67, 0.3), 0px 1px 3px 1px rgba(60, 64, 67, 0.15);\n",
              "      fill: #174EA6;\n",
              "    }\n",
              "\n",
              "    [theme=dark] .colab-df-convert {\n",
              "      background-color: #3B4455;\n",
              "      fill: #D2E3FC;\n",
              "    }\n",
              "\n",
              "    [theme=dark] .colab-df-convert:hover {\n",
              "      background-color: #434B5C;\n",
              "      box-shadow: 0px 1px 3px 1px rgba(0, 0, 0, 0.15);\n",
              "      filter: drop-shadow(0px 1px 2px rgba(0, 0, 0, 0.3));\n",
              "      fill: #FFFFFF;\n",
              "    }\n",
              "  </style>\n",
              "\n",
              "      <script>\n",
              "        const buttonEl =\n",
              "          document.querySelector('#df-ec924537-519b-4fa2-8d55-c96480cdc243 button.colab-df-convert');\n",
              "        buttonEl.style.display =\n",
              "          google.colab.kernel.accessAllowed ? 'block' : 'none';\n",
              "\n",
              "        async function convertToInteractive(key) {\n",
              "          const element = document.querySelector('#df-ec924537-519b-4fa2-8d55-c96480cdc243');\n",
              "          const dataTable =\n",
              "            await google.colab.kernel.invokeFunction('convertToInteractive',\n",
              "                                                     [key], {});\n",
              "          if (!dataTable) return;\n",
              "\n",
              "          const docLinkHtml = 'Like what you see? Visit the ' +\n",
              "            '<a target=\"_blank\" href=https://colab.research.google.com/notebooks/data_table.ipynb>data table notebook</a>'\n",
              "            + ' to learn more about interactive tables.';\n",
              "          element.innerHTML = '';\n",
              "          dataTable['output_type'] = 'display_data';\n",
              "          await google.colab.output.renderOutput(dataTable, element);\n",
              "          const docLink = document.createElement('div');\n",
              "          docLink.innerHTML = docLinkHtml;\n",
              "          element.appendChild(docLink);\n",
              "        }\n",
              "      </script>\n",
              "    </div>\n",
              "  </div>\n",
              "  "
            ]
          },
          "metadata": {},
          "execution_count": 10
        }
      ]
    },
    {
      "cell_type": "markdown",
      "source": [
        "We can quickly check that we have all the puzzles that I played (`1,716`)."
      ],
      "metadata": {
        "id": "6xfV1b-MFoR8"
      },
      "id": "6xfV1b-MFoR8"
    },
    {
      "cell_type": "code",
      "source": [
        "played_puzzles_df.shape"
      ],
      "metadata": {
        "colab": {
          "base_uri": "https://localhost:8080/"
        },
        "id": "h11WbiXaDWsq",
        "outputId": "3efb20bb-5b4d-4dd1-8348-ea2d96936e29"
      },
      "id": "h11WbiXaDWsq",
      "execution_count": null,
      "outputs": [
        {
          "output_type": "execute_result",
          "data": {
            "text/plain": [
              "(1716, 12)"
            ]
          },
          "metadata": {},
          "execution_count": 11
        }
      ]
    },
    {
      "cell_type": "markdown",
      "source": [
        "Now check for missing values."
      ],
      "metadata": {
        "id": "_6hgPdOka7EQ"
      },
      "id": "_6hgPdOka7EQ"
    },
    {
      "cell_type": "code",
      "source": [
        "played_puzzles_df.isna().sum(axis = 0)"
      ],
      "metadata": {
        "colab": {
          "base_uri": "https://localhost:8080/"
        },
        "id": "UmFyFrk3aHxE",
        "outputId": "2325043d-ed83-4024-822c-8e0dd1c73bf9"
      },
      "id": "UmFyFrk3aHxE",
      "execution_count": null,
      "outputs": [
        {
          "output_type": "execute_result",
          "data": {
            "text/plain": [
              "FEN                    0\n",
              "Moves                  0\n",
              "Rating_Deviation       0\n",
              "Popularity             0\n",
              "Number_of_Plays        0\n",
              "Themes                 0\n",
              "URL                    0\n",
              "Opening_Tags        1246\n",
              "Puzzle_Length          0\n",
              "date                   0\n",
              "win                    0\n",
              "puzzleRating           0\n",
              "dtype: int64"
            ]
          },
          "metadata": {},
          "execution_count": 12
        }
      ]
    },
    {
      "cell_type": "markdown",
      "source": [
        "Only the `Openings_Tags` contains missing values—this is consistent with `puzzles_df`.\n",
        "\n",
        "Now we can save this dataframe for future use (if necessary)."
      ],
      "metadata": {
        "id": "YrK1C16Oa-si"
      },
      "id": "YrK1C16Oa-si"
    },
    {
      "cell_type": "code",
      "source": [
        "played_puzzles_df.to_csv('tclark_played_puzzles.csv')"
      ],
      "metadata": {
        "id": "HOK2S7_EF2UB"
      },
      "id": "HOK2S7_EF2UB",
      "execution_count": null,
      "outputs": []
    },
    {
      "cell_type": "markdown",
      "source": [
        "Finally, push `played_puzzles_df` to the `R` namespace. We have to cast the `Opening_Tags` column as `string` first to avoid encoding errors."
      ],
      "metadata": {
        "id": "hxZY1ubUGEri"
      },
      "id": "hxZY1ubUGEri"
    },
    {
      "cell_type": "code",
      "source": [
        "played_puzzles_dfr = played_puzzles_df.astype({'Opening_Tags': 'str'})\n",
        "\n",
        "%Rpush played_puzzles_dfr"
      ],
      "metadata": {
        "colab": {
          "base_uri": "https://localhost:8080/"
        },
        "id": "Cy_l70_IGITV",
        "outputId": "378fdbc0-4365-46b1-d8d7-905d123c014a"
      },
      "id": "Cy_l70_IGITV",
      "execution_count": null,
      "outputs": [
        {
          "output_type": "stream",
          "name": "stderr",
          "text": [
            "/usr/local/lib/python3.10/dist-packages/rpy2/robjects/pandas2ri.py:54: FutureWarning: iteritems is deprecated and will be removed in a future version. Use .items instead.\n",
            "  for name, values in obj.iteritems():\n"
          ]
        }
      ]
    },
    {
      "cell_type": "markdown",
      "source": [
        "# My puzzle rating over time<a name='rating'></a>\n",
        "---"
      ],
      "metadata": {
        "id": "yLRQ7V8hSfwB"
      },
      "id": "yLRQ7V8hSfwB"
    },
    {
      "cell_type": "markdown",
      "source": [
        "## Highest rating\n",
        "\n",
        "My highest puzzle rating was `2,510`. How does it compare to the distribution of puzzle ratings?"
      ],
      "metadata": {
        "id": "YgTEQ3rLeLSl"
      },
      "id": "YgTEQ3rLeLSl"
    },
    {
      "cell_type": "code",
      "source": [
        "def percentile(rating):\n",
        "  return (puzzles_df.loc[:, 'Rating'][puzzles_df['Rating'] < rating].count())/(puzzles_df['Rating'].count()) * 100"
      ],
      "metadata": {
        "id": "Uk8gsgp3eMQD"
      },
      "id": "Uk8gsgp3eMQD",
      "execution_count": null,
      "outputs": []
    },
    {
      "cell_type": "code",
      "source": [
        "percentile(2510)"
      ],
      "metadata": {
        "id": "WSGM2tyMePrF",
        "colab": {
          "base_uri": "https://localhost:8080/"
        },
        "outputId": "eedf5e0a-cb8c-4691-f4ca-edb3eae1465d"
      },
      "id": "WSGM2tyMePrF",
      "execution_count": null,
      "outputs": [
        {
          "output_type": "execute_result",
          "data": {
            "text/plain": [
              "96.34500867890581"
            ]
          },
          "metadata": {},
          "execution_count": 15
        }
      ]
    },
    {
      "cell_type": "markdown",
      "source": [
        "So, my highest rating is in the `96th` percentile of puzzle ratings. Not bad!"
      ],
      "metadata": {
        "id": "wbMc8dXOG6C8"
      },
      "id": "wbMc8dXOG6C8"
    },
    {
      "cell_type": "markdown",
      "source": [
        "## Rating by day"
      ],
      "metadata": {
        "id": "1PUDdTUBQsqY"
      },
      "id": "1PUDdTUBQsqY"
    },
    {
      "cell_type": "code",
      "source": [
        "%%R -h 6 -w 12 -u in\n",
        "rating_plot <- ggplot(puzzle_rating_history_df, aes(x = date, y = rating))+\n",
        "  scale_x_datetime(date_labels= \"%b %y\", \n",
        "                   date_breaks  = \"1 month\")+   \n",
        "  labs(x = \"Date\", y = \"Rating\")+\n",
        "  geom_line()+\n",
        "  theme_minimal()\n",
        "\n",
        "rating_plot"
      ],
      "metadata": {
        "colab": {
          "base_uri": "https://localhost:8080/",
          "height": 449
        },
        "id": "g9r368h18WFx",
        "outputId": "06e0bbcf-a38e-4b78-a3f1-e1c0449b7c30"
      },
      "id": "g9r368h18WFx",
      "execution_count": null,
      "outputs": [
        {
          "output_type": "display_data",
          "data": {
            "image/png": "[encoded data removed]"
          },
          "metadata": {}
        }
      ]
    },
    {
      "cell_type": "markdown",
      "source": [
        "My rating fluctuated a lot, with an approximately `4`-month plateau in the `1,700--1,900` range from mid-May 2022 through August 2022, followed by a climb over `2,000` in September 2022 through about mid-October 2022. I plateaued again aroung `2,000--2,100` for almost `3` months, after which I had another spike in progress up to `2,500`.\n",
        "\n",
        "Overall, it seems I have gone through a cycle that looks something like\n",
        "- `1` or `2` months of improvement.\n",
        "- `3` or `4` months of plateau.\n",
        "\n",
        "Below is the same plot with a smooth representation of the trend added."
      ],
      "metadata": {
        "id": "ZGx-A_P098wD"
      },
      "id": "ZGx-A_P098wD"
    },
    {
      "cell_type": "code",
      "source": [
        "%%R -h 6 -w 12 -u in\n",
        "ggplot(puzzle_rating_history_df, aes(x = date, y = rating))+\n",
        "  scale_x_datetime(date_labels= \"%b %y\", \n",
        "                   date_breaks  = \"1 month\")+   \n",
        "  labs(x = \"Date\", y = \"Rating\")+\n",
        "  geom_line()+\n",
        "  geom_smooth()+\n",
        "  theme_minimal()"
      ],
      "metadata": {
        "colab": {
          "base_uri": "https://localhost:8080/",
          "height": 466
        },
        "id": "u7hWz0EkCl7g",
        "outputId": "58a21cd9-2d96-4287-bc47-94b0f14acbf0"
      },
      "id": "u7hWz0EkCl7g",
      "execution_count": null,
      "outputs": [
        {
          "output_type": "stream",
          "name": "stdout",
          "text": [
            "`geom_smooth()` using method = 'loess' and formula = 'y ~ x'\n"
          ]
        },
        {
          "output_type": "display_data",
          "data": {
            "image/png": "[encoded data removed]"
          },
          "metadata": {}
        }
      ]
    },
    {
      "cell_type": "markdown",
      "source": [
        "We can see the plateaus and increases broken up a bit more in the figures below."
      ],
      "metadata": {
        "id": "doB8xTB-FTvc"
      },
      "id": "doB8xTB-FTvc"
    },
    {
      "cell_type": "code",
      "source": [
        "%%R -h 6 -w 12 -u in\n",
        "ggplot(puzzle_rating_history_df, aes(x = date, y = rating))+\n",
        "  scale_x_datetime(date_labels= \"%b %y\",\n",
        "                   date_breaks  = \"1 month\")+   \n",
        "  labs(x = \"Date\", y = \"Rating\")+\n",
        "  geom_line()+\n",
        "  geom_smooth(method = lm, aes(group = cut_interval(date, 6)))+\n",
        "  theme_minimal()"
      ],
      "metadata": {
        "colab": {
          "base_uri": "https://localhost:8080/",
          "height": 466
        },
        "id": "5mRYzgs-D_99",
        "outputId": "69463eca-725a-4fc1-9bac-c027484befbc"
      },
      "id": "5mRYzgs-D_99",
      "execution_count": null,
      "outputs": [
        {
          "output_type": "stream",
          "name": "stdout",
          "text": [
            "`geom_smooth()` using formula = 'y ~ x'\n"
          ]
        },
        {
          "output_type": "display_data",
          "data": {
            "image/png": "[encoded data removed]"
          },
          "metadata": {}
        }
      ]
    },
    {
      "cell_type": "markdown",
      "source": [
        "This figure considers my rating broken into intervals of `2`-months."
      ],
      "metadata": {
        "id": "YJfqWLF5G1Ys"
      },
      "id": "YJfqWLF5G1Ys"
    },
    {
      "cell_type": "code",
      "source": [
        "%%R -h 6 -w 12 -u in\n",
        "ggplot(puzzle_rating_history_df, aes(x = date, y = rating))+\n",
        "  scale_x_datetime(date_labels= \"%b %y\", \n",
        "                   date_breaks  = \"1 month\")+   \n",
        "  labs(x = \"Date\", y = \"Rating\")+\n",
        "  geom_line()+\n",
        "  geom_smooth(method = lm, aes(group = cut_number(date, 6)))+\n",
        "  theme_minimal()"
      ],
      "metadata": {
        "colab": {
          "base_uri": "https://localhost:8080/",
          "height": 466
        },
        "id": "wYNpkRx1FxKg",
        "outputId": "b34b6a50-3cda-455b-8308-b2ee56ed3bdc"
      },
      "id": "wYNpkRx1FxKg",
      "execution_count": null,
      "outputs": [
        {
          "output_type": "stream",
          "name": "stdout",
          "text": [
            "`geom_smooth()` using formula = 'y ~ x'\n"
          ]
        },
        {
          "output_type": "display_data",
          "data": {
            "image/png": "[encoded data removed]"
          },
          "metadata": {}
        }
      ]
    },
    {
      "cell_type": "markdown",
      "source": [
        "This figure considers my rating broken into `6` segements each containing an approximately equal number of days. Observe the plateaus from July 2022 to September 2022 and from mid-October 2022 through January 2023."
      ],
      "metadata": {
        "id": "gYw0BPpmHAAV"
      },
      "id": "gYw0BPpmHAAV"
    },
    {
      "cell_type": "markdown",
      "source": [
        "## Volume of puzzles per day"
      ],
      "metadata": {
        "id": "-r6IMOArQxBB"
      },
      "id": "-r6IMOArQxBB"
    },
    {
      "cell_type": "code",
      "source": [
        "%%R -h 6 -w 12 -u in\n",
        "volume_plot <- ggplot(puzzle_activity_df, aes(x = as.Date(date)))+\n",
        "  labs(x = \"Date\", y = \"Count\")+\n",
        "  scale_x_date(date_labels= \"%b %y\", \n",
        "               date_breaks  = \"1 month\")+\n",
        "  geom_histogram(aes(fill = win), binwidth = 1)+\n",
        "  theme_minimal()\n",
        "\n",
        "volume_plot"
      ],
      "metadata": {
        "colab": {
          "base_uri": "https://localhost:8080/",
          "height": 449
        },
        "id": "EnzfaEI6GFs0",
        "outputId": "86473b16-c8ab-4f4c-ca34-e200df35c4a4"
      },
      "id": "EnzfaEI6GFs0",
      "execution_count": null,
      "outputs": [
        {
          "output_type": "display_data",
          "data": {
            "image/png": "[encoded data removed]"
          },
          "metadata": {}
        }
      ]
    },
    {
      "cell_type": "markdown",
      "source": [
        "From mid-October 2022 through February 2023, you can see that I started playing fewer puzzles total. I had plateaued in the `2,000--2,100` range around this time and decided shortly after that I wasn't going to play a puzzle until I was absolutely certain I had found the solution—no matter how long it took. This meant that puzzles would sometimes take me *days* to solve, but it also meant that I improved my win rate. \n",
        "\n",
        "Around this time, I also began occassionally playing a lot of easy *unrated* puzzles in between the more difficult rated puzzles—so the volumes on the graph may be a bit misleading, since I was only completing a rated puzzle once every couple of days. Around March 2023 I begain playing a *lot* of unrated puzzles, which is why there is a large increase in puzzle volume around this time.\n",
        "\n",
        "Whether all of this resulted in me learning more is debatable, but it did have a noticeable impact on improving my puzzle rating. Below, you can compare my puzzle rating with number of puzzles played per day."
      ],
      "metadata": {
        "id": "_QwxEoF7Nnmt"
      },
      "id": "_QwxEoF7Nnmt"
    },
    {
      "cell_type": "code",
      "source": [
        "%%R -h 6 -w 12 -u in\n",
        "\n",
        "(rating_plot + scale_x_datetime(date_labels= \"%b %y\", \n",
        "                                date_breaks  = \"1 month\",\n",
        "                                limits = as.POSIXct(c(\"2022-02-15\", \"2023-04-01\")))) / \n",
        "(volume_plot + scale_x_date(date_labels= \"%b %y\", \n",
        "                            date_breaks  = \"1 month\",\n",
        "                            limits = as.Date(c(\"2022-02-15\", \"2023-04-01\"))))"
      ],
      "metadata": {
        "colab": {
          "base_uri": "https://localhost:8080/",
          "height": 518
        },
        "id": "9Z_yfKf3O3NO",
        "outputId": "070ebc56-41bb-4226-81b2-b538927a3422"
      },
      "id": "9Z_yfKf3O3NO",
      "execution_count": null,
      "outputs": [
        {
          "output_type": "stream",
          "name": "stdout",
          "text": [
            "Scale for x is already present.\n",
            "Adding another scale for x, which will replace the existing scale.\n",
            "Scale for x is already present.\n",
            "Adding another scale for x, which will replace the existing scale.\n"
          ]
        },
        {
          "output_type": "display_data",
          "data": {
            "image/png": "[encoded data removed]"
          },
          "metadata": {}
        }
      ]
    },
    {
      "cell_type": "markdown",
      "source": [
        "Notice, again, around mid-October 2022 I plateaued and about a month later is when I started taking as long as necessary to solve a puzzle (hence played fewer rated puzzles). After taking a break in ealry December, I finally overcame the `2,100` rating barrier.\n",
        "\n",
        "Ultimately, if you're looking for the secret to improving your puzzle rating, my advice is\n",
        "\n",
        ">Keep getting puzzles correct!\n",
        "\n",
        "The strategy of only attempting a puzzle when I was as sure as possible that I had found the solution meant I played fewer puzzles, but I almost always got them right—so my rating kept going up!"
      ],
      "metadata": {
        "id": "c7p5MitwoZVS"
      },
      "id": "c7p5MitwoZVS"
    },
    {
      "cell_type": "markdown",
      "source": [
        "## Failed puzzles\n",
        "Let's see what we can find out about the puzzles that I failed. Below, we extract the records from `played_puzzles_df` where `win` is `False`."
      ],
      "metadata": {
        "id": "vG7N9e-9Fs86"
      },
      "id": "vG7N9e-9Fs86"
    },
    {
      "cell_type": "code",
      "source": [
        "failed_puzzles_df = played_puzzles_df[played_puzzles_df['win'] == False]\n",
        "\n",
        "failed_puzzles_df.head()"
      ],
      "metadata": {
        "colab": {
          "base_uri": "https://localhost:8080/",
          "height": 808
        },
        "id": "6UEkL5rBHrYk",
        "outputId": "a88d0bea-cc7e-4f25-9edc-303635f0241d"
      },
      "id": "6UEkL5rBHrYk",
      "execution_count": null,
      "outputs": [
        {
          "output_type": "execute_result",
          "data": {
            "text/plain": [
              "                                                     FEN  \\\n",
              "012kM  5r2/1pp4k/p1n1p2p/3p2p1/3P2P1/2P2q2/PP1Q1P2/1K...   \n",
              "051YJ  7k/pp2q1p1/1n2p1Bp/1b3pN1/1n1P3P/8/PP1K1PP1/1Q...   \n",
              "0A7bx  5rk1/3p1pp1/p3n2p/1p2p3/1P2q3/1Br1B2Q/P5PP/R4R...   \n",
              "0MHtG  1k5r/1bpqp3/pp4p1/4p3/3P2n1/2NB2Q1/PPP3P1/3R1R...   \n",
              "0SwnO  8/p2R2k1/4p2p/4Pqp1/2N1n3/1P3BPP/P3K3/8 b - - ...   \n",
              "\n",
              "                                                   Moves  Rating_Deviation  \\\n",
              "012kM                      d2g5 f3d3 b1c1 d3f1 h1f1 h6g5                77   \n",
              "051YJ  h6g5 h4g5 h8g8 h1h8 g8h8 b1h1 h8g8 h1h7 g8f8 h7h8                74   \n",
              "0A7bx                      b3e6 c3e3 e6d5 e4d4 h3e3 d4e3                74   \n",
              "0MHtG            d4e5 d7d4 f1f2 g4f2 g3f2 h8h1 g1h1 d4f2                77   \n",
              "0SwnO                      g7g6 f3h5 g6h5 g3g4 h5g6 g4f5                82   \n",
              "\n",
              "       Popularity  Number_of_Plays  \\\n",
              "012kM          95            10542   \n",
              "051YJ          95            12586   \n",
              "0A7bx          96             3076   \n",
              "0MHtG          96             6247   \n",
              "0SwnO          91           146922   \n",
              "\n",
              "                                                  Themes  \\\n",
              "012kM                              crushing endgame long   \n",
              "051YJ  attraction discoveredAttack kingsideAttack mat...   \n",
              "0A7bx            crushing kingsideAttack long middlegame   \n",
              "0MHtG  crushing deflection kingsideAttack middlegame ...   \n",
              "0SwnO    attraction crushing endgame fork long sacrifice   \n",
              "\n",
              "                                         URL Opening_Tags  Puzzle_Length  \\\n",
              "012kM        https://lichess.org/fJcBht8L#61          NaN              5   \n",
              "051YJ  https://lichess.org/BLp2HacV/black#48          NaN              9   \n",
              "0A7bx        https://lichess.org/TZRp4ALP#51          NaN              5   \n",
              "0MHtG        https://lichess.org/wr31QDv1#39          NaN              7   \n",
              "0SwnO  https://lichess.org/aCTkYtvo/black#76          NaN              5   \n",
              "\n",
              "                          date    win  puzzleRating  \n",
              "012kM  2022-06-06 11:13:47.994  False          1781  \n",
              "051YJ  2022-07-11 22:23:19.404  False          1620  \n",
              "0A7bx  2022-08-06 01:11:45.675  False          1904  \n",
              "0MHtG  2022-05-28 17:44:27.030  False          1561  \n",
              "0SwnO  2022-03-28 23:14:14.894  False          2217  "
            ],
            "text/html": [
              "\n",
              "  <div id=\"df-5d60325f-0d05-4bf1-b1d7-0891db0632ec\">\n",
              "    <div class=\"colab-df-container\">\n",
              "      <div>\n",
              "<style scoped>\n",
              "    .dataframe tbody tr th:only-of-type {\n",
              "        vertical-align: middle;\n",
              "    }\n",
              "\n",
              "    .dataframe tbody tr th {\n",
              "        vertical-align: top;\n",
              "    }\n",
              "\n",
              "    .dataframe thead th {\n",
              "        text-align: right;\n",
              "    }\n",
              "</style>\n",
              "<table border=\"1\" class=\"dataframe\">\n",
              "  <thead>\n",
              "    <tr style=\"text-align: right;\">\n",
              "      <th></th>\n",
              "      <th>FEN</th>\n",
              "      <th>Moves</th>\n",
              "      <th>Rating_Deviation</th>\n",
              "      <th>Popularity</th>\n",
              "      <th>Number_of_Plays</th>\n",
              "      <th>Themes</th>\n",
              "      <th>URL</th>\n",
              "      <th>Opening_Tags</th>\n",
              "      <th>Puzzle_Length</th>\n",
              "      <th>date</th>\n",
              "      <th>win</th>\n",
              "      <th>puzzleRating</th>\n",
              "    </tr>\n",
              "  </thead>\n",
              "  <tbody>\n",
              "    <tr>\n",
              "      <th>012kM</th>\n",
              "      <td>5r2/1pp4k/p1n1p2p/3p2p1/3P2P1/2P2q2/PP1Q1P2/1K...</td>\n",
              "      <td>d2g5 f3d3 b1c1 d3f1 h1f1 h6g5</td>\n",
              "      <td>77</td>\n",
              "      <td>95</td>\n",
              "      <td>10542</td>\n",
              "      <td>crushing endgame long</td>\n",
              "      <td>https://lichess.org/fJcBht8L#61</td>\n",
              "      <td>NaN</td>\n",
              "      <td>5</td>\n",
              "      <td>2022-06-06 11:13:47.994</td>\n",
              "      <td>False</td>\n",
              "      <td>1781</td>\n",
              "    </tr>\n",
              "    <tr>\n",
              "      <th>051YJ</th>\n",
              "      <td>7k/pp2q1p1/1n2p1Bp/1b3pN1/1n1P3P/8/PP1K1PP1/1Q...</td>\n",
              "      <td>h6g5 h4g5 h8g8 h1h8 g8h8 b1h1 h8g8 h1h7 g8f8 h7h8</td>\n",
              "      <td>74</td>\n",
              "      <td>95</td>\n",
              "      <td>12586</td>\n",
              "      <td>attraction discoveredAttack kingsideAttack mat...</td>\n",
              "      <td>https://lichess.org/BLp2HacV/black#48</td>\n",
              "      <td>NaN</td>\n",
              "      <td>9</td>\n",
              "      <td>2022-07-11 22:23:19.404</td>\n",
              "      <td>False</td>\n",
              "      <td>1620</td>\n",
              "    </tr>\n",
              "    <tr>\n",
              "      <th>0A7bx</th>\n",
              "      <td>5rk1/3p1pp1/p3n2p/1p2p3/1P2q3/1Br1B2Q/P5PP/R4R...</td>\n",
              "      <td>b3e6 c3e3 e6d5 e4d4 h3e3 d4e3</td>\n",
              "      <td>74</td>\n",
              "      <td>96</td>\n",
              "      <td>3076</td>\n",
              "      <td>crushing kingsideAttack long middlegame</td>\n",
              "      <td>https://lichess.org/TZRp4ALP#51</td>\n",
              "      <td>NaN</td>\n",
              "      <td>5</td>\n",
              "      <td>2022-08-06 01:11:45.675</td>\n",
              "      <td>False</td>\n",
              "      <td>1904</td>\n",
              "    </tr>\n",
              "    <tr>\n",
              "      <th>0MHtG</th>\n",
              "      <td>1k5r/1bpqp3/pp4p1/4p3/3P2n1/2NB2Q1/PPP3P1/3R1R...</td>\n",
              "      <td>d4e5 d7d4 f1f2 g4f2 g3f2 h8h1 g1h1 d4f2</td>\n",
              "      <td>77</td>\n",
              "      <td>96</td>\n",
              "      <td>6247</td>\n",
              "      <td>crushing deflection kingsideAttack middlegame ...</td>\n",
              "      <td>https://lichess.org/wr31QDv1#39</td>\n",
              "      <td>NaN</td>\n",
              "      <td>7</td>\n",
              "      <td>2022-05-28 17:44:27.030</td>\n",
              "      <td>False</td>\n",
              "      <td>1561</td>\n",
              "    </tr>\n",
              "    <tr>\n",
              "      <th>0SwnO</th>\n",
              "      <td>8/p2R2k1/4p2p/4Pqp1/2N1n3/1P3BPP/P3K3/8 b - - ...</td>\n",
              "      <td>g7g6 f3h5 g6h5 g3g4 h5g6 g4f5</td>\n",
              "      <td>82</td>\n",
              "      <td>91</td>\n",
              "      <td>146922</td>\n",
              "      <td>attraction crushing endgame fork long sacrifice</td>\n",
              "      <td>https://lichess.org/aCTkYtvo/black#76</td>\n",
              "      <td>NaN</td>\n",
              "      <td>5</td>\n",
              "      <td>2022-03-28 23:14:14.894</td>\n",
              "      <td>False</td>\n",
              "      <td>2217</td>\n",
              "    </tr>\n",
              "  </tbody>\n",
              "</table>\n",
              "</div>\n",
              "      <button class=\"colab-df-convert\" onclick=\"convertToInteractive('df-5d60325f-0d05-4bf1-b1d7-0891db0632ec')\"\n",
              "              title=\"Convert this dataframe to an interactive table.\"\n",
              "              style=\"display:none;\">\n",
              "        \n",
              "  <svg xmlns=\"http://www.w3.org/2000/svg\" height=\"24px\"viewBox=\"0 0 24 24\"\n",
              "       width=\"24px\">\n",
              "    <path d=\"M0 0h24v24H0V0z\" fill=\"none\"/>\n",
              "    <path d=\"M18.56 5.44l.94 2.06.94-2.06 2.06-.94-2.06-.94-.94-2.06-.94 2.06-2.06.94zm-11 1L8.5 8.5l.94-2.06 2.06-.94-2.06-.94L8.5 2.5l-.94 2.06-2.06.94zm10 10l.94 2.06.94-2.06 2.06-.94-2.06-.94-.94-2.06-.94 2.06-2.06.94z\"/><path d=\"M17.41 7.96l-1.37-1.37c-.4-.4-.92-.59-1.43-.59-.52 0-1.04.2-1.43.59L10.3 9.45l-7.72 7.72c-.78.78-.78 2.05 0 2.83L4 21.41c.39.39.9.59 1.41.59.51 0 1.02-.2 1.41-.59l7.78-7.78 2.81-2.81c.8-.78.8-2.07 0-2.86zM5.41 20L4 18.59l7.72-7.72 1.47 1.35L5.41 20z\"/>\n",
              "  </svg>\n",
              "      </button>\n",
              "      \n",
              "  <style>\n",
              "    .colab-df-container {\n",
              "      display:flex;\n",
              "      flex-wrap:wrap;\n",
              "      gap: 12px;\n",
              "    }\n",
              "\n",
              "    .colab-df-convert {\n",
              "      background-color: #E8F0FE;\n",
              "      border: none;\n",
              "      border-radius: 50%;\n",
              "      cursor: pointer;\n",
              "      display: none;\n",
              "      fill: #1967D2;\n",
              "      height: 32px;\n",
              "      padding: 0 0 0 0;\n",
              "      width: 32px;\n",
              "    }\n",
              "\n",
              "    .colab-df-convert:hover {\n",
              "      background-color: #E2EBFA;\n",
              "      box-shadow: 0px 1px 2px rgba(60, 64, 67, 0.3), 0px 1px 3px 1px rgba(60, 64, 67, 0.15);\n",
              "      fill: #174EA6;\n",
              "    }\n",
              "\n",
              "    [theme=dark] .colab-df-convert {\n",
              "      background-color: #3B4455;\n",
              "      fill: #D2E3FC;\n",
              "    }\n",
              "\n",
              "    [theme=dark] .colab-df-convert:hover {\n",
              "      background-color: #434B5C;\n",
              "      box-shadow: 0px 1px 3px 1px rgba(0, 0, 0, 0.15);\n",
              "      filter: drop-shadow(0px 1px 2px rgba(0, 0, 0, 0.3));\n",
              "      fill: #FFFFFF;\n",
              "    }\n",
              "  </style>\n",
              "\n",
              "      <script>\n",
              "        const buttonEl =\n",
              "          document.querySelector('#df-5d60325f-0d05-4bf1-b1d7-0891db0632ec button.colab-df-convert');\n",
              "        buttonEl.style.display =\n",
              "          google.colab.kernel.accessAllowed ? 'block' : 'none';\n",
              "\n",
              "        async function convertToInteractive(key) {\n",
              "          const element = document.querySelector('#df-5d60325f-0d05-4bf1-b1d7-0891db0632ec');\n",
              "          const dataTable =\n",
              "            await google.colab.kernel.invokeFunction('convertToInteractive',\n",
              "                                                     [key], {});\n",
              "          if (!dataTable) return;\n",
              "\n",
              "          const docLinkHtml = 'Like what you see? Visit the ' +\n",
              "            '<a target=\"_blank\" href=https://colab.research.google.com/notebooks/data_table.ipynb>data table notebook</a>'\n",
              "            + ' to learn more about interactive tables.';\n",
              "          element.innerHTML = '';\n",
              "          dataTable['output_type'] = 'display_data';\n",
              "          await google.colab.output.renderOutput(dataTable, element);\n",
              "          const docLink = document.createElement('div');\n",
              "          docLink.innerHTML = docLinkHtml;\n",
              "          element.appendChild(docLink);\n",
              "        }\n",
              "      </script>\n",
              "    </div>\n",
              "  </div>\n",
              "  "
            ]
          },
          "metadata": {},
          "execution_count": 45
        }
      ]
    },
    {
      "cell_type": "markdown",
      "source": [
        "How many puzzles have a I failed?"
      ],
      "metadata": {
        "id": "pLt2alzXH79g"
      },
      "id": "pLt2alzXH79g"
    },
    {
      "cell_type": "code",
      "source": [
        "failed_puzzles_df.shape"
      ],
      "metadata": {
        "colab": {
          "base_uri": "https://localhost:8080/"
        },
        "id": "tgYNNmlnH-j6",
        "outputId": "eb0b020f-18bb-4e84-9f8a-2ab2f13ca636"
      },
      "id": "tgYNNmlnH-j6",
      "execution_count": null,
      "outputs": [
        {
          "output_type": "execute_result",
          "data": {
            "text/plain": [
              "(165, 12)"
            ]
          },
          "metadata": {},
          "execution_count": 46
        }
      ]
    },
    {
      "cell_type": "markdown",
      "source": [
        "With `165` failed puzzles out of `1,716` total puzzles played, I have an overall success rate of `90%`."
      ],
      "metadata": {
        "id": "4N2zzXqgIBnu"
      },
      "id": "4N2zzXqgIBnu"
    },
    {
      "cell_type": "code",
      "source": [
        "(1 - (165/1716))*100"
      ],
      "metadata": {
        "colab": {
          "base_uri": "https://localhost:8080/"
        },
        "id": "1c1DHU7GIH7j",
        "outputId": "b0ad044f-3870-476e-bc3e-fc180f3018e4"
      },
      "id": "1c1DHU7GIH7j",
      "execution_count": null,
      "outputs": [
        {
          "output_type": "execute_result",
          "data": {
            "text/plain": [
              "90.38461538461539"
            ]
          },
          "metadata": {},
          "execution_count": 47
        }
      ]
    },
    {
      "cell_type": "markdown",
      "source": [
        "Now, let's see the descriptive statistics for my failed puzzles compared to all of my played puzzles."
      ],
      "metadata": {
        "id": "V-jxNeV2IzIv"
      },
      "id": "V-jxNeV2IzIv"
    },
    {
      "cell_type": "code",
      "source": [
        "failed_puzzles_df.describe()"
      ],
      "metadata": {
        "colab": {
          "base_uri": "https://localhost:8080/",
          "height": 300
        },
        "id": "jdIQu3sjI30v",
        "outputId": "2352ae02-2cb3-4e86-ed6a-8d8374997f13"
      },
      "id": "jdIQu3sjI30v",
      "execution_count": null,
      "outputs": [
        {
          "output_type": "execute_result",
          "data": {
            "text/plain": [
              "       Rating_Deviation  Popularity  Number_of_Plays  Puzzle_Length  \\\n",
              "count        165.000000  165.000000       165.000000     165.000000   \n",
              "mean          76.945455   93.509091     43615.842424       4.696970   \n",
              "std            3.280122    3.138312     56824.801953       1.491538   \n",
              "min           71.000000   70.000000       212.000000       3.000000   \n",
              "25%           75.000000   92.000000      4998.000000       3.000000   \n",
              "50%           76.000000   94.000000      9326.000000       5.000000   \n",
              "75%           79.000000   95.000000    121043.000000       5.000000   \n",
              "max           88.000000   98.000000    157807.000000       9.000000   \n",
              "\n",
              "       puzzleRating  \n",
              "count    165.000000  \n",
              "mean    1816.763636  \n",
              "std      220.422568  \n",
              "min      984.000000  \n",
              "25%     1704.000000  \n",
              "50%     1823.000000  \n",
              "75%     1973.000000  \n",
              "max     2344.000000  "
            ],
            "text/html": [
              "\n",
              "  <div id=\"df-b31f5ae2-1b52-40d8-973a-a5c092fb030a\">\n",
              "    <div class=\"colab-df-container\">\n",
              "      <div>\n",
              "<style scoped>\n",
              "    .dataframe tbody tr th:only-of-type {\n",
              "        vertical-align: middle;\n",
              "    }\n",
              "\n",
              "    .dataframe tbody tr th {\n",
              "        vertical-align: top;\n",
              "    }\n",
              "\n",
              "    .dataframe thead th {\n",
              "        text-align: right;\n",
              "    }\n",
              "</style>\n",
              "<table border=\"1\" class=\"dataframe\">\n",
              "  <thead>\n",
              "    <tr style=\"text-align: right;\">\n",
              "      <th></th>\n",
              "      <th>Rating_Deviation</th>\n",
              "      <th>Popularity</th>\n",
              "      <th>Number_of_Plays</th>\n",
              "      <th>Puzzle_Length</th>\n",
              "      <th>puzzleRating</th>\n",
              "    </tr>\n",
              "  </thead>\n",
              "  <tbody>\n",
              "    <tr>\n",
              "      <th>count</th>\n",
              "      <td>165.000000</td>\n",
              "      <td>165.000000</td>\n",
              "      <td>165.000000</td>\n",
              "      <td>165.000000</td>\n",
              "      <td>165.000000</td>\n",
              "    </tr>\n",
              "    <tr>\n",
              "      <th>mean</th>\n",
              "      <td>76.945455</td>\n",
              "      <td>93.509091</td>\n",
              "      <td>43615.842424</td>\n",
              "      <td>4.696970</td>\n",
              "      <td>1816.763636</td>\n",
              "    </tr>\n",
              "    <tr>\n",
              "      <th>std</th>\n",
              "      <td>3.280122</td>\n",
              "      <td>3.138312</td>\n",
              "      <td>56824.801953</td>\n",
              "      <td>1.491538</td>\n",
              "      <td>220.422568</td>\n",
              "    </tr>\n",
              "    <tr>\n",
              "      <th>min</th>\n",
              "      <td>71.000000</td>\n",
              "      <td>70.000000</td>\n",
              "      <td>212.000000</td>\n",
              "      <td>3.000000</td>\n",
              "      <td>984.000000</td>\n",
              "    </tr>\n",
              "    <tr>\n",
              "      <th>25%</th>\n",
              "      <td>75.000000</td>\n",
              "      <td>92.000000</td>\n",
              "      <td>4998.000000</td>\n",
              "      <td>3.000000</td>\n",
              "      <td>1704.000000</td>\n",
              "    </tr>\n",
              "    <tr>\n",
              "      <th>50%</th>\n",
              "      <td>76.000000</td>\n",
              "      <td>94.000000</td>\n",
              "      <td>9326.000000</td>\n",
              "      <td>5.000000</td>\n",
              "      <td>1823.000000</td>\n",
              "    </tr>\n",
              "    <tr>\n",
              "      <th>75%</th>\n",
              "      <td>79.000000</td>\n",
              "      <td>95.000000</td>\n",
              "      <td>121043.000000</td>\n",
              "      <td>5.000000</td>\n",
              "      <td>1973.000000</td>\n",
              "    </tr>\n",
              "    <tr>\n",
              "      <th>max</th>\n",
              "      <td>88.000000</td>\n",
              "      <td>98.000000</td>\n",
              "      <td>157807.000000</td>\n",
              "      <td>9.000000</td>\n",
              "      <td>2344.000000</td>\n",
              "    </tr>\n",
              "  </tbody>\n",
              "</table>\n",
              "</div>\n",
              "      <button class=\"colab-df-convert\" onclick=\"convertToInteractive('df-b31f5ae2-1b52-40d8-973a-a5c092fb030a')\"\n",
              "              title=\"Convert this dataframe to an interactive table.\"\n",
              "              style=\"display:none;\">\n",
              "        \n",
              "  <svg xmlns=\"http://www.w3.org/2000/svg\" height=\"24px\"viewBox=\"0 0 24 24\"\n",
              "       width=\"24px\">\n",
              "    <path d=\"M0 0h24v24H0V0z\" fill=\"none\"/>\n",
              "    <path d=\"M18.56 5.44l.94 2.06.94-2.06 2.06-.94-2.06-.94-.94-2.06-.94 2.06-2.06.94zm-11 1L8.5 8.5l.94-2.06 2.06-.94-2.06-.94L8.5 2.5l-.94 2.06-2.06.94zm10 10l.94 2.06.94-2.06 2.06-.94-2.06-.94-.94-2.06-.94 2.06-2.06.94z\"/><path d=\"M17.41 7.96l-1.37-1.37c-.4-.4-.92-.59-1.43-.59-.52 0-1.04.2-1.43.59L10.3 9.45l-7.72 7.72c-.78.78-.78 2.05 0 2.83L4 21.41c.39.39.9.59 1.41.59.51 0 1.02-.2 1.41-.59l7.78-7.78 2.81-2.81c.8-.78.8-2.07 0-2.86zM5.41 20L4 18.59l7.72-7.72 1.47 1.35L5.41 20z\"/>\n",
              "  </svg>\n",
              "      </button>\n",
              "      \n",
              "  <style>\n",
              "    .colab-df-container {\n",
              "      display:flex;\n",
              "      flex-wrap:wrap;\n",
              "      gap: 12px;\n",
              "    }\n",
              "\n",
              "    .colab-df-convert {\n",
              "      background-color: #E8F0FE;\n",
              "      border: none;\n",
              "      border-radius: 50%;\n",
              "      cursor: pointer;\n",
              "      display: none;\n",
              "      fill: #1967D2;\n",
              "      height: 32px;\n",
              "      padding: 0 0 0 0;\n",
              "      width: 32px;\n",
              "    }\n",
              "\n",
              "    .colab-df-convert:hover {\n",
              "      background-color: #E2EBFA;\n",
              "      box-shadow: 0px 1px 2px rgba(60, 64, 67, 0.3), 0px 1px 3px 1px rgba(60, 64, 67, 0.15);\n",
              "      fill: #174EA6;\n",
              "    }\n",
              "\n",
              "    [theme=dark] .colab-df-convert {\n",
              "      background-color: #3B4455;\n",
              "      fill: #D2E3FC;\n",
              "    }\n",
              "\n",
              "    [theme=dark] .colab-df-convert:hover {\n",
              "      background-color: #434B5C;\n",
              "      box-shadow: 0px 1px 3px 1px rgba(0, 0, 0, 0.15);\n",
              "      filter: drop-shadow(0px 1px 2px rgba(0, 0, 0, 0.3));\n",
              "      fill: #FFFFFF;\n",
              "    }\n",
              "  </style>\n",
              "\n",
              "      <script>\n",
              "        const buttonEl =\n",
              "          document.querySelector('#df-b31f5ae2-1b52-40d8-973a-a5c092fb030a button.colab-df-convert');\n",
              "        buttonEl.style.display =\n",
              "          google.colab.kernel.accessAllowed ? 'block' : 'none';\n",
              "\n",
              "        async function convertToInteractive(key) {\n",
              "          const element = document.querySelector('#df-b31f5ae2-1b52-40d8-973a-a5c092fb030a');\n",
              "          const dataTable =\n",
              "            await google.colab.kernel.invokeFunction('convertToInteractive',\n",
              "                                                     [key], {});\n",
              "          if (!dataTable) return;\n",
              "\n",
              "          const docLinkHtml = 'Like what you see? Visit the ' +\n",
              "            '<a target=\"_blank\" href=https://colab.research.google.com/notebooks/data_table.ipynb>data table notebook</a>'\n",
              "            + ' to learn more about interactive tables.';\n",
              "          element.innerHTML = '';\n",
              "          dataTable['output_type'] = 'display_data';\n",
              "          await google.colab.output.renderOutput(dataTable, element);\n",
              "          const docLink = document.createElement('div');\n",
              "          docLink.innerHTML = docLinkHtml;\n",
              "          element.appendChild(docLink);\n",
              "        }\n",
              "      </script>\n",
              "    </div>\n",
              "  </div>\n",
              "  "
            ]
          },
          "metadata": {},
          "execution_count": 48
        }
      ]
    },
    {
      "cell_type": "code",
      "source": [
        "played_puzzles_df.describe()"
      ],
      "metadata": {
        "colab": {
          "base_uri": "https://localhost:8080/",
          "height": 300
        },
        "id": "k20oMyPaJFiE",
        "outputId": "bdd7149e-7725-46dd-d8d5-baeb1ce746cd"
      },
      "id": "k20oMyPaJFiE",
      "execution_count": null,
      "outputs": [
        {
          "output_type": "execute_result",
          "data": {
            "text/plain": [
              "       Rating_Deviation   Popularity  Number_of_Plays  Puzzle_Length  \\\n",
              "count       1716.000000  1716.000000      1716.000000    1716.000000   \n",
              "mean          75.900932    94.048368     16359.643939       4.351981   \n",
              "std            3.452059     2.891526     33833.214927       1.536230   \n",
              "min           70.000000    52.000000        22.000000       1.000000   \n",
              "25%           74.000000    93.000000      3194.000000       3.000000   \n",
              "50%           75.000000    95.000000      6706.500000       5.000000   \n",
              "75%           77.000000    96.000000     10885.250000       5.000000   \n",
              "max          142.000000   100.000000    176174.000000      13.000000   \n",
              "\n",
              "       puzzleRating  \n",
              "count   1716.000000  \n",
              "mean    1807.323427  \n",
              "std      221.321003  \n",
              "min      984.000000  \n",
              "25%     1673.750000  \n",
              "50%     1798.000000  \n",
              "75%     1922.000000  \n",
              "max     2661.000000  "
            ],
            "text/html": [
              "\n",
              "  <div id=\"df-41de8a64-108b-4e76-8470-b9f7762e0825\">\n",
              "    <div class=\"colab-df-container\">\n",
              "      <div>\n",
              "<style scoped>\n",
              "    .dataframe tbody tr th:only-of-type {\n",
              "        vertical-align: middle;\n",
              "    }\n",
              "\n",
              "    .dataframe tbody tr th {\n",
              "        vertical-align: top;\n",
              "    }\n",
              "\n",
              "    .dataframe thead th {\n",
              "        text-align: right;\n",
              "    }\n",
              "</style>\n",
              "<table border=\"1\" class=\"dataframe\">\n",
              "  <thead>\n",
              "    <tr style=\"text-align: right;\">\n",
              "      <th></th>\n",
              "      <th>Rating_Deviation</th>\n",
              "      <th>Popularity</th>\n",
              "      <th>Number_of_Plays</th>\n",
              "      <th>Puzzle_Length</th>\n",
              "      <th>puzzleRating</th>\n",
              "    </tr>\n",
              "  </thead>\n",
              "  <tbody>\n",
              "    <tr>\n",
              "      <th>count</th>\n",
              "      <td>1716.000000</td>\n",
              "      <td>1716.000000</td>\n",
              "      <td>1716.000000</td>\n",
              "      <td>1716.000000</td>\n",
              "      <td>1716.000000</td>\n",
              "    </tr>\n",
              "    <tr>\n",
              "      <th>mean</th>\n",
              "      <td>75.900932</td>\n",
              "      <td>94.048368</td>\n",
              "      <td>16359.643939</td>\n",
              "      <td>4.351981</td>\n",
              "      <td>1807.323427</td>\n",
              "    </tr>\n",
              "    <tr>\n",
              "      <th>std</th>\n",
              "      <td>3.452059</td>\n",
              "      <td>2.891526</td>\n",
              "      <td>33833.214927</td>\n",
              "      <td>1.536230</td>\n",
              "      <td>221.321003</td>\n",
              "    </tr>\n",
              "    <tr>\n",
              "      <th>min</th>\n",
              "      <td>70.000000</td>\n",
              "      <td>52.000000</td>\n",
              "      <td>22.000000</td>\n",
              "      <td>1.000000</td>\n",
              "      <td>984.000000</td>\n",
              "    </tr>\n",
              "    <tr>\n",
              "      <th>25%</th>\n",
              "      <td>74.000000</td>\n",
              "      <td>93.000000</td>\n",
              "      <td>3194.000000</td>\n",
              "      <td>3.000000</td>\n",
              "      <td>1673.750000</td>\n",
              "    </tr>\n",
              "    <tr>\n",
              "      <th>50%</th>\n",
              "      <td>75.000000</td>\n",
              "      <td>95.000000</td>\n",
              "      <td>6706.500000</td>\n",
              "      <td>5.000000</td>\n",
              "      <td>1798.000000</td>\n",
              "    </tr>\n",
              "    <tr>\n",
              "      <th>75%</th>\n",
              "      <td>77.000000</td>\n",
              "      <td>96.000000</td>\n",
              "      <td>10885.250000</td>\n",
              "      <td>5.000000</td>\n",
              "      <td>1922.000000</td>\n",
              "    </tr>\n",
              "    <tr>\n",
              "      <th>max</th>\n",
              "      <td>142.000000</td>\n",
              "      <td>100.000000</td>\n",
              "      <td>176174.000000</td>\n",
              "      <td>13.000000</td>\n",
              "      <td>2661.000000</td>\n",
              "    </tr>\n",
              "  </tbody>\n",
              "</table>\n",
              "</div>\n",
              "      <button class=\"colab-df-convert\" onclick=\"convertToInteractive('df-41de8a64-108b-4e76-8470-b9f7762e0825')\"\n",
              "              title=\"Convert this dataframe to an interactive table.\"\n",
              "              style=\"display:none;\">\n",
              "        \n",
              "  <svg xmlns=\"http://www.w3.org/2000/svg\" height=\"24px\"viewBox=\"0 0 24 24\"\n",
              "       width=\"24px\">\n",
              "    <path d=\"M0 0h24v24H0V0z\" fill=\"none\"/>\n",
              "    <path d=\"M18.56 5.44l.94 2.06.94-2.06 2.06-.94-2.06-.94-.94-2.06-.94 2.06-2.06.94zm-11 1L8.5 8.5l.94-2.06 2.06-.94-2.06-.94L8.5 2.5l-.94 2.06-2.06.94zm10 10l.94 2.06.94-2.06 2.06-.94-2.06-.94-.94-2.06-.94 2.06-2.06.94z\"/><path d=\"M17.41 7.96l-1.37-1.37c-.4-.4-.92-.59-1.43-.59-.52 0-1.04.2-1.43.59L10.3 9.45l-7.72 7.72c-.78.78-.78 2.05 0 2.83L4 21.41c.39.39.9.59 1.41.59.51 0 1.02-.2 1.41-.59l7.78-7.78 2.81-2.81c.8-.78.8-2.07 0-2.86zM5.41 20L4 18.59l7.72-7.72 1.47 1.35L5.41 20z\"/>\n",
              "  </svg>\n",
              "      </button>\n",
              "      \n",
              "  <style>\n",
              "    .colab-df-container {\n",
              "      display:flex;\n",
              "      flex-wrap:wrap;\n",
              "      gap: 12px;\n",
              "    }\n",
              "\n",
              "    .colab-df-convert {\n",
              "      background-color: #E8F0FE;\n",
              "      border: none;\n",
              "      border-radius: 50%;\n",
              "      cursor: pointer;\n",
              "      display: none;\n",
              "      fill: #1967D2;\n",
              "      height: 32px;\n",
              "      padding: 0 0 0 0;\n",
              "      width: 32px;\n",
              "    }\n",
              "\n",
              "    .colab-df-convert:hover {\n",
              "      background-color: #E2EBFA;\n",
              "      box-shadow: 0px 1px 2px rgba(60, 64, 67, 0.3), 0px 1px 3px 1px rgba(60, 64, 67, 0.15);\n",
              "      fill: #174EA6;\n",
              "    }\n",
              "\n",
              "    [theme=dark] .colab-df-convert {\n",
              "      background-color: #3B4455;\n",
              "      fill: #D2E3FC;\n",
              "    }\n",
              "\n",
              "    [theme=dark] .colab-df-convert:hover {\n",
              "      background-color: #434B5C;\n",
              "      box-shadow: 0px 1px 3px 1px rgba(0, 0, 0, 0.15);\n",
              "      filter: drop-shadow(0px 1px 2px rgba(0, 0, 0, 0.3));\n",
              "      fill: #FFFFFF;\n",
              "    }\n",
              "  </style>\n",
              "\n",
              "      <script>\n",
              "        const buttonEl =\n",
              "          document.querySelector('#df-41de8a64-108b-4e76-8470-b9f7762e0825 button.colab-df-convert');\n",
              "        buttonEl.style.display =\n",
              "          google.colab.kernel.accessAllowed ? 'block' : 'none';\n",
              "\n",
              "        async function convertToInteractive(key) {\n",
              "          const element = document.querySelector('#df-41de8a64-108b-4e76-8470-b9f7762e0825');\n",
              "          const dataTable =\n",
              "            await google.colab.kernel.invokeFunction('convertToInteractive',\n",
              "                                                     [key], {});\n",
              "          if (!dataTable) return;\n",
              "\n",
              "          const docLinkHtml = 'Like what you see? Visit the ' +\n",
              "            '<a target=\"_blank\" href=https://colab.research.google.com/notebooks/data_table.ipynb>data table notebook</a>'\n",
              "            + ' to learn more about interactive tables.';\n",
              "          element.innerHTML = '';\n",
              "          dataTable['output_type'] = 'display_data';\n",
              "          await google.colab.output.renderOutput(dataTable, element);\n",
              "          const docLink = document.createElement('div');\n",
              "          docLink.innerHTML = docLinkHtml;\n",
              "          element.appendChild(docLink);\n",
              "        }\n",
              "      </script>\n",
              "    </div>\n",
              "  </div>\n",
              "  "
            ]
          },
          "metadata": {},
          "execution_count": 49
        }
      ]
    },
    {
      "cell_type": "markdown",
      "source": [
        "Nothing striking jumps out at me here."
      ],
      "metadata": {
        "id": "xZGtXhZrJada"
      },
      "id": "xZGtXhZrJada"
    },
    {
      "cell_type": "markdown",
      "source": [
        "# Win rate<a name='win-rate'></a>\n",
        "---"
      ],
      "metadata": {
        "id": "KdvMRALZS7js"
      },
      "id": "KdvMRALZS7js"
    },
    {
      "cell_type": "markdown",
      "source": [
        "## Win correlation\n",
        "\n",
        "Are any of the puzzle features correlated with the `win` column?"
      ],
      "metadata": {
        "id": "PEbTtF9OKHnw"
      },
      "id": "PEbTtF9OKHnw"
    },
    {
      "cell_type": "code",
      "source": [
        "played_puzzles_df.corr(numeric_only = True)"
      ],
      "metadata": {
        "colab": {
          "base_uri": "https://localhost:8080/",
          "height": 238
        },
        "id": "z6qeip-KJiOd",
        "outputId": "fb9eb60b-206e-4547-da75-b60d40859c39"
      },
      "id": "z6qeip-KJiOd",
      "execution_count": null,
      "outputs": [
        {
          "output_type": "execute_result",
          "data": {
            "text/plain": [
              "                  Rating_Deviation  Popularity  Number_of_Plays  \\\n",
              "Rating_Deviation          1.000000   -0.250007         0.388279   \n",
              "Popularity               -0.250007    1.000000        -0.301106   \n",
              "Number_of_Plays           0.388279   -0.301106         1.000000   \n",
              "Puzzle_Length             0.015595   -0.027331         0.074768   \n",
              "win                      -0.098719    0.060848        -0.262836   \n",
              "puzzleRating              0.207310   -0.236615         0.169313   \n",
              "\n",
              "                  Puzzle_Length       win  puzzleRating  \n",
              "Rating_Deviation       0.015595 -0.098719      0.207310  \n",
              "Popularity            -0.027331  0.060848     -0.236615  \n",
              "Number_of_Plays        0.074768 -0.262836      0.169313  \n",
              "Puzzle_Length          1.000000 -0.073267      0.143086  \n",
              "win                   -0.073267  1.000000     -0.013916  \n",
              "puzzleRating           0.143086 -0.013916      1.000000  "
            ],
            "text/html": [
              "\n",
              "  <div id=\"df-903ea54d-e6c6-4cbd-b8d0-6d7a8edd3906\">\n",
              "    <div class=\"colab-df-container\">\n",
              "      <div>\n",
              "<style scoped>\n",
              "    .dataframe tbody tr th:only-of-type {\n",
              "        vertical-align: middle;\n",
              "    }\n",
              "\n",
              "    .dataframe tbody tr th {\n",
              "        vertical-align: top;\n",
              "    }\n",
              "\n",
              "    .dataframe thead th {\n",
              "        text-align: right;\n",
              "    }\n",
              "</style>\n",
              "<table border=\"1\" class=\"dataframe\">\n",
              "  <thead>\n",
              "    <tr style=\"text-align: right;\">\n",
              "      <th></th>\n",
              "      <th>Rating_Deviation</th>\n",
              "      <th>Popularity</th>\n",
              "      <th>Number_of_Plays</th>\n",
              "      <th>Puzzle_Length</th>\n",
              "      <th>win</th>\n",
              "      <th>puzzleRating</th>\n",
              "    </tr>\n",
              "  </thead>\n",
              "  <tbody>\n",
              "    <tr>\n",
              "      <th>Rating_Deviation</th>\n",
              "      <td>1.000000</td>\n",
              "      <td>-0.250007</td>\n",
              "      <td>0.388279</td>\n",
              "      <td>0.015595</td>\n",
              "      <td>-0.098719</td>\n",
              "      <td>0.207310</td>\n",
              "    </tr>\n",
              "    <tr>\n",
              "      <th>Popularity</th>\n",
              "      <td>-0.250007</td>\n",
              "      <td>1.000000</td>\n",
              "      <td>-0.301106</td>\n",
              "      <td>-0.027331</td>\n",
              "      <td>0.060848</td>\n",
              "      <td>-0.236615</td>\n",
              "    </tr>\n",
              "    <tr>\n",
              "      <th>Number_of_Plays</th>\n",
              "      <td>0.388279</td>\n",
              "      <td>-0.301106</td>\n",
              "      <td>1.000000</td>\n",
              "      <td>0.074768</td>\n",
              "      <td>-0.262836</td>\n",
              "      <td>0.169313</td>\n",
              "    </tr>\n",
              "    <tr>\n",
              "      <th>Puzzle_Length</th>\n",
              "      <td>0.015595</td>\n",
              "      <td>-0.027331</td>\n",
              "      <td>0.074768</td>\n",
              "      <td>1.000000</td>\n",
              "      <td>-0.073267</td>\n",
              "      <td>0.143086</td>\n",
              "    </tr>\n",
              "    <tr>\n",
              "      <th>win</th>\n",
              "      <td>-0.098719</td>\n",
              "      <td>0.060848</td>\n",
              "      <td>-0.262836</td>\n",
              "      <td>-0.073267</td>\n",
              "      <td>1.000000</td>\n",
              "      <td>-0.013916</td>\n",
              "    </tr>\n",
              "    <tr>\n",
              "      <th>puzzleRating</th>\n",
              "      <td>0.207310</td>\n",
              "      <td>-0.236615</td>\n",
              "      <td>0.169313</td>\n",
              "      <td>0.143086</td>\n",
              "      <td>-0.013916</td>\n",
              "      <td>1.000000</td>\n",
              "    </tr>\n",
              "  </tbody>\n",
              "</table>\n",
              "</div>\n",
              "      <button class=\"colab-df-convert\" onclick=\"convertToInteractive('df-903ea54d-e6c6-4cbd-b8d0-6d7a8edd3906')\"\n",
              "              title=\"Convert this dataframe to an interactive table.\"\n",
              "              style=\"display:none;\">\n",
              "        \n",
              "  <svg xmlns=\"http://www.w3.org/2000/svg\" height=\"24px\"viewBox=\"0 0 24 24\"\n",
              "       width=\"24px\">\n",
              "    <path d=\"M0 0h24v24H0V0z\" fill=\"none\"/>\n",
              "    <path d=\"M18.56 5.44l.94 2.06.94-2.06 2.06-.94-2.06-.94-.94-2.06-.94 2.06-2.06.94zm-11 1L8.5 8.5l.94-2.06 2.06-.94-2.06-.94L8.5 2.5l-.94 2.06-2.06.94zm10 10l.94 2.06.94-2.06 2.06-.94-2.06-.94-.94-2.06-.94 2.06-2.06.94z\"/><path d=\"M17.41 7.96l-1.37-1.37c-.4-.4-.92-.59-1.43-.59-.52 0-1.04.2-1.43.59L10.3 9.45l-7.72 7.72c-.78.78-.78 2.05 0 2.83L4 21.41c.39.39.9.59 1.41.59.51 0 1.02-.2 1.41-.59l7.78-7.78 2.81-2.81c.8-.78.8-2.07 0-2.86zM5.41 20L4 18.59l7.72-7.72 1.47 1.35L5.41 20z\"/>\n",
              "  </svg>\n",
              "      </button>\n",
              "      \n",
              "  <style>\n",
              "    .colab-df-container {\n",
              "      display:flex;\n",
              "      flex-wrap:wrap;\n",
              "      gap: 12px;\n",
              "    }\n",
              "\n",
              "    .colab-df-convert {\n",
              "      background-color: #E8F0FE;\n",
              "      border: none;\n",
              "      border-radius: 50%;\n",
              "      cursor: pointer;\n",
              "      display: none;\n",
              "      fill: #1967D2;\n",
              "      height: 32px;\n",
              "      padding: 0 0 0 0;\n",
              "      width: 32px;\n",
              "    }\n",
              "\n",
              "    .colab-df-convert:hover {\n",
              "      background-color: #E2EBFA;\n",
              "      box-shadow: 0px 1px 2px rgba(60, 64, 67, 0.3), 0px 1px 3px 1px rgba(60, 64, 67, 0.15);\n",
              "      fill: #174EA6;\n",
              "    }\n",
              "\n",
              "    [theme=dark] .colab-df-convert {\n",
              "      background-color: #3B4455;\n",
              "      fill: #D2E3FC;\n",
              "    }\n",
              "\n",
              "    [theme=dark] .colab-df-convert:hover {\n",
              "      background-color: #434B5C;\n",
              "      box-shadow: 0px 1px 3px 1px rgba(0, 0, 0, 0.15);\n",
              "      filter: drop-shadow(0px 1px 2px rgba(0, 0, 0, 0.3));\n",
              "      fill: #FFFFFF;\n",
              "    }\n",
              "  </style>\n",
              "\n",
              "      <script>\n",
              "        const buttonEl =\n",
              "          document.querySelector('#df-903ea54d-e6c6-4cbd-b8d0-6d7a8edd3906 button.colab-df-convert');\n",
              "        buttonEl.style.display =\n",
              "          google.colab.kernel.accessAllowed ? 'block' : 'none';\n",
              "\n",
              "        async function convertToInteractive(key) {\n",
              "          const element = document.querySelector('#df-903ea54d-e6c6-4cbd-b8d0-6d7a8edd3906');\n",
              "          const dataTable =\n",
              "            await google.colab.kernel.invokeFunction('convertToInteractive',\n",
              "                                                     [key], {});\n",
              "          if (!dataTable) return;\n",
              "\n",
              "          const docLinkHtml = 'Like what you see? Visit the ' +\n",
              "            '<a target=\"_blank\" href=https://colab.research.google.com/notebooks/data_table.ipynb>data table notebook</a>'\n",
              "            + ' to learn more about interactive tables.';\n",
              "          element.innerHTML = '';\n",
              "          dataTable['output_type'] = 'display_data';\n",
              "          await google.colab.output.renderOutput(dataTable, element);\n",
              "          const docLink = document.createElement('div');\n",
              "          docLink.innerHTML = docLinkHtml;\n",
              "          element.appendChild(docLink);\n",
              "        }\n",
              "      </script>\n",
              "    </div>\n",
              "  </div>\n",
              "  "
            ]
          },
          "metadata": {},
          "execution_count": 50
        }
      ]
    },
    {
      "cell_type": "markdown",
      "source": [
        "Interestingly, there is hardly any correlation between `win` and `puzzleRating`, suggesting that my strategy of taking as long as necessary to solve a puzzle may be able to take my rating higher still (though I don't think I have the patience for that). \n",
        "\n",
        "The negative correlation between `puzzleRating` and `win` is stronger (though still weak) for puzzles played before October 2022."
      ],
      "metadata": {
        "id": "AtQzkcysKQNU"
      },
      "id": "AtQzkcysKQNU"
    },
    {
      "cell_type": "code",
      "source": [
        "played_puzzles_df[played_puzzles_df['date'] < \"2022-10-01\"].corr(numeric_only = True)"
      ],
      "metadata": {
        "colab": {
          "base_uri": "https://localhost:8080/",
          "height": 238
        },
        "id": "El6ZMkRW1ifu",
        "outputId": "e6b889b1-0e16-4404-d61e-faa45c8c5ff7"
      },
      "id": "El6ZMkRW1ifu",
      "execution_count": null,
      "outputs": [
        {
          "output_type": "execute_result",
          "data": {
            "text/plain": [
              "                  Rating_Deviation  Popularity  Number_of_Plays  \\\n",
              "Rating_Deviation          1.000000   -0.467261         0.657128   \n",
              "Popularity               -0.467261    1.000000        -0.412549   \n",
              "Number_of_Plays           0.657128   -0.412549         1.000000   \n",
              "Puzzle_Length             0.039464   -0.002720         0.084330   \n",
              "win                      -0.197549    0.111071        -0.257125   \n",
              "puzzleRating              0.235070   -0.191159         0.408007   \n",
              "\n",
              "                  Puzzle_Length       win  puzzleRating  \n",
              "Rating_Deviation       0.039464 -0.197549      0.235070  \n",
              "Popularity            -0.002720  0.111071     -0.191159  \n",
              "Number_of_Plays        0.084330 -0.257125      0.408007  \n",
              "Puzzle_Length          1.000000 -0.092212      0.138387  \n",
              "win                   -0.092212  1.000000     -0.157737  \n",
              "puzzleRating           0.138387 -0.157737      1.000000  "
            ],
            "text/html": [
              "\n",
              "  <div id=\"df-0f20a418-38aa-4bfd-81a9-3b6c5c340ffa\">\n",
              "    <div class=\"colab-df-container\">\n",
              "      <div>\n",
              "<style scoped>\n",
              "    .dataframe tbody tr th:only-of-type {\n",
              "        vertical-align: middle;\n",
              "    }\n",
              "\n",
              "    .dataframe tbody tr th {\n",
              "        vertical-align: top;\n",
              "    }\n",
              "\n",
              "    .dataframe thead th {\n",
              "        text-align: right;\n",
              "    }\n",
              "</style>\n",
              "<table border=\"1\" class=\"dataframe\">\n",
              "  <thead>\n",
              "    <tr style=\"text-align: right;\">\n",
              "      <th></th>\n",
              "      <th>Rating_Deviation</th>\n",
              "      <th>Popularity</th>\n",
              "      <th>Number_of_Plays</th>\n",
              "      <th>Puzzle_Length</th>\n",
              "      <th>win</th>\n",
              "      <th>puzzleRating</th>\n",
              "    </tr>\n",
              "  </thead>\n",
              "  <tbody>\n",
              "    <tr>\n",
              "      <th>Rating_Deviation</th>\n",
              "      <td>1.000000</td>\n",
              "      <td>-0.467261</td>\n",
              "      <td>0.657128</td>\n",
              "      <td>0.039464</td>\n",
              "      <td>-0.197549</td>\n",
              "      <td>0.235070</td>\n",
              "    </tr>\n",
              "    <tr>\n",
              "      <th>Popularity</th>\n",
              "      <td>-0.467261</td>\n",
              "      <td>1.000000</td>\n",
              "      <td>-0.412549</td>\n",
              "      <td>-0.002720</td>\n",
              "      <td>0.111071</td>\n",
              "      <td>-0.191159</td>\n",
              "    </tr>\n",
              "    <tr>\n",
              "      <th>Number_of_Plays</th>\n",
              "      <td>0.657128</td>\n",
              "      <td>-0.412549</td>\n",
              "      <td>1.000000</td>\n",
              "      <td>0.084330</td>\n",
              "      <td>-0.257125</td>\n",
              "      <td>0.408007</td>\n",
              "    </tr>\n",
              "    <tr>\n",
              "      <th>Puzzle_Length</th>\n",
              "      <td>0.039464</td>\n",
              "      <td>-0.002720</td>\n",
              "      <td>0.084330</td>\n",
              "      <td>1.000000</td>\n",
              "      <td>-0.092212</td>\n",
              "      <td>0.138387</td>\n",
              "    </tr>\n",
              "    <tr>\n",
              "      <th>win</th>\n",
              "      <td>-0.197549</td>\n",
              "      <td>0.111071</td>\n",
              "      <td>-0.257125</td>\n",
              "      <td>-0.092212</td>\n",
              "      <td>1.000000</td>\n",
              "      <td>-0.157737</td>\n",
              "    </tr>\n",
              "    <tr>\n",
              "      <th>puzzleRating</th>\n",
              "      <td>0.235070</td>\n",
              "      <td>-0.191159</td>\n",
              "      <td>0.408007</td>\n",
              "      <td>0.138387</td>\n",
              "      <td>-0.157737</td>\n",
              "      <td>1.000000</td>\n",
              "    </tr>\n",
              "  </tbody>\n",
              "</table>\n",
              "</div>\n",
              "      <button class=\"colab-df-convert\" onclick=\"convertToInteractive('df-0f20a418-38aa-4bfd-81a9-3b6c5c340ffa')\"\n",
              "              title=\"Convert this dataframe to an interactive table.\"\n",
              "              style=\"display:none;\">\n",
              "        \n",
              "  <svg xmlns=\"http://www.w3.org/2000/svg\" height=\"24px\"viewBox=\"0 0 24 24\"\n",
              "       width=\"24px\">\n",
              "    <path d=\"M0 0h24v24H0V0z\" fill=\"none\"/>\n",
              "    <path d=\"M18.56 5.44l.94 2.06.94-2.06 2.06-.94-2.06-.94-.94-2.06-.94 2.06-2.06.94zm-11 1L8.5 8.5l.94-2.06 2.06-.94-2.06-.94L8.5 2.5l-.94 2.06-2.06.94zm10 10l.94 2.06.94-2.06 2.06-.94-2.06-.94-.94-2.06-.94 2.06-2.06.94z\"/><path d=\"M17.41 7.96l-1.37-1.37c-.4-.4-.92-.59-1.43-.59-.52 0-1.04.2-1.43.59L10.3 9.45l-7.72 7.72c-.78.78-.78 2.05 0 2.83L4 21.41c.39.39.9.59 1.41.59.51 0 1.02-.2 1.41-.59l7.78-7.78 2.81-2.81c.8-.78.8-2.07 0-2.86zM5.41 20L4 18.59l7.72-7.72 1.47 1.35L5.41 20z\"/>\n",
              "  </svg>\n",
              "      </button>\n",
              "      \n",
              "  <style>\n",
              "    .colab-df-container {\n",
              "      display:flex;\n",
              "      flex-wrap:wrap;\n",
              "      gap: 12px;\n",
              "    }\n",
              "\n",
              "    .colab-df-convert {\n",
              "      background-color: #E8F0FE;\n",
              "      border: none;\n",
              "      border-radius: 50%;\n",
              "      cursor: pointer;\n",
              "      display: none;\n",
              "      fill: #1967D2;\n",
              "      height: 32px;\n",
              "      padding: 0 0 0 0;\n",
              "      width: 32px;\n",
              "    }\n",
              "\n",
              "    .colab-df-convert:hover {\n",
              "      background-color: #E2EBFA;\n",
              "      box-shadow: 0px 1px 2px rgba(60, 64, 67, 0.3), 0px 1px 3px 1px rgba(60, 64, 67, 0.15);\n",
              "      fill: #174EA6;\n",
              "    }\n",
              "\n",
              "    [theme=dark] .colab-df-convert {\n",
              "      background-color: #3B4455;\n",
              "      fill: #D2E3FC;\n",
              "    }\n",
              "\n",
              "    [theme=dark] .colab-df-convert:hover {\n",
              "      background-color: #434B5C;\n",
              "      box-shadow: 0px 1px 3px 1px rgba(0, 0, 0, 0.15);\n",
              "      filter: drop-shadow(0px 1px 2px rgba(0, 0, 0, 0.3));\n",
              "      fill: #FFFFFF;\n",
              "    }\n",
              "  </style>\n",
              "\n",
              "      <script>\n",
              "        const buttonEl =\n",
              "          document.querySelector('#df-0f20a418-38aa-4bfd-81a9-3b6c5c340ffa button.colab-df-convert');\n",
              "        buttonEl.style.display =\n",
              "          google.colab.kernel.accessAllowed ? 'block' : 'none';\n",
              "\n",
              "        async function convertToInteractive(key) {\n",
              "          const element = document.querySelector('#df-0f20a418-38aa-4bfd-81a9-3b6c5c340ffa');\n",
              "          const dataTable =\n",
              "            await google.colab.kernel.invokeFunction('convertToInteractive',\n",
              "                                                     [key], {});\n",
              "          if (!dataTable) return;\n",
              "\n",
              "          const docLinkHtml = 'Like what you see? Visit the ' +\n",
              "            '<a target=\"_blank\" href=https://colab.research.google.com/notebooks/data_table.ipynb>data table notebook</a>'\n",
              "            + ' to learn more about interactive tables.';\n",
              "          element.innerHTML = '';\n",
              "          dataTable['output_type'] = 'display_data';\n",
              "          await google.colab.output.renderOutput(dataTable, element);\n",
              "          const docLink = document.createElement('div');\n",
              "          docLink.innerHTML = docLinkHtml;\n",
              "          element.appendChild(docLink);\n",
              "        }\n",
              "      </script>\n",
              "    </div>\n",
              "  </div>\n",
              "  "
            ]
          },
          "metadata": {},
          "execution_count": 66
        }
      ]
    },
    {
      "cell_type": "markdown",
      "source": [
        "There does appear to be a weak negative correlation between `win` and `Number_of_Plays` in `played_puzzles_df`. Do I tend to fail puzzles that I have been played more often?"
      ],
      "metadata": {
        "id": "3Z8JJ7-I1fi5"
      },
      "id": "3Z8JJ7-I1fi5"
    },
    {
      "cell_type": "code",
      "source": [
        "%%R\n",
        "ggplot(played_puzzles_dfr, aes(x = Number_of_Plays, fill = win))+\n",
        "  geom_histogram(binwidth = 2500)+\n",
        "  theme_minimal()"
      ],
      "metadata": {
        "colab": {
          "base_uri": "https://localhost:8080/",
          "height": 497
        },
        "id": "8hJRNKPBKd8p",
        "outputId": "009899f7-9037-437b-c57a-482263d443d1"
      },
      "id": "8hJRNKPBKd8p",
      "execution_count": null,
      "outputs": [
        {
          "output_type": "display_data",
          "data": {
            "image/png": "[encoded data removed]"
          },
          "metadata": {}
        }
      ]
    },
    {
      "cell_type": "markdown",
      "source": [
        "It does appear that my win rate for puzzles with more than `100,000` plays is lower, though I played fewer puzzles with that many plays, so the sample size could be too small to jump to any conclusions."
      ],
      "metadata": {
        "id": "PgFl1MB9L074"
      },
      "id": "PgFl1MB9L074"
    },
    {
      "cell_type": "markdown",
      "source": [
        "## Win Rate by time of day"
      ],
      "metadata": {
        "id": "9-9WhggHQzg1"
      },
      "id": "9-9WhggHQzg1"
    },
    {
      "cell_type": "code",
      "source": [
        "%%R\n",
        "ggplot(puzzle_activity_df, aes(x = wday(date), y = hour(date)))+\n",
        "  labs(x = \"Day of Week\", y = \"Time\")+\n",
        "  geom_tile(aes(fill = win))+\n",
        "  scale_fill_brewer(palette = \"Blues\")+\n",
        "  theme_minimal()"
      ],
      "metadata": {
        "colab": {
          "base_uri": "https://localhost:8080/",
          "height": 497
        },
        "id": "GpNd0vnWIkTR",
        "outputId": "b3846f8a-bd18-4095-b2bf-c4119c32069b"
      },
      "id": "GpNd0vnWIkTR",
      "execution_count": null,
      "outputs": [
        {
          "output_type": "display_data",
          "data": {
            "image/png": "[encoded data removed]"
          },
          "metadata": {}
        }
      ]
    },
    {
      "cell_type": "markdown",
      "source": [
        "Monday and Tuesday seem to be my best puzzle days."
      ],
      "metadata": {
        "id": "lCRFC3PLXQ2J"
      },
      "id": "lCRFC3PLXQ2J"
    },
    {
      "cell_type": "markdown",
      "source": [
        "## Puzzle Rating vs. Win Rate"
      ],
      "metadata": {
        "id": "yByUINMASGLz"
      },
      "id": "yByUINMASGLz"
    },
    {
      "cell_type": "code",
      "source": [
        "%%R\n",
        "ggplot(puzzle_activity_df, aes(x = puzzleRating))+\n",
        "  geom_histogram(aes(fill = win), binwidth = 50)+\n",
        "  theme_minimal()"
      ],
      "metadata": {
        "colab": {
          "base_uri": "https://localhost:8080/",
          "height": 497
        },
        "id": "HIUpw4DfpbEA",
        "outputId": "727adfd6-d15d-4e81-cf40-38c2bcd54e37"
      },
      "id": "HIUpw4DfpbEA",
      "execution_count": null,
      "outputs": [
        {
          "output_type": "display_data",
          "data": {
            "image/png": "[encoded data removed]"
          },
          "metadata": {}
        }
      ]
    },
    {
      "cell_type": "markdown",
      "source": [
        "The rating distribution of puzzles that I've played is unimodal and symmetric, with a median around `1,800`. When I play unrated puzzles, I usually keep them around the `1,800` range, which I find to be a pleasant level of difficulty for simply playing puzzles to pass the time.\n",
        "\n",
        "I get the majority of my puzzles correct, but notice that puzzles with a rating of over `2,300` have a nearly `100%` win rate—again, this is a result of my strategy to only attempt a puzzle once I was as sure as possible of the solution, regardless of how long it takes. Despite what the high win rate might imply, I still find puzzles in this range to be quite challenging, often taking me days of concentrated effort to solve.\n",
        "\n",
        "For reference, the descriptive statistics for the puzzle ratings of the puzzles I played is below."
      ],
      "metadata": {
        "id": "PCAMoa5-qVPh"
      },
      "id": "PCAMoa5-qVPh"
    },
    {
      "cell_type": "code",
      "source": [
        "puzzle_activity_df.describe()"
      ],
      "metadata": {
        "colab": {
          "base_uri": "https://localhost:8080/",
          "height": 297
        },
        "id": "0eX99IKWrEjZ",
        "outputId": "24d4fb3f-eafa-4170-a2ee-d5033da9bcc8"
      },
      "id": "0eX99IKWrEjZ",
      "execution_count": null,
      "outputs": [
        {
          "output_type": "execute_result",
          "data": {
            "text/plain": [
              "       puzzleRating\n",
              "count   1716.000000\n",
              "mean    1807.323427\n",
              "std      221.321003\n",
              "min      984.000000\n",
              "25%     1673.750000\n",
              "50%     1798.000000\n",
              "75%     1922.000000\n",
              "max     2661.000000"
            ],
            "text/html": [
              "\n",
              "  <div id=\"df-ac87943e-c60e-488f-a99d-aeaec7507fe9\">\n",
              "    <div class=\"colab-df-container\">\n",
              "      <div>\n",
              "<style scoped>\n",
              "    .dataframe tbody tr th:only-of-type {\n",
              "        vertical-align: middle;\n",
              "    }\n",
              "\n",
              "    .dataframe tbody tr th {\n",
              "        vertical-align: top;\n",
              "    }\n",
              "\n",
              "    .dataframe thead th {\n",
              "        text-align: right;\n",
              "    }\n",
              "</style>\n",
              "<table border=\"1\" class=\"dataframe\">\n",
              "  <thead>\n",
              "    <tr style=\"text-align: right;\">\n",
              "      <th></th>\n",
              "      <th>puzzleRating</th>\n",
              "    </tr>\n",
              "  </thead>\n",
              "  <tbody>\n",
              "    <tr>\n",
              "      <th>count</th>\n",
              "      <td>1716.000000</td>\n",
              "    </tr>\n",
              "    <tr>\n",
              "      <th>mean</th>\n",
              "      <td>1807.323427</td>\n",
              "    </tr>\n",
              "    <tr>\n",
              "      <th>std</th>\n",
              "      <td>221.321003</td>\n",
              "    </tr>\n",
              "    <tr>\n",
              "      <th>min</th>\n",
              "      <td>984.000000</td>\n",
              "    </tr>\n",
              "    <tr>\n",
              "      <th>25%</th>\n",
              "      <td>1673.750000</td>\n",
              "    </tr>\n",
              "    <tr>\n",
              "      <th>50%</th>\n",
              "      <td>1798.000000</td>\n",
              "    </tr>\n",
              "    <tr>\n",
              "      <th>75%</th>\n",
              "      <td>1922.000000</td>\n",
              "    </tr>\n",
              "    <tr>\n",
              "      <th>max</th>\n",
              "      <td>2661.000000</td>\n",
              "    </tr>\n",
              "  </tbody>\n",
              "</table>\n",
              "</div>\n",
              "      <button class=\"colab-df-convert\" onclick=\"convertToInteractive('df-ac87943e-c60e-488f-a99d-aeaec7507fe9')\"\n",
              "              title=\"Convert this dataframe to an interactive table.\"\n",
              "              style=\"display:none;\">\n",
              "        \n",
              "  <svg xmlns=\"http://www.w3.org/2000/svg\" height=\"24px\"viewBox=\"0 0 24 24\"\n",
              "       width=\"24px\">\n",
              "    <path d=\"M0 0h24v24H0V0z\" fill=\"none\"/>\n",
              "    <path d=\"M18.56 5.44l.94 2.06.94-2.06 2.06-.94-2.06-.94-.94-2.06-.94 2.06-2.06.94zm-11 1L8.5 8.5l.94-2.06 2.06-.94-2.06-.94L8.5 2.5l-.94 2.06-2.06.94zm10 10l.94 2.06.94-2.06 2.06-.94-2.06-.94-.94-2.06-.94 2.06-2.06.94z\"/><path d=\"M17.41 7.96l-1.37-1.37c-.4-.4-.92-.59-1.43-.59-.52 0-1.04.2-1.43.59L10.3 9.45l-7.72 7.72c-.78.78-.78 2.05 0 2.83L4 21.41c.39.39.9.59 1.41.59.51 0 1.02-.2 1.41-.59l7.78-7.78 2.81-2.81c.8-.78.8-2.07 0-2.86zM5.41 20L4 18.59l7.72-7.72 1.47 1.35L5.41 20z\"/>\n",
              "  </svg>\n",
              "      </button>\n",
              "      \n",
              "  <style>\n",
              "    .colab-df-container {\n",
              "      display:flex;\n",
              "      flex-wrap:wrap;\n",
              "      gap: 12px;\n",
              "    }\n",
              "\n",
              "    .colab-df-convert {\n",
              "      background-color: #E8F0FE;\n",
              "      border: none;\n",
              "      border-radius: 50%;\n",
              "      cursor: pointer;\n",
              "      display: none;\n",
              "      fill: #1967D2;\n",
              "      height: 32px;\n",
              "      padding: 0 0 0 0;\n",
              "      width: 32px;\n",
              "    }\n",
              "\n",
              "    .colab-df-convert:hover {\n",
              "      background-color: #E2EBFA;\n",
              "      box-shadow: 0px 1px 2px rgba(60, 64, 67, 0.3), 0px 1px 3px 1px rgba(60, 64, 67, 0.15);\n",
              "      fill: #174EA6;\n",
              "    }\n",
              "\n",
              "    [theme=dark] .colab-df-convert {\n",
              "      background-color: #3B4455;\n",
              "      fill: #D2E3FC;\n",
              "    }\n",
              "\n",
              "    [theme=dark] .colab-df-convert:hover {\n",
              "      background-color: #434B5C;\n",
              "      box-shadow: 0px 1px 3px 1px rgba(0, 0, 0, 0.15);\n",
              "      filter: drop-shadow(0px 1px 2px rgba(0, 0, 0, 0.3));\n",
              "      fill: #FFFFFF;\n",
              "    }\n",
              "  </style>\n",
              "\n",
              "      <script>\n",
              "        const buttonEl =\n",
              "          document.querySelector('#df-ac87943e-c60e-488f-a99d-aeaec7507fe9 button.colab-df-convert');\n",
              "        buttonEl.style.display =\n",
              "          google.colab.kernel.accessAllowed ? 'block' : 'none';\n",
              "\n",
              "        async function convertToInteractive(key) {\n",
              "          const element = document.querySelector('#df-ac87943e-c60e-488f-a99d-aeaec7507fe9');\n",
              "          const dataTable =\n",
              "            await google.colab.kernel.invokeFunction('convertToInteractive',\n",
              "                                                     [key], {});\n",
              "          if (!dataTable) return;\n",
              "\n",
              "          const docLinkHtml = 'Like what you see? Visit the ' +\n",
              "            '<a target=\"_blank\" href=https://colab.research.google.com/notebooks/data_table.ipynb>data table notebook</a>'\n",
              "            + ' to learn more about interactive tables.';\n",
              "          element.innerHTML = '';\n",
              "          dataTable['output_type'] = 'display_data';\n",
              "          await google.colab.output.renderOutput(dataTable, element);\n",
              "          const docLink = document.createElement('div');\n",
              "          docLink.innerHTML = docLinkHtml;\n",
              "          element.appendChild(docLink);\n",
              "        }\n",
              "      </script>\n",
              "    </div>\n",
              "  </div>\n",
              "  "
            ]
          },
          "metadata": {},
          "execution_count": 16
        }
      ]
    },
    {
      "cell_type": "code",
      "source": [
        "%%R\n",
        "ggplot(puzzle_activity_df, aes(x = puzzleRating))+\n",
        "  geom_boxplot()+\n",
        "  theme_minimal()+\n",
        "  theme(aspect.ratio = 1/8, \n",
        "        axis.text.y = element_blank(),\n",
        "        panel.grid.major.y = element_blank(),\n",
        "        panel.grid.minor.y = element_blank())"
      ],
      "metadata": {
        "colab": {
          "base_uri": "https://localhost:8080/",
          "height": 497
        },
        "id": "b_Lby0mDrbrs",
        "outputId": "211d1784-bee1-4b46-8152-2a576657dae5"
      },
      "id": "b_Lby0mDrbrs",
      "execution_count": null,
      "outputs": [
        {
          "output_type": "display_data",
          "data": {
            "image/png": "[encoded data removed]"
          },
          "metadata": {}
        }
      ]
    },
    {
      "cell_type": "markdown",
      "source": [
        "## Puzzle Length vs. Win Rate"
      ],
      "metadata": {
        "id": "43GseJCERX4i"
      },
      "id": "43GseJCERX4i"
    },
    {
      "cell_type": "code",
      "source": [
        "%%R\n",
        "ggplot(played_puzzles_dfr, aes(x = Puzzle_Length))+\n",
        "  geom_bar(aes(fill = win))+\n",
        "  theme_minimal()"
      ],
      "metadata": {
        "colab": {
          "base_uri": "https://localhost:8080/",
          "height": 497
        },
        "id": "BOK8FCaTZDtX",
        "outputId": "ce6d205d-45e2-4891-d702-dd2b284213c5"
      },
      "id": "BOK8FCaTZDtX",
      "execution_count": null,
      "outputs": [
        {
          "output_type": "display_data",
          "data": {
            "image/png": "[encoded data removed]"
          },
          "metadata": {}
        }
      ]
    },
    {
      "cell_type": "markdown",
      "source": [
        "Puzzle length doesn't seem to have a huge impact on my win rate, though there is a very weak negative correlation between them."
      ],
      "metadata": {
        "id": "Cs1vKb93ZvVQ"
      },
      "id": "Cs1vKb93ZvVQ"
    },
    {
      "cell_type": "markdown",
      "source": [
        "## Puzzle Theme vs. Win Rate"
      ],
      "metadata": {
        "id": "UAdNqybERUht"
      },
      "id": "UAdNqybERUht"
    },
    {
      "cell_type": "markdown",
      "source": [
        "Below, we process the `Themes` data from `played_puzzles_df` as related to `win` in a similar manner to what we did with `Themes` and `Rating` from `puzzles_df` in `lichess_db_puzzle_eda_rating.ipynb`.\n",
        "\n",
        "Note, below we have not included the `healthyMix` or `playerGames` themes because there are no puzzles in the database with those tags."
      ],
      "metadata": {
        "id": "DkSD8f1gBR72"
      },
      "id": "DkSD8f1gBR72"
    },
    {
      "cell_type": "code",
      "source": [
        "theme_categories = ['advancedPawn', 'advantage', 'anastasiaMate', 'arabianMate', 'attackingF2F7',\n",
        "                    'attraction', 'backRankMate', 'bishopEndgame', 'bodenMate', 'castling',\n",
        "                    'capturingDefender', 'crushing', 'doubleBishopMate', 'dovetailMate', 'equality',\n",
        "                    'kingsideAttack', 'clearance', 'defensiveMove', 'deflection', 'discoveredAttack',\n",
        "                    'doubleCheck', 'endgame', 'enPassant', 'exposedKing', 'fork',\n",
        "                    'hangingPiece', 'hookMate', 'interference', 'intermezzo', 'knightEndgame', \n",
        "                    'long', 'master', 'masterVsMaster', 'mate', 'mateIn1', \n",
        "                    'mateIn2', 'mateIn3', 'mateIn4', 'mateIn5', 'middlegame',\n",
        "                    'oneMove', 'opening', 'pawnEndgame', 'pin', 'promotion',\n",
        "                    'queenEndgame', 'queenRookEndgame', 'queensideAttack', 'quietMove', 'rookEndgame',\n",
        "                    'sacrifice', 'short', 'skewer', 'smotheredMate', 'superGM', \n",
        "                    'trappedPiece', 'underPromotion', 'veryLong', 'xRayAttack', 'zugzwang']"
      ],
      "metadata": {
        "id": "YjP6W-jhTv2E"
      },
      "execution_count": null,
      "outputs": [],
      "id": "YjP6W-jhTv2E"
    },
    {
      "cell_type": "code",
      "source": [
        "def theme_filter(theme):\n",
        "  #Set the search condition in `mask` to look for the string `theme` in the `Themes` column.\n",
        "  mask = played_puzzles_df['Themes'].str.contains(theme, case = True, na = False, regex = False)\n",
        "  #Return the dataframe containing only puzzles with the specified `theme` in `Themes` column. \n",
        "  #We cast `Opening_Tags` as a `string` to avoid encoding errors when passing to `R`.\n",
        "  return played_puzzles_df[mask].astype({'Opening_Tags': 'str'})"
      ],
      "metadata": {
        "id": "9ublEk7nHpDA"
      },
      "execution_count": null,
      "outputs": [],
      "id": "9ublEk7nHpDA"
    },
    {
      "cell_type": "code",
      "source": [
        "theme_win_list = []\n",
        "for theme in theme_categories:\n",
        "  theme_win_list.append(theme_filter(theme)['win'].tolist())"
      ],
      "metadata": {
        "id": "hDnV-DXJ3dBd"
      },
      "execution_count": null,
      "outputs": [],
      "id": "hDnV-DXJ3dBd"
    },
    {
      "cell_type": "code",
      "source": [
        "theme_win_dictionary = dict(zip(theme_categories, theme_win_list))"
      ],
      "metadata": {
        "id": "kEYzG09q3dBd"
      },
      "execution_count": null,
      "outputs": [],
      "id": "kEYzG09q3dBd"
    },
    {
      "cell_type": "code",
      "source": [
        "theme_win_df = pd.DataFrame.from_dict(theme_win_dictionary, orient = 'index')\n",
        "theme_win_df = theme_win_df.transpose()\n",
        "theme_win_df.head()"
      ],
      "metadata": {
        "colab": {
          "base_uri": "https://localhost:8080/",
          "height": 300
        },
        "outputId": "183d3dde-108e-458f-d678-37d4a4f86253",
        "id": "_0ihsWS83dBd"
      },
      "execution_count": null,
      "outputs": [
        {
          "output_type": "execute_result",
          "data": {
            "text/plain": [
              "  advancedPawn advantage anastasiaMate arabianMate attackingF2F7 attraction  \\\n",
              "0         True      True          True        True          True      False   \n",
              "1         True      True          None       False          True       True   \n",
              "2         True      True          None        True         False      False   \n",
              "3         True      True          None       False          True       True   \n",
              "4         True      True          None       False          True       True   \n",
              "\n",
              "  backRankMate bishopEndgame bodenMate castling  ... sacrifice short skewer  \\\n",
              "0         True          True      None     True  ...     False  True   True   \n",
              "1         True          True      None     None  ...      True  True   True   \n",
              "2        False         False      None     None  ...     False  True   True   \n",
              "3         True          True      None     None  ...      True  True  False   \n",
              "4         True          True      None     None  ...      True  True   True   \n",
              "\n",
              "  smotheredMate superGM trappedPiece underPromotion veryLong xRayAttack  \\\n",
              "0          None    True         True          False     True      False   \n",
              "1          None    None         True           None    False       True   \n",
              "2          None    None         True           None     True       True   \n",
              "3          None    None         True           None    False       True   \n",
              "4          None    None         True           None     True       True   \n",
              "\n",
              "  zugzwang  \n",
              "0     True  \n",
              "1    False  \n",
              "2    False  \n",
              "3     True  \n",
              "4    False  \n",
              "\n",
              "[5 rows x 60 columns]"
            ],
            "text/html": [
              "\n",
              "  <div id=\"df-411245d0-c683-497c-b07f-59342834b2d2\">\n",
              "    <div class=\"colab-df-container\">\n",
              "      <div>\n",
              "<style scoped>\n",
              "    .dataframe tbody tr th:only-of-type {\n",
              "        vertical-align: middle;\n",
              "    }\n",
              "\n",
              "    .dataframe tbody tr th {\n",
              "        vertical-align: top;\n",
              "    }\n",
              "\n",
              "    .dataframe thead th {\n",
              "        text-align: right;\n",
              "    }\n",
              "</style>\n",
              "<table border=\"1\" class=\"dataframe\">\n",
              "  <thead>\n",
              "    <tr style=\"text-align: right;\">\n",
              "      <th></th>\n",
              "      <th>advancedPawn</th>\n",
              "      <th>advantage</th>\n",
              "      <th>anastasiaMate</th>\n",
              "      <th>arabianMate</th>\n",
              "      <th>attackingF2F7</th>\n",
              "      <th>attraction</th>\n",
              "      <th>backRankMate</th>\n",
              "      <th>bishopEndgame</th>\n",
              "      <th>bodenMate</th>\n",
              "      <th>castling</th>\n",
              "      <th>...</th>\n",
              "      <th>sacrifice</th>\n",
              "      <th>short</th>\n",
              "      <th>skewer</th>\n",
              "      <th>smotheredMate</th>\n",
              "      <th>superGM</th>\n",
              "      <th>trappedPiece</th>\n",
              "      <th>underPromotion</th>\n",
              "      <th>veryLong</th>\n",
              "      <th>xRayAttack</th>\n",
              "      <th>zugzwang</th>\n",
              "    </tr>\n",
              "  </thead>\n",
              "  <tbody>\n",
              "    <tr>\n",
              "      <th>0</th>\n",
              "      <td>True</td>\n",
              "      <td>True</td>\n",
              "      <td>True</td>\n",
              "      <td>True</td>\n",
              "      <td>True</td>\n",
              "      <td>False</td>\n",
              "      <td>True</td>\n",
              "      <td>True</td>\n",
              "      <td>None</td>\n",
              "      <td>True</td>\n",
              "      <td>...</td>\n",
              "      <td>False</td>\n",
              "      <td>True</td>\n",
              "      <td>True</td>\n",
              "      <td>None</td>\n",
              "      <td>True</td>\n",
              "      <td>True</td>\n",
              "      <td>False</td>\n",
              "      <td>True</td>\n",
              "      <td>False</td>\n",
              "      <td>True</td>\n",
              "    </tr>\n",
              "    <tr>\n",
              "      <th>1</th>\n",
              "      <td>True</td>\n",
              "      <td>True</td>\n",
              "      <td>None</td>\n",
              "      <td>False</td>\n",
              "      <td>True</td>\n",
              "      <td>True</td>\n",
              "      <td>True</td>\n",
              "      <td>True</td>\n",
              "      <td>None</td>\n",
              "      <td>None</td>\n",
              "      <td>...</td>\n",
              "      <td>True</td>\n",
              "      <td>True</td>\n",
              "      <td>True</td>\n",
              "      <td>None</td>\n",
              "      <td>None</td>\n",
              "      <td>True</td>\n",
              "      <td>None</td>\n",
              "      <td>False</td>\n",
              "      <td>True</td>\n",
              "      <td>False</td>\n",
              "    </tr>\n",
              "    <tr>\n",
              "      <th>2</th>\n",
              "      <td>True</td>\n",
              "      <td>True</td>\n",
              "      <td>None</td>\n",
              "      <td>True</td>\n",
              "      <td>False</td>\n",
              "      <td>False</td>\n",
              "      <td>False</td>\n",
              "      <td>False</td>\n",
              "      <td>None</td>\n",
              "      <td>None</td>\n",
              "      <td>...</td>\n",
              "      <td>False</td>\n",
              "      <td>True</td>\n",
              "      <td>True</td>\n",
              "      <td>None</td>\n",
              "      <td>None</td>\n",
              "      <td>True</td>\n",
              "      <td>None</td>\n",
              "      <td>True</td>\n",
              "      <td>True</td>\n",
              "      <td>False</td>\n",
              "    </tr>\n",
              "    <tr>\n",
              "      <th>3</th>\n",
              "      <td>True</td>\n",
              "      <td>True</td>\n",
              "      <td>None</td>\n",
              "      <td>False</td>\n",
              "      <td>True</td>\n",
              "      <td>True</td>\n",
              "      <td>True</td>\n",
              "      <td>True</td>\n",
              "      <td>None</td>\n",
              "      <td>None</td>\n",
              "      <td>...</td>\n",
              "      <td>True</td>\n",
              "      <td>True</td>\n",
              "      <td>False</td>\n",
              "      <td>None</td>\n",
              "      <td>None</td>\n",
              "      <td>True</td>\n",
              "      <td>None</td>\n",
              "      <td>False</td>\n",
              "      <td>True</td>\n",
              "      <td>True</td>\n",
              "    </tr>\n",
              "    <tr>\n",
              "      <th>4</th>\n",
              "      <td>True</td>\n",
              "      <td>True</td>\n",
              "      <td>None</td>\n",
              "      <td>False</td>\n",
              "      <td>True</td>\n",
              "      <td>True</td>\n",
              "      <td>True</td>\n",
              "      <td>True</td>\n",
              "      <td>None</td>\n",
              "      <td>None</td>\n",
              "      <td>...</td>\n",
              "      <td>True</td>\n",
              "      <td>True</td>\n",
              "      <td>True</td>\n",
              "      <td>None</td>\n",
              "      <td>None</td>\n",
              "      <td>True</td>\n",
              "      <td>None</td>\n",
              "      <td>True</td>\n",
              "      <td>True</td>\n",
              "      <td>False</td>\n",
              "    </tr>\n",
              "  </tbody>\n",
              "</table>\n",
              "<p>5 rows × 60 columns</p>\n",
              "</div>\n",
              "      <button class=\"colab-df-convert\" onclick=\"convertToInteractive('df-411245d0-c683-497c-b07f-59342834b2d2')\"\n",
              "              title=\"Convert this dataframe to an interactive table.\"\n",
              "              style=\"display:none;\">\n",
              "        \n",
              "  <svg xmlns=\"http://www.w3.org/2000/svg\" height=\"24px\"viewBox=\"0 0 24 24\"\n",
              "       width=\"24px\">\n",
              "    <path d=\"M0 0h24v24H0V0z\" fill=\"none\"/>\n",
              "    <path d=\"M18.56 5.44l.94 2.06.94-2.06 2.06-.94-2.06-.94-.94-2.06-.94 2.06-2.06.94zm-11 1L8.5 8.5l.94-2.06 2.06-.94-2.06-.94L8.5 2.5l-.94 2.06-2.06.94zm10 10l.94 2.06.94-2.06 2.06-.94-2.06-.94-.94-2.06-.94 2.06-2.06.94z\"/><path d=\"M17.41 7.96l-1.37-1.37c-.4-.4-.92-.59-1.43-.59-.52 0-1.04.2-1.43.59L10.3 9.45l-7.72 7.72c-.78.78-.78 2.05 0 2.83L4 21.41c.39.39.9.59 1.41.59.51 0 1.02-.2 1.41-.59l7.78-7.78 2.81-2.81c.8-.78.8-2.07 0-2.86zM5.41 20L4 18.59l7.72-7.72 1.47 1.35L5.41 20z\"/>\n",
              "  </svg>\n",
              "      </button>\n",
              "      \n",
              "  <style>\n",
              "    .colab-df-container {\n",
              "      display:flex;\n",
              "      flex-wrap:wrap;\n",
              "      gap: 12px;\n",
              "    }\n",
              "\n",
              "    .colab-df-convert {\n",
              "      background-color: #E8F0FE;\n",
              "      border: none;\n",
              "      border-radius: 50%;\n",
              "      cursor: pointer;\n",
              "      display: none;\n",
              "      fill: #1967D2;\n",
              "      height: 32px;\n",
              "      padding: 0 0 0 0;\n",
              "      width: 32px;\n",
              "    }\n",
              "\n",
              "    .colab-df-convert:hover {\n",
              "      background-color: #E2EBFA;\n",
              "      box-shadow: 0px 1px 2px rgba(60, 64, 67, 0.3), 0px 1px 3px 1px rgba(60, 64, 67, 0.15);\n",
              "      fill: #174EA6;\n",
              "    }\n",
              "\n",
              "    [theme=dark] .colab-df-convert {\n",
              "      background-color: #3B4455;\n",
              "      fill: #D2E3FC;\n",
              "    }\n",
              "\n",
              "    [theme=dark] .colab-df-convert:hover {\n",
              "      background-color: #434B5C;\n",
              "      box-shadow: 0px 1px 3px 1px rgba(0, 0, 0, 0.15);\n",
              "      filter: drop-shadow(0px 1px 2px rgba(0, 0, 0, 0.3));\n",
              "      fill: #FFFFFF;\n",
              "    }\n",
              "  </style>\n",
              "\n",
              "      <script>\n",
              "        const buttonEl =\n",
              "          document.querySelector('#df-411245d0-c683-497c-b07f-59342834b2d2 button.colab-df-convert');\n",
              "        buttonEl.style.display =\n",
              "          google.colab.kernel.accessAllowed ? 'block' : 'none';\n",
              "\n",
              "        async function convertToInteractive(key) {\n",
              "          const element = document.querySelector('#df-411245d0-c683-497c-b07f-59342834b2d2');\n",
              "          const dataTable =\n",
              "            await google.colab.kernel.invokeFunction('convertToInteractive',\n",
              "                                                     [key], {});\n",
              "          if (!dataTable) return;\n",
              "\n",
              "          const docLinkHtml = 'Like what you see? Visit the ' +\n",
              "            '<a target=\"_blank\" href=https://colab.research.google.com/notebooks/data_table.ipynb>data table notebook</a>'\n",
              "            + ' to learn more about interactive tables.';\n",
              "          element.innerHTML = '';\n",
              "          dataTable['output_type'] = 'display_data';\n",
              "          await google.colab.output.renderOutput(dataTable, element);\n",
              "          const docLink = document.createElement('div');\n",
              "          docLink.innerHTML = docLinkHtml;\n",
              "          element.appendChild(docLink);\n",
              "        }\n",
              "      </script>\n",
              "    </div>\n",
              "  </div>\n",
              "  "
            ]
          },
          "metadata": {},
          "execution_count": 122
        }
      ],
      "id": "_0ihsWS83dBd"
    },
    {
      "cell_type": "code",
      "source": [
        "melted_theme_win_df = theme_win_df.melt(id_vars = None, \n",
        "                                                var_name = 'Theme', \n",
        "                                                value_name = 'win')\n",
        "\n",
        "melted_theme_win_df.head()"
      ],
      "metadata": {
        "colab": {
          "base_uri": "https://localhost:8080/",
          "height": 206
        },
        "id": "bPmwCmyg3zdu",
        "outputId": "db2a0319-30c6-4c79-99e6-c1b2e668ca62"
      },
      "execution_count": null,
      "outputs": [
        {
          "output_type": "execute_result",
          "data": {
            "text/plain": [
              "          Theme   win\n",
              "0  advancedPawn  True\n",
              "1  advancedPawn  True\n",
              "2  advancedPawn  True\n",
              "3  advancedPawn  True\n",
              "4  advancedPawn  True"
            ],
            "text/html": [
              "\n",
              "  <div id=\"df-5ac192e0-ea89-4dca-8eb5-a4ea3fbb868e\">\n",
              "    <div class=\"colab-df-container\">\n",
              "      <div>\n",
              "<style scoped>\n",
              "    .dataframe tbody tr th:only-of-type {\n",
              "        vertical-align: middle;\n",
              "    }\n",
              "\n",
              "    .dataframe tbody tr th {\n",
              "        vertical-align: top;\n",
              "    }\n",
              "\n",
              "    .dataframe thead th {\n",
              "        text-align: right;\n",
              "    }\n",
              "</style>\n",
              "<table border=\"1\" class=\"dataframe\">\n",
              "  <thead>\n",
              "    <tr style=\"text-align: right;\">\n",
              "      <th></th>\n",
              "      <th>Theme</th>\n",
              "      <th>win</th>\n",
              "    </tr>\n",
              "  </thead>\n",
              "  <tbody>\n",
              "    <tr>\n",
              "      <th>0</th>\n",
              "      <td>advancedPawn</td>\n",
              "      <td>True</td>\n",
              "    </tr>\n",
              "    <tr>\n",
              "      <th>1</th>\n",
              "      <td>advancedPawn</td>\n",
              "      <td>True</td>\n",
              "    </tr>\n",
              "    <tr>\n",
              "      <th>2</th>\n",
              "      <td>advancedPawn</td>\n",
              "      <td>True</td>\n",
              "    </tr>\n",
              "    <tr>\n",
              "      <th>3</th>\n",
              "      <td>advancedPawn</td>\n",
              "      <td>True</td>\n",
              "    </tr>\n",
              "    <tr>\n",
              "      <th>4</th>\n",
              "      <td>advancedPawn</td>\n",
              "      <td>True</td>\n",
              "    </tr>\n",
              "  </tbody>\n",
              "</table>\n",
              "</div>\n",
              "      <button class=\"colab-df-convert\" onclick=\"convertToInteractive('df-5ac192e0-ea89-4dca-8eb5-a4ea3fbb868e')\"\n",
              "              title=\"Convert this dataframe to an interactive table.\"\n",
              "              style=\"display:none;\">\n",
              "        \n",
              "  <svg xmlns=\"http://www.w3.org/2000/svg\" height=\"24px\"viewBox=\"0 0 24 24\"\n",
              "       width=\"24px\">\n",
              "    <path d=\"M0 0h24v24H0V0z\" fill=\"none\"/>\n",
              "    <path d=\"M18.56 5.44l.94 2.06.94-2.06 2.06-.94-2.06-.94-.94-2.06-.94 2.06-2.06.94zm-11 1L8.5 8.5l.94-2.06 2.06-.94-2.06-.94L8.5 2.5l-.94 2.06-2.06.94zm10 10l.94 2.06.94-2.06 2.06-.94-2.06-.94-.94-2.06-.94 2.06-2.06.94z\"/><path d=\"M17.41 7.96l-1.37-1.37c-.4-.4-.92-.59-1.43-.59-.52 0-1.04.2-1.43.59L10.3 9.45l-7.72 7.72c-.78.78-.78 2.05 0 2.83L4 21.41c.39.39.9.59 1.41.59.51 0 1.02-.2 1.41-.59l7.78-7.78 2.81-2.81c.8-.78.8-2.07 0-2.86zM5.41 20L4 18.59l7.72-7.72 1.47 1.35L5.41 20z\"/>\n",
              "  </svg>\n",
              "      </button>\n",
              "      \n",
              "  <style>\n",
              "    .colab-df-container {\n",
              "      display:flex;\n",
              "      flex-wrap:wrap;\n",
              "      gap: 12px;\n",
              "    }\n",
              "\n",
              "    .colab-df-convert {\n",
              "      background-color: #E8F0FE;\n",
              "      border: none;\n",
              "      border-radius: 50%;\n",
              "      cursor: pointer;\n",
              "      display: none;\n",
              "      fill: #1967D2;\n",
              "      height: 32px;\n",
              "      padding: 0 0 0 0;\n",
              "      width: 32px;\n",
              "    }\n",
              "\n",
              "    .colab-df-convert:hover {\n",
              "      background-color: #E2EBFA;\n",
              "      box-shadow: 0px 1px 2px rgba(60, 64, 67, 0.3), 0px 1px 3px 1px rgba(60, 64, 67, 0.15);\n",
              "      fill: #174EA6;\n",
              "    }\n",
              "\n",
              "    [theme=dark] .colab-df-convert {\n",
              "      background-color: #3B4455;\n",
              "      fill: #D2E3FC;\n",
              "    }\n",
              "\n",
              "    [theme=dark] .colab-df-convert:hover {\n",
              "      background-color: #434B5C;\n",
              "      box-shadow: 0px 1px 3px 1px rgba(0, 0, 0, 0.15);\n",
              "      filter: drop-shadow(0px 1px 2px rgba(0, 0, 0, 0.3));\n",
              "      fill: #FFFFFF;\n",
              "    }\n",
              "  </style>\n",
              "\n",
              "      <script>\n",
              "        const buttonEl =\n",
              "          document.querySelector('#df-5ac192e0-ea89-4dca-8eb5-a4ea3fbb868e button.colab-df-convert');\n",
              "        buttonEl.style.display =\n",
              "          google.colab.kernel.accessAllowed ? 'block' : 'none';\n",
              "\n",
              "        async function convertToInteractive(key) {\n",
              "          const element = document.querySelector('#df-5ac192e0-ea89-4dca-8eb5-a4ea3fbb868e');\n",
              "          const dataTable =\n",
              "            await google.colab.kernel.invokeFunction('convertToInteractive',\n",
              "                                                     [key], {});\n",
              "          if (!dataTable) return;\n",
              "\n",
              "          const docLinkHtml = 'Like what you see? Visit the ' +\n",
              "            '<a target=\"_blank\" href=https://colab.research.google.com/notebooks/data_table.ipynb>data table notebook</a>'\n",
              "            + ' to learn more about interactive tables.';\n",
              "          element.innerHTML = '';\n",
              "          dataTable['output_type'] = 'display_data';\n",
              "          await google.colab.output.renderOutput(dataTable, element);\n",
              "          const docLink = document.createElement('div');\n",
              "          docLink.innerHTML = docLinkHtml;\n",
              "          element.appendChild(docLink);\n",
              "        }\n",
              "      </script>\n",
              "    </div>\n",
              "  </div>\n",
              "  "
            ]
          },
          "metadata": {},
          "execution_count": 124
        }
      ],
      "id": "bPmwCmyg3zdu"
    },
    {
      "cell_type": "markdown",
      "source": [
        "Remove the missing `win` values."
      ],
      "metadata": {
        "id": "uleEfrLYCagH"
      },
      "id": "uleEfrLYCagH"
    },
    {
      "cell_type": "code",
      "source": [
        "melted_theme_win_df.dropna(inplace = True)"
      ],
      "metadata": {
        "id": "H7n76J04CKV4"
      },
      "id": "H7n76J04CKV4",
      "execution_count": null,
      "outputs": []
    },
    {
      "cell_type": "markdown",
      "source": [
        "Push to `R` namespace."
      ],
      "metadata": {
        "id": "OxiyhV5_ChFC"
      },
      "id": "OxiyhV5_ChFC"
    },
    {
      "cell_type": "code",
      "source": [
        "%Rpush melted_theme_win_df"
      ],
      "metadata": {
        "colab": {
          "base_uri": "https://localhost:8080/"
        },
        "id": "oqfuDlTLBIcY",
        "outputId": "9296e3f3-bb38-41d8-9429-5a6bca2daf75"
      },
      "id": "oqfuDlTLBIcY",
      "execution_count": null,
      "outputs": [
        {
          "output_type": "stream",
          "name": "stderr",
          "text": [
            "/usr/local/lib/python3.10/dist-packages/rpy2/robjects/pandas2ri.py:54: FutureWarning: iteritems is deprecated and will be removed in a future version. Use .items instead.\n",
            "  for name, values in obj.iteritems():\n"
          ]
        }
      ]
    },
    {
      "cell_type": "code",
      "source": [
        "%%R\n",
        "ggplot(melted_theme_win_df, \n",
        "       aes(y = reorder(Theme, win, FUN = length)))+\n",
        "  labs(y = \"Theme\")+\n",
        "  geom_bar(aes(fill = win))+\n",
        "  theme_minimal()"
      ],
      "metadata": {
        "colab": {
          "base_uri": "https://localhost:8080/",
          "height": 497
        },
        "id": "O3hd1ZsnBntC",
        "outputId": "2b3fcfba-f24e-4573-e835-3c5774aa1470"
      },
      "id": "O3hd1ZsnBntC",
      "execution_count": null,
      "outputs": [
        {
          "output_type": "display_data",
          "data": {
            "image/png": "[encoded data removed]"
          },
          "metadata": {}
        }
      ]
    },
    {
      "cell_type": "markdown",
      "source": [
        "I should probably work on longer puzzles and endgames."
      ],
      "metadata": {
        "id": "f-9XLfzREa6d"
      },
      "id": "f-9XLfzREa6d"
    },
    {
      "cell_type": "markdown",
      "source": [
        "## Opening vs. Win Rate"
      ],
      "metadata": {
        "id": "eFczSk-ARbFe"
      },
      "id": "eFczSk-ARbFe"
    },
    {
      "cell_type": "markdown",
      "source": [
        "Below, we process the `Opening_Tags` data from `played_puzzles_df` with respect to `win` in a similar manner to what we did with `Opening_Tags` and `Rating` from `puzzles_df` in `lichess_db_puzzle_eda_rating.ipynb`."
      ],
      "metadata": {
        "id": "Tj5WLjba_MO3"
      },
      "id": "Tj5WLjba_MO3"
    },
    {
      "cell_type": "code",
      "source": [
        "opening_played_puzzles_df = played_puzzles_df.dropna()\n",
        "\n",
        "opening_win_df = opening_played_puzzles_df[['win','Opening_Tags']]\n",
        "\n",
        "opening_win_df['Opening_Tags'] = opening_win_df['Opening_Tags'].map(lambda x: x.split()[0])\n",
        "\n",
        "opening_win_df.head()"
      ],
      "metadata": {
        "id": "ViPJDD7kZ8YC",
        "colab": {
          "base_uri": "https://localhost:8080/",
          "height": 330
        },
        "outputId": "59364b28-b4f6-41fc-8303-649b414558e3"
      },
      "id": "ViPJDD7kZ8YC",
      "execution_count": null,
      "outputs": [
        {
          "output_type": "stream",
          "name": "stderr",
          "text": [
            "<ipython-input-107-8f3d792ca2c1>:5: SettingWithCopyWarning: \n",
            "A value is trying to be set on a copy of a slice from a DataFrame.\n",
            "Try using .loc[row_indexer,col_indexer] = value instead\n",
            "\n",
            "See the caveats in the documentation: https://pandas.pydata.org/pandas-docs/stable/user_guide/indexing.html#returning-a-view-versus-a-copy\n",
            "  opening_win_df['Opening_Tags'] = opening_win_df['Opening_Tags'].map(lambda x: x.split()[0])\n"
          ]
        },
        {
          "output_type": "execute_result",
          "data": {
            "text/plain": [
              "        win      Opening_Tags\n",
              "06ASh  True    French_Defense\n",
              "07TTy  True  Sicilian_Defense\n",
              "0882c  True   English_Opening\n",
              "0F2a2  True    Indian_Defense\n",
              "0N7KX  True      Italian_Game"
            ],
            "text/html": [
              "\n",
              "  <div id=\"df-fbae6c82-aa27-4023-aff8-472810d2366e\">\n",
              "    <div class=\"colab-df-container\">\n",
              "      <div>\n",
              "<style scoped>\n",
              "    .dataframe tbody tr th:only-of-type {\n",
              "        vertical-align: middle;\n",
              "    }\n",
              "\n",
              "    .dataframe tbody tr th {\n",
              "        vertical-align: top;\n",
              "    }\n",
              "\n",
              "    .dataframe thead th {\n",
              "        text-align: right;\n",
              "    }\n",
              "</style>\n",
              "<table border=\"1\" class=\"dataframe\">\n",
              "  <thead>\n",
              "    <tr style=\"text-align: right;\">\n",
              "      <th></th>\n",
              "      <th>win</th>\n",
              "      <th>Opening_Tags</th>\n",
              "    </tr>\n",
              "  </thead>\n",
              "  <tbody>\n",
              "    <tr>\n",
              "      <th>06ASh</th>\n",
              "      <td>True</td>\n",
              "      <td>French_Defense</td>\n",
              "    </tr>\n",
              "    <tr>\n",
              "      <th>07TTy</th>\n",
              "      <td>True</td>\n",
              "      <td>Sicilian_Defense</td>\n",
              "    </tr>\n",
              "    <tr>\n",
              "      <th>0882c</th>\n",
              "      <td>True</td>\n",
              "      <td>English_Opening</td>\n",
              "    </tr>\n",
              "    <tr>\n",
              "      <th>0F2a2</th>\n",
              "      <td>True</td>\n",
              "      <td>Indian_Defense</td>\n",
              "    </tr>\n",
              "    <tr>\n",
              "      <th>0N7KX</th>\n",
              "      <td>True</td>\n",
              "      <td>Italian_Game</td>\n",
              "    </tr>\n",
              "  </tbody>\n",
              "</table>\n",
              "</div>\n",
              "      <button class=\"colab-df-convert\" onclick=\"convertToInteractive('df-fbae6c82-aa27-4023-aff8-472810d2366e')\"\n",
              "              title=\"Convert this dataframe to an interactive table.\"\n",
              "              style=\"display:none;\">\n",
              "        \n",
              "  <svg xmlns=\"http://www.w3.org/2000/svg\" height=\"24px\"viewBox=\"0 0 24 24\"\n",
              "       width=\"24px\">\n",
              "    <path d=\"M0 0h24v24H0V0z\" fill=\"none\"/>\n",
              "    <path d=\"M18.56 5.44l.94 2.06.94-2.06 2.06-.94-2.06-.94-.94-2.06-.94 2.06-2.06.94zm-11 1L8.5 8.5l.94-2.06 2.06-.94-2.06-.94L8.5 2.5l-.94 2.06-2.06.94zm10 10l.94 2.06.94-2.06 2.06-.94-2.06-.94-.94-2.06-.94 2.06-2.06.94z\"/><path d=\"M17.41 7.96l-1.37-1.37c-.4-.4-.92-.59-1.43-.59-.52 0-1.04.2-1.43.59L10.3 9.45l-7.72 7.72c-.78.78-.78 2.05 0 2.83L4 21.41c.39.39.9.59 1.41.59.51 0 1.02-.2 1.41-.59l7.78-7.78 2.81-2.81c.8-.78.8-2.07 0-2.86zM5.41 20L4 18.59l7.72-7.72 1.47 1.35L5.41 20z\"/>\n",
              "  </svg>\n",
              "      </button>\n",
              "      \n",
              "  <style>\n",
              "    .colab-df-container {\n",
              "      display:flex;\n",
              "      flex-wrap:wrap;\n",
              "      gap: 12px;\n",
              "    }\n",
              "\n",
              "    .colab-df-convert {\n",
              "      background-color: #E8F0FE;\n",
              "      border: none;\n",
              "      border-radius: 50%;\n",
              "      cursor: pointer;\n",
              "      display: none;\n",
              "      fill: #1967D2;\n",
              "      height: 32px;\n",
              "      padding: 0 0 0 0;\n",
              "      width: 32px;\n",
              "    }\n",
              "\n",
              "    .colab-df-convert:hover {\n",
              "      background-color: #E2EBFA;\n",
              "      box-shadow: 0px 1px 2px rgba(60, 64, 67, 0.3), 0px 1px 3px 1px rgba(60, 64, 67, 0.15);\n",
              "      fill: #174EA6;\n",
              "    }\n",
              "\n",
              "    [theme=dark] .colab-df-convert {\n",
              "      background-color: #3B4455;\n",
              "      fill: #D2E3FC;\n",
              "    }\n",
              "\n",
              "    [theme=dark] .colab-df-convert:hover {\n",
              "      background-color: #434B5C;\n",
              "      box-shadow: 0px 1px 3px 1px rgba(0, 0, 0, 0.15);\n",
              "      filter: drop-shadow(0px 1px 2px rgba(0, 0, 0, 0.3));\n",
              "      fill: #FFFFFF;\n",
              "    }\n",
              "  </style>\n",
              "\n",
              "      <script>\n",
              "        const buttonEl =\n",
              "          document.querySelector('#df-fbae6c82-aa27-4023-aff8-472810d2366e button.colab-df-convert');\n",
              "        buttonEl.style.display =\n",
              "          google.colab.kernel.accessAllowed ? 'block' : 'none';\n",
              "\n",
              "        async function convertToInteractive(key) {\n",
              "          const element = document.querySelector('#df-fbae6c82-aa27-4023-aff8-472810d2366e');\n",
              "          const dataTable =\n",
              "            await google.colab.kernel.invokeFunction('convertToInteractive',\n",
              "                                                     [key], {});\n",
              "          if (!dataTable) return;\n",
              "\n",
              "          const docLinkHtml = 'Like what you see? Visit the ' +\n",
              "            '<a target=\"_blank\" href=https://colab.research.google.com/notebooks/data_table.ipynb>data table notebook</a>'\n",
              "            + ' to learn more about interactive tables.';\n",
              "          element.innerHTML = '';\n",
              "          dataTable['output_type'] = 'display_data';\n",
              "          await google.colab.output.renderOutput(dataTable, element);\n",
              "          const docLink = document.createElement('div');\n",
              "          docLink.innerHTML = docLinkHtml;\n",
              "          element.appendChild(docLink);\n",
              "        }\n",
              "      </script>\n",
              "    </div>\n",
              "  </div>\n",
              "  "
            ]
          },
          "metadata": {},
          "execution_count": 107
        }
      ]
    },
    {
      "cell_type": "code",
      "source": [
        "%Rpush opening_win_df"
      ],
      "metadata": {
        "colab": {
          "base_uri": "https://localhost:8080/"
        },
        "id": "PvX_i6Ck_V3A",
        "outputId": "a74806e8-ea95-4bc9-fc45-50e57ebb7160"
      },
      "id": "PvX_i6Ck_V3A",
      "execution_count": null,
      "outputs": [
        {
          "output_type": "stream",
          "name": "stderr",
          "text": [
            "/usr/local/lib/python3.10/dist-packages/rpy2/robjects/pandas2ri.py:54: FutureWarning: iteritems is deprecated and will be removed in a future version. Use .items instead.\n",
            "  for name, values in obj.iteritems():\n"
          ]
        }
      ]
    },
    {
      "cell_type": "code",
      "source": [
        "%%R -h 16 -w 8 -u in\n",
        "ggplot(opening_win_df, \n",
        "       aes(y = reorder(Opening_Tags, win, FUN = length)))+\n",
        "  labs(y = \"Opening\")+\n",
        "  geom_bar(aes(fill = win))+\n",
        "  theme_minimal()"
      ],
      "metadata": {
        "colab": {
          "base_uri": "https://localhost:8080/",
          "height": 1000
        },
        "id": "3_0zQza3_Ykd",
        "outputId": "d11f9dfa-584d-4e48-a597-e8db00b9ff2d"
      },
      "id": "3_0zQza3_Ykd",
      "execution_count": null,
      "outputs": [
        {
          "output_type": "display_data",
          "data": {
            "image/png": "[encoded data removed]"
          },
          "metadata": {}
        }
      ]
    },
    {
      "cell_type": "markdown",
      "source": [
        "Perhaps I should consider playing the `French_Defense` more often."
      ],
      "metadata": {
        "id": "3vUqpJu1AjPb"
      },
      "id": "3vUqpJu1AjPb"
    }
  ],
  "metadata": {
    "kernelspec": {
      "display_name": "Python 3 (ipykernel)",
      "language": "python",
      "name": "python3"
    },
    "language_info": {
      "codemirror_mode": {
        "name": "ipython",
        "version": 3
      },
      "file_extension": ".py",
      "mimetype": "text/x-python",
      "name": "python",
      "nbconvert_exporter": "python",
      "pygments_lexer": "ipython3",
      "version": "3.9.13"
    },
    "colab": {
      "provenance": [],
      "toc_visible": true
    }
  },
  "nbformat": 4,
  "nbformat_minor": 5
}